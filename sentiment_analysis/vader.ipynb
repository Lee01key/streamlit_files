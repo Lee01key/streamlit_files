{
 "cells": [
  {
   "cell_type": "markdown",
   "metadata": {},
   "source": [
    "# VADER"
   ]
  },
  {
   "cell_type": "code",
   "execution_count": 2,
   "metadata": {},
   "outputs": [],
   "source": [
    "import matplotlib.pyplot as plt\n",
    "import pandas as pd\n",
    "import seaborn as sns\n",
    "import numpy as np\n",
    "import re\n",
    "\n",
    "from nltk.sentiment.vader import SentimentIntensityAnalyzer\n",
    "\n",
    "\n",
    "# easier to see full text with a bigger maxwidth:\n",
    "pd.options.display.max_colwidth = 200"
   ]
  },
  {
   "cell_type": "code",
   "execution_count": 3,
   "metadata": {},
   "outputs": [
    {
     "data": {
      "text/html": [
       "<div>\n",
       "<style scoped>\n",
       "    .dataframe tbody tr th:only-of-type {\n",
       "        vertical-align: middle;\n",
       "    }\n",
       "\n",
       "    .dataframe tbody tr th {\n",
       "        vertical-align: top;\n",
       "    }\n",
       "\n",
       "    .dataframe thead th {\n",
       "        text-align: right;\n",
       "    }\n",
       "</style>\n",
       "<table border=\"1\" class=\"dataframe\">\n",
       "  <thead>\n",
       "    <tr style=\"text-align: right;\">\n",
       "      <th></th>\n",
       "      <th>Rdate</th>\n",
       "      <th>comment</th>\n",
       "      <th>condition</th>\n",
       "      <th>drug</th>\n",
       "      <th>easeofuse</th>\n",
       "      <th>effectiveness</th>\n",
       "      <th>helpful</th>\n",
       "      <th>reviewer</th>\n",
       "      <th>satisfaction</th>\n",
       "    </tr>\n",
       "  </thead>\n",
       "  <tbody>\n",
       "    <tr>\n",
       "      <th>0</th>\n",
       "      <td>9/19/07 9:03</td>\n",
       "      <td>The medication has helped me keep my 2 month sugarlevel between 5.0-6.2 mmol/L\\r\\n(90- 105 mg/dl)</td>\n",
       "      <td>Type 2 Diabetes Mellitus</td>\n",
       "      <td>metformin oral</td>\n",
       "      <td>5</td>\n",
       "      <td>4</td>\n",
       "      <td>2</td>\n",
       "      <td>bjorn, 65-74 Male  on Treatment for 2 to less than 5 years (Patient)</td>\n",
       "      <td>3</td>\n",
       "    </tr>\n",
       "    <tr>\n",
       "      <th>2</th>\n",
       "      <td>4/24/11 8:59</td>\n",
       "      <td>I have just started to take this drug for a starters to if it will help me in anyway to help to control my diabetes.</td>\n",
       "      <td>Type 2 Diabetes Mellitus</td>\n",
       "      <td>Kombiglyze XR oral</td>\n",
       "      <td>5</td>\n",
       "      <td>4</td>\n",
       "      <td>3</td>\n",
       "      <td>jarele, 25-34 Male  on Treatment for less than 1 month (Patient)</td>\n",
       "      <td>4</td>\n",
       "    </tr>\n",
       "    <tr>\n",
       "      <th>5</th>\n",
       "      <td>3/25/15 12:34</td>\n",
       "      <td>Doesn't work. Cough is intolerable. Dosing doesn't make sense</td>\n",
       "      <td>Type 2 Diabetes Mellitus</td>\n",
       "      <td>Afrezza inhalation</td>\n",
       "      <td>1</td>\n",
       "      <td>1</td>\n",
       "      <td>0</td>\n",
       "      <td>Brewman , 55-64 Male  on Treatment for 1 to 6 months (Patient)</td>\n",
       "      <td>1</td>\n",
       "    </tr>\n",
       "    <tr>\n",
       "      <th>8</th>\n",
       "      <td>9/27/07 11:30</td>\n",
       "      <td>Had been on glucophage for 2 years but had to stop due to diarrhea problems Then put on glumetza and have started to have bowel problems but not sure if it is the medicine or not.</td>\n",
       "      <td>Type 2 Diabetes Mellitus</td>\n",
       "      <td>Glumetza oral</td>\n",
       "      <td>5</td>\n",
       "      <td>3</td>\n",
       "      <td>1</td>\n",
       "      <td>maureen, 65-74 Female  on Treatment for 6 months to less than 1 year (Patient)</td>\n",
       "      <td>3</td>\n",
       "    </tr>\n",
       "    <tr>\n",
       "      <th>12</th>\n",
       "      <td>6/2/14 23:57</td>\n",
       "      <td>Farxiga is the first oral med to work for me.  As a side benefit, I am losing weight without even trying.   I have read the cautions and I don't fall into the groups that should not take this.\\r\\n</td>\n",
       "      <td>Type 2 Diabetes Mellitus</td>\n",
       "      <td>Farxiga oral</td>\n",
       "      <td>5</td>\n",
       "      <td>5</td>\n",
       "      <td>3</td>\n",
       "      <td>jumikja, 55-64 Female  on Treatment for 1 to 6 months (Patient)</td>\n",
       "      <td>5</td>\n",
       "    </tr>\n",
       "  </tbody>\n",
       "</table>\n",
       "</div>"
      ],
      "text/plain": [
       "            Rdate  \\\n",
       "0    9/19/07 9:03   \n",
       "2    4/24/11 8:59   \n",
       "5   3/25/15 12:34   \n",
       "8   9/27/07 11:30   \n",
       "12   6/2/14 23:57   \n",
       "\n",
       "                                                                                                                                                                                                 comment  \\\n",
       "0                                                                                                      The medication has helped me keep my 2 month sugarlevel between 5.0-6.2 mmol/L\\r\\n(90- 105 mg/dl)   \n",
       "2                                                                                   I have just started to take this drug for a starters to if it will help me in anyway to help to control my diabetes.   \n",
       "5                                                                                                                                         Doesn't work. Cough is intolerable. Dosing doesn't make sense    \n",
       "8                    Had been on glucophage for 2 years but had to stop due to diarrhea problems Then put on glumetza and have started to have bowel problems but not sure if it is the medicine or not.   \n",
       "12  Farxiga is the first oral med to work for me.  As a side benefit, I am losing weight without even trying.   I have read the cautions and I don't fall into the groups that should not take this.\\r\\n   \n",
       "\n",
       "                   condition                drug  easeofuse  effectiveness  \\\n",
       "0   Type 2 Diabetes Mellitus      metformin oral          5              4   \n",
       "2   Type 2 Diabetes Mellitus  Kombiglyze XR oral          5              4   \n",
       "5   Type 2 Diabetes Mellitus  Afrezza inhalation          1              1   \n",
       "8   Type 2 Diabetes Mellitus       Glumetza oral          5              3   \n",
       "12  Type 2 Diabetes Mellitus        Farxiga oral          5              5   \n",
       "\n",
       "    helpful  \\\n",
       "0         2   \n",
       "2         3   \n",
       "5         0   \n",
       "8         1   \n",
       "12        3   \n",
       "\n",
       "                                                                          reviewer  \\\n",
       "0             bjorn, 65-74 Male  on Treatment for 2 to less than 5 years (Patient)   \n",
       "2                 jarele, 25-34 Male  on Treatment for less than 1 month (Patient)   \n",
       "5                   Brewman , 55-64 Male  on Treatment for 1 to 6 months (Patient)   \n",
       "8   maureen, 65-74 Female  on Treatment for 6 months to less than 1 year (Patient)   \n",
       "12                 jumikja, 55-64 Female  on Treatment for 1 to 6 months (Patient)   \n",
       "\n",
       "    satisfaction  \n",
       "0              3  \n",
       "2              4  \n",
       "5              1  \n",
       "8              3  \n",
       "12             5  "
      ]
     },
     "execution_count": 3,
     "metadata": {},
     "output_type": "execute_result"
    }
   ],
   "source": [
    "df = pd.read_csv('../data/original/webmd_reviews.csv')\n",
    "df.dropna(inplace = True)\n",
    "df.head()"
   ]
  },
  {
   "cell_type": "code",
   "execution_count": 4,
   "metadata": {},
   "outputs": [
    {
     "data": {
      "text/plain": [
       "Rdate            0\n",
       "comment          0\n",
       "condition        0\n",
       "drug             0\n",
       "easeofuse        0\n",
       "effectiveness    0\n",
       "helpful          0\n",
       "reviewer         0\n",
       "satisfaction     0\n",
       "dtype: int64"
      ]
     },
     "execution_count": 4,
     "metadata": {},
     "output_type": "execute_result"
    }
   ],
   "source": [
    "df.isna().sum()"
   ]
  },
  {
   "cell_type": "code",
   "execution_count": 5,
   "metadata": {},
   "outputs": [
    {
     "data": {
      "text/plain": [
       "(931, 9)"
      ]
     },
     "execution_count": 5,
     "metadata": {},
     "output_type": "execute_result"
    }
   ],
   "source": [
    "df.shape"
   ]
  },
  {
   "cell_type": "code",
   "execution_count": 6,
   "metadata": {},
   "outputs": [],
   "source": [
    "df_vader = df[['comment', 'satisfaction']]"
   ]
  },
  {
   "cell_type": "code",
   "execution_count": 7,
   "metadata": {},
   "outputs": [
    {
     "data": {
      "text/html": [
       "<div>\n",
       "<style scoped>\n",
       "    .dataframe tbody tr th:only-of-type {\n",
       "        vertical-align: middle;\n",
       "    }\n",
       "\n",
       "    .dataframe tbody tr th {\n",
       "        vertical-align: top;\n",
       "    }\n",
       "\n",
       "    .dataframe thead th {\n",
       "        text-align: right;\n",
       "    }\n",
       "</style>\n",
       "<table border=\"1\" class=\"dataframe\">\n",
       "  <thead>\n",
       "    <tr style=\"text-align: right;\">\n",
       "      <th></th>\n",
       "      <th>comment</th>\n",
       "      <th>satisfaction</th>\n",
       "    </tr>\n",
       "  </thead>\n",
       "  <tbody>\n",
       "    <tr>\n",
       "      <th>0</th>\n",
       "      <td>The medication has helped me keep my 2 month sugarlevel between 5.0-6.2 mmol/L\\r\\n(90- 105 mg/dl)</td>\n",
       "      <td>3</td>\n",
       "    </tr>\n",
       "    <tr>\n",
       "      <th>2</th>\n",
       "      <td>I have just started to take this drug for a starters to if it will help me in anyway to help to control my diabetes.</td>\n",
       "      <td>4</td>\n",
       "    </tr>\n",
       "    <tr>\n",
       "      <th>5</th>\n",
       "      <td>Doesn't work. Cough is intolerable. Dosing doesn't make sense</td>\n",
       "      <td>1</td>\n",
       "    </tr>\n",
       "    <tr>\n",
       "      <th>8</th>\n",
       "      <td>Had been on glucophage for 2 years but had to stop due to diarrhea problems Then put on glumetza and have started to have bowel problems but not sure if it is the medicine or not.</td>\n",
       "      <td>3</td>\n",
       "    </tr>\n",
       "    <tr>\n",
       "      <th>12</th>\n",
       "      <td>Farxiga is the first oral med to work for me.  As a side benefit, I am losing weight without even trying.   I have read the cautions and I don't fall into the groups that should not take this.\\r\\n</td>\n",
       "      <td>5</td>\n",
       "    </tr>\n",
       "  </tbody>\n",
       "</table>\n",
       "</div>"
      ],
      "text/plain": [
       "                                                                                                                                                                                                 comment  \\\n",
       "0                                                                                                      The medication has helped me keep my 2 month sugarlevel between 5.0-6.2 mmol/L\\r\\n(90- 105 mg/dl)   \n",
       "2                                                                                   I have just started to take this drug for a starters to if it will help me in anyway to help to control my diabetes.   \n",
       "5                                                                                                                                         Doesn't work. Cough is intolerable. Dosing doesn't make sense    \n",
       "8                    Had been on glucophage for 2 years but had to stop due to diarrhea problems Then put on glumetza and have started to have bowel problems but not sure if it is the medicine or not.   \n",
       "12  Farxiga is the first oral med to work for me.  As a side benefit, I am losing weight without even trying.   I have read the cautions and I don't fall into the groups that should not take this.\\r\\n   \n",
       "\n",
       "    satisfaction  \n",
       "0              3  \n",
       "2              4  \n",
       "5              1  \n",
       "8              3  \n",
       "12             5  "
      ]
     },
     "execution_count": 7,
     "metadata": {},
     "output_type": "execute_result"
    }
   ],
   "source": [
    "df_vader.head()"
   ]
  },
  {
   "cell_type": "code",
   "execution_count": 8,
   "metadata": {},
   "outputs": [
    {
     "data": {
      "image/png": "[encoded data removed]",
      "text/plain": [
       "<Figure size 432x288 with 1 Axes>"
      ]
     },
     "metadata": {
      "needs_background": "light"
     },
     "output_type": "display_data"
    }
   ],
   "source": [
    "plot_pic = df_vader['satisfaction'].value_counts()\n",
    "plot_pic = plot_pic.reindex([1, 2, 3, 4, 5])\n",
    "plot_pic.plot.bar();"
   ]
  },
  {
   "cell_type": "markdown",
   "metadata": {},
   "source": [
    "Remove URLs"
   ]
  },
  {
   "cell_type": "code",
   "execution_count": 9,
   "metadata": {},
   "outputs": [],
   "source": [
    "def remove_urls(text):\n",
    "    url_pattern = re.compile(r'https?://\\S+|www\\.\\S+')\n",
    "    return url_pattern.sub(r'', text)"
   ]
  },
  {
   "cell_type": "code",
   "execution_count": 10,
   "metadata": {},
   "outputs": [
    {
     "data": {
      "text/html": [
       "<div>\n",
       "<style scoped>\n",
       "    .dataframe tbody tr th:only-of-type {\n",
       "        vertical-align: middle;\n",
       "    }\n",
       "\n",
       "    .dataframe tbody tr th {\n",
       "        vertical-align: top;\n",
       "    }\n",
       "\n",
       "    .dataframe thead th {\n",
       "        text-align: right;\n",
       "    }\n",
       "</style>\n",
       "<table border=\"1\" class=\"dataframe\">\n",
       "  <thead>\n",
       "    <tr style=\"text-align: right;\">\n",
       "      <th></th>\n",
       "      <th>comment</th>\n",
       "      <th>satisfaction</th>\n",
       "    </tr>\n",
       "  </thead>\n",
       "  <tbody>\n",
       "    <tr>\n",
       "      <th>0</th>\n",
       "      <td>The medication has helped me keep my 2 month sugarlevel between 5.0-6.2 mmol/L\\r\\n(90- 105 mg/dl)</td>\n",
       "      <td>3</td>\n",
       "    </tr>\n",
       "    <tr>\n",
       "      <th>2</th>\n",
       "      <td>I have just started to take this drug for a starters to if it will help me in anyway to help to control my diabetes.</td>\n",
       "      <td>4</td>\n",
       "    </tr>\n",
       "  </tbody>\n",
       "</table>\n",
       "</div>"
      ],
      "text/plain": [
       "                                                                                                                comment  \\\n",
       "0                     The medication has helped me keep my 2 month sugarlevel between 5.0-6.2 mmol/L\\r\\n(90- 105 mg/dl)   \n",
       "2  I have just started to take this drug for a starters to if it will help me in anyway to help to control my diabetes.   \n",
       "\n",
       "   satisfaction  \n",
       "0             3  \n",
       "2             4  "
      ]
     },
     "execution_count": 10,
     "metadata": {},
     "output_type": "execute_result"
    }
   ],
   "source": [
    "df_vader['comment'].apply(lambda text: remove_urls(text))\n",
    "df_vader.head(2)"
   ]
  },
  {
   "cell_type": "markdown",
   "metadata": {},
   "source": [
    "Lowercase"
   ]
  },
  {
   "cell_type": "code",
   "execution_count": 11,
   "metadata": {},
   "outputs": [],
   "source": [
    "import nltk\n",
    "from nltk.corpus import stopwords"
   ]
  },
  {
   "cell_type": "code",
   "execution_count": 12,
   "metadata": {},
   "outputs": [
    {
     "data": {
      "text/plain": [
       "['i',\n",
       " 'me',\n",
       " 'my',\n",
       " 'myself',\n",
       " 'we',\n",
       " 'our',\n",
       " 'ours',\n",
       " 'ourselves',\n",
       " 'you',\n",
       " \"you're\",\n",
       " \"you've\",\n",
       " \"you'll\",\n",
       " \"you'd\",\n",
       " 'your',\n",
       " 'yours',\n",
       " 'yourself',\n",
       " 'yourselves',\n",
       " 'he',\n",
       " 'him',\n",
       " 'his',\n",
       " 'himself',\n",
       " 'she',\n",
       " \"she's\",\n",
       " 'her',\n",
       " 'hers',\n",
       " 'herself',\n",
       " 'it',\n",
       " \"it's\",\n",
       " 'its',\n",
       " 'itself',\n",
       " 'they',\n",
       " 'them',\n",
       " 'their',\n",
       " 'theirs',\n",
       " 'themselves',\n",
       " 'what',\n",
       " 'which',\n",
       " 'who',\n",
       " 'whom',\n",
       " 'this',\n",
       " 'that',\n",
       " \"that'll\",\n",
       " 'these',\n",
       " 'those',\n",
       " 'am',\n",
       " 'is',\n",
       " 'are',\n",
       " 'was',\n",
       " 'were',\n",
       " 'be',\n",
       " 'been',\n",
       " 'being',\n",
       " 'have',\n",
       " 'has',\n",
       " 'had',\n",
       " 'having',\n",
       " 'do',\n",
       " 'does',\n",
       " 'did',\n",
       " 'doing',\n",
       " 'a',\n",
       " 'an',\n",
       " 'the',\n",
       " 'and',\n",
       " 'but',\n",
       " 'if',\n",
       " 'or',\n",
       " 'because',\n",
       " 'as',\n",
       " 'until',\n",
       " 'while',\n",
       " 'of',\n",
       " 'at',\n",
       " 'by',\n",
       " 'for',\n",
       " 'with',\n",
       " 'about',\n",
       " 'against',\n",
       " 'between',\n",
       " 'into',\n",
       " 'through',\n",
       " 'during',\n",
       " 'before',\n",
       " 'after',\n",
       " 'above',\n",
       " 'below',\n",
       " 'to',\n",
       " 'from',\n",
       " 'up',\n",
       " 'down',\n",
       " 'in',\n",
       " 'out',\n",
       " 'on',\n",
       " 'off',\n",
       " 'over',\n",
       " 'under',\n",
       " 'again',\n",
       " 'further',\n",
       " 'then',\n",
       " 'once',\n",
       " 'here',\n",
       " 'there',\n",
       " 'when',\n",
       " 'where',\n",
       " 'why',\n",
       " 'how',\n",
       " 'all',\n",
       " 'any',\n",
       " 'both',\n",
       " 'each',\n",
       " 'few',\n",
       " 'more',\n",
       " 'most',\n",
       " 'other',\n",
       " 'some',\n",
       " 'such',\n",
       " 'no',\n",
       " 'nor',\n",
       " 'not',\n",
       " 'only',\n",
       " 'own',\n",
       " 'same',\n",
       " 'so',\n",
       " 'than',\n",
       " 'too',\n",
       " 'very',\n",
       " 's',\n",
       " 't',\n",
       " 'can',\n",
       " 'will',\n",
       " 'just',\n",
       " 'don',\n",
       " \"don't\",\n",
       " 'should',\n",
       " \"should've\",\n",
       " 'now',\n",
       " 'd',\n",
       " 'll',\n",
       " 'm',\n",
       " 'o',\n",
       " 're',\n",
       " 've',\n",
       " 'y',\n",
       " 'ain',\n",
       " 'aren',\n",
       " \"aren't\",\n",
       " 'couldn',\n",
       " \"couldn't\",\n",
       " 'didn',\n",
       " \"didn't\",\n",
       " 'doesn',\n",
       " \"doesn't\",\n",
       " 'hadn',\n",
       " \"hadn't\",\n",
       " 'hasn',\n",
       " \"hasn't\",\n",
       " 'haven',\n",
       " \"haven't\",\n",
       " 'isn',\n",
       " \"isn't\",\n",
       " 'ma',\n",
       " 'mightn',\n",
       " \"mightn't\",\n",
       " 'mustn',\n",
       " \"mustn't\",\n",
       " 'needn',\n",
       " \"needn't\",\n",
       " 'shan',\n",
       " \"shan't\",\n",
       " 'shouldn',\n",
       " \"shouldn't\",\n",
       " 'wasn',\n",
       " \"wasn't\",\n",
       " 'weren',\n",
       " \"weren't\",\n",
       " 'won',\n",
       " \"won't\",\n",
       " 'wouldn',\n",
       " \"wouldn't\"]"
      ]
     },
     "execution_count": 12,
     "metadata": {},
     "output_type": "execute_result"
    }
   ],
   "source": [
    "stopwords = stopwords.words('english')\n",
    "stopwords"
   ]
  },
  {
   "cell_type": "code",
   "execution_count": 13,
   "metadata": {},
   "outputs": [
    {
     "name": "stderr",
     "output_type": "stream",
     "text": [
      "/var/folders/l7/t95q78mn40qcdl5nd054f1nh0000gn/T/ipykernel_5024/2561831528.py:1: SettingWithCopyWarning: \n",
      "A value is trying to be set on a copy of a slice from a DataFrame.\n",
      "Try using .loc[row_indexer,col_indexer] = value instead\n",
      "\n",
      "See the caveats in the documentation: https://pandas.pydata.org/pandas-docs/stable/user_guide/indexing.html#returning-a-view-versus-a-copy\n",
      "  df_vader['comment'] = df_vader['comment'].str.lower().apply(lambda x: ' '.join([item for item in x.split() if item not in stopwords]))\n"
     ]
    }
   ],
   "source": [
    "df_vader['comment'] = df_vader['comment'].str.lower().apply(lambda x: ' '.join([item for item in x.split() if item not in stopwords]))"
   ]
  },
  {
   "cell_type": "code",
   "execution_count": 14,
   "metadata": {},
   "outputs": [
    {
     "data": {
      "text/html": [
       "<div>\n",
       "<style scoped>\n",
       "    .dataframe tbody tr th:only-of-type {\n",
       "        vertical-align: middle;\n",
       "    }\n",
       "\n",
       "    .dataframe tbody tr th {\n",
       "        vertical-align: top;\n",
       "    }\n",
       "\n",
       "    .dataframe thead th {\n",
       "        text-align: right;\n",
       "    }\n",
       "</style>\n",
       "<table border=\"1\" class=\"dataframe\">\n",
       "  <thead>\n",
       "    <tr style=\"text-align: right;\">\n",
       "      <th></th>\n",
       "      <th>comment</th>\n",
       "      <th>satisfaction</th>\n",
       "    </tr>\n",
       "  </thead>\n",
       "  <tbody>\n",
       "    <tr>\n",
       "      <th>0</th>\n",
       "      <td>medication helped keep 2 month sugarlevel 5.0-6.2 mmol/l (90- 105 mg/dl)</td>\n",
       "      <td>3</td>\n",
       "    </tr>\n",
       "    <tr>\n",
       "      <th>2</th>\n",
       "      <td>started take drug starters help anyway help control diabetes.</td>\n",
       "      <td>4</td>\n",
       "    </tr>\n",
       "    <tr>\n",
       "      <th>5</th>\n",
       "      <td>work. cough intolerable. dosing make sense</td>\n",
       "      <td>1</td>\n",
       "    </tr>\n",
       "    <tr>\n",
       "      <th>8</th>\n",
       "      <td>glucophage 2 years stop due diarrhea problems put glumetza started bowel problems sure medicine not.</td>\n",
       "      <td>3</td>\n",
       "    </tr>\n",
       "    <tr>\n",
       "      <th>12</th>\n",
       "      <td>farxiga first oral med work me. side benefit, losing weight without even trying. read cautions fall groups take this.</td>\n",
       "      <td>5</td>\n",
       "    </tr>\n",
       "  </tbody>\n",
       "</table>\n",
       "</div>"
      ],
      "text/plain": [
       "                                                                                                                  comment  \\\n",
       "0                                                medication helped keep 2 month sugarlevel 5.0-6.2 mmol/l (90- 105 mg/dl)   \n",
       "2                                                           started take drug starters help anyway help control diabetes.   \n",
       "5                                                                              work. cough intolerable. dosing make sense   \n",
       "8                    glucophage 2 years stop due diarrhea problems put glumetza started bowel problems sure medicine not.   \n",
       "12  farxiga first oral med work me. side benefit, losing weight without even trying. read cautions fall groups take this.   \n",
       "\n",
       "    satisfaction  \n",
       "0              3  \n",
       "2              4  \n",
       "5              1  \n",
       "8              3  \n",
       "12             5  "
      ]
     },
     "execution_count": 14,
     "metadata": {},
     "output_type": "execute_result"
    }
   ],
   "source": [
    "df_vader.head()"
   ]
  },
  {
   "cell_type": "code",
   "execution_count": 15,
   "metadata": {},
   "outputs": [],
   "source": [
    "def remove_nums(text):\n",
    "    text_nonum = re.sub(r'\\d+', '', text)\n",
    "    return text_nonum"
   ]
  },
  {
   "cell_type": "code",
   "execution_count": 16,
   "metadata": {},
   "outputs": [
    {
     "name": "stderr",
     "output_type": "stream",
     "text": [
      "/var/folders/l7/t95q78mn40qcdl5nd054f1nh0000gn/T/ipykernel_5024/975251199.py:1: SettingWithCopyWarning: \n",
      "A value is trying to be set on a copy of a slice from a DataFrame.\n",
      "Try using .loc[row_indexer,col_indexer] = value instead\n",
      "\n",
      "See the caveats in the documentation: https://pandas.pydata.org/pandas-docs/stable/user_guide/indexing.html#returning-a-view-versus-a-copy\n",
      "  df_vader['comment'] = df_vader['comment'].apply(lambda text: remove_nums(text))\n"
     ]
    },
    {
     "data": {
      "text/html": [
       "<div>\n",
       "<style scoped>\n",
       "    .dataframe tbody tr th:only-of-type {\n",
       "        vertical-align: middle;\n",
       "    }\n",
       "\n",
       "    .dataframe tbody tr th {\n",
       "        vertical-align: top;\n",
       "    }\n",
       "\n",
       "    .dataframe thead th {\n",
       "        text-align: right;\n",
       "    }\n",
       "</style>\n",
       "<table border=\"1\" class=\"dataframe\">\n",
       "  <thead>\n",
       "    <tr style=\"text-align: right;\">\n",
       "      <th></th>\n",
       "      <th>comment</th>\n",
       "      <th>satisfaction</th>\n",
       "    </tr>\n",
       "  </thead>\n",
       "  <tbody>\n",
       "    <tr>\n",
       "      <th>0</th>\n",
       "      <td>medication helped keep  month sugarlevel .-. mmol/l (-  mg/dl)</td>\n",
       "      <td>3</td>\n",
       "    </tr>\n",
       "    <tr>\n",
       "      <th>2</th>\n",
       "      <td>started take drug starters help anyway help control diabetes.</td>\n",
       "      <td>4</td>\n",
       "    </tr>\n",
       "    <tr>\n",
       "      <th>5</th>\n",
       "      <td>work. cough intolerable. dosing make sense</td>\n",
       "      <td>1</td>\n",
       "    </tr>\n",
       "    <tr>\n",
       "      <th>8</th>\n",
       "      <td>glucophage  years stop due diarrhea problems put glumetza started bowel problems sure medicine not.</td>\n",
       "      <td>3</td>\n",
       "    </tr>\n",
       "    <tr>\n",
       "      <th>12</th>\n",
       "      <td>farxiga first oral med work me. side benefit, losing weight without even trying. read cautions fall groups take this.</td>\n",
       "      <td>5</td>\n",
       "    </tr>\n",
       "  </tbody>\n",
       "</table>\n",
       "</div>"
      ],
      "text/plain": [
       "                                                                                                                  comment  \\\n",
       "0                                                          medication helped keep  month sugarlevel .-. mmol/l (-  mg/dl)   \n",
       "2                                                           started take drug starters help anyway help control diabetes.   \n",
       "5                                                                              work. cough intolerable. dosing make sense   \n",
       "8                     glucophage  years stop due diarrhea problems put glumetza started bowel problems sure medicine not.   \n",
       "12  farxiga first oral med work me. side benefit, losing weight without even trying. read cautions fall groups take this.   \n",
       "\n",
       "    satisfaction  \n",
       "0              3  \n",
       "2              4  \n",
       "5              1  \n",
       "8              3  \n",
       "12             5  "
      ]
     },
     "execution_count": 16,
     "metadata": {},
     "output_type": "execute_result"
    }
   ],
   "source": [
    "df_vader['comment'] = df_vader['comment'].apply(lambda text: remove_nums(text))\n",
    "df_vader.head()"
   ]
  },
  {
   "cell_type": "markdown",
   "metadata": {},
   "source": [
    "Remove Punctuation"
   ]
  },
  {
   "cell_type": "code",
   "execution_count": 17,
   "metadata": {},
   "outputs": [
    {
     "data": {
      "text/plain": [
       "'!\"#$%&\\'()*+,-./:;<=>?@[\\\\]^_`{|}~'"
      ]
     },
     "execution_count": 17,
     "metadata": {},
     "output_type": "execute_result"
    }
   ],
   "source": [
    "import string\n",
    "string.punctuation"
   ]
  },
  {
   "cell_type": "code",
   "execution_count": 18,
   "metadata": {},
   "outputs": [],
   "source": [
    "def remove_punctuation(text):\n",
    "    if(type(text)==float):\n",
    "        return text\n",
    "    ans=\"\"  \n",
    "    for i in text:     \n",
    "        if i not in string.punctuation:\n",
    "            ans+=i    \n",
    "    return ans"
   ]
  },
  {
   "cell_type": "code",
   "execution_count": 19,
   "metadata": {},
   "outputs": [
    {
     "name": "stderr",
     "output_type": "stream",
     "text": [
      "/var/folders/l7/t95q78mn40qcdl5nd054f1nh0000gn/T/ipykernel_5024/2280904792.py:1: SettingWithCopyWarning: \n",
      "A value is trying to be set on a copy of a slice from a DataFrame.\n",
      "Try using .loc[row_indexer,col_indexer] = value instead\n",
      "\n",
      "See the caveats in the documentation: https://pandas.pydata.org/pandas-docs/stable/user_guide/indexing.html#returning-a-view-versus-a-copy\n",
      "  df_vader['comment'] = df_vader['comment'].apply(lambda x:remove_punctuation(x))\n"
     ]
    }
   ],
   "source": [
    "df_vader['comment'] = df_vader['comment'].apply(lambda x:remove_punctuation(x))"
   ]
  },
  {
   "cell_type": "code",
   "execution_count": 20,
   "metadata": {},
   "outputs": [
    {
     "data": {
      "text/html": [
       "<div>\n",
       "<style scoped>\n",
       "    .dataframe tbody tr th:only-of-type {\n",
       "        vertical-align: middle;\n",
       "    }\n",
       "\n",
       "    .dataframe tbody tr th {\n",
       "        vertical-align: top;\n",
       "    }\n",
       "\n",
       "    .dataframe thead th {\n",
       "        text-align: right;\n",
       "    }\n",
       "</style>\n",
       "<table border=\"1\" class=\"dataframe\">\n",
       "  <thead>\n",
       "    <tr style=\"text-align: right;\">\n",
       "      <th></th>\n",
       "      <th>comment</th>\n",
       "      <th>satisfaction</th>\n",
       "    </tr>\n",
       "  </thead>\n",
       "  <tbody>\n",
       "    <tr>\n",
       "      <th>0</th>\n",
       "      <td>medication helped keep  month sugarlevel  mmoll   mgdl</td>\n",
       "      <td>3</td>\n",
       "    </tr>\n",
       "    <tr>\n",
       "      <th>2</th>\n",
       "      <td>started take drug starters help anyway help control diabetes</td>\n",
       "      <td>4</td>\n",
       "    </tr>\n",
       "    <tr>\n",
       "      <th>5</th>\n",
       "      <td>work cough intolerable dosing make sense</td>\n",
       "      <td>1</td>\n",
       "    </tr>\n",
       "    <tr>\n",
       "      <th>8</th>\n",
       "      <td>glucophage  years stop due diarrhea problems put glumetza started bowel problems sure medicine not</td>\n",
       "      <td>3</td>\n",
       "    </tr>\n",
       "    <tr>\n",
       "      <th>12</th>\n",
       "      <td>farxiga first oral med work me side benefit losing weight without even trying read cautions fall groups take this</td>\n",
       "      <td>5</td>\n",
       "    </tr>\n",
       "  </tbody>\n",
       "</table>\n",
       "</div>"
      ],
      "text/plain": [
       "                                                                                                              comment  \\\n",
       "0                                                              medication helped keep  month sugarlevel  mmoll   mgdl   \n",
       "2                                                        started take drug starters help anyway help control diabetes   \n",
       "5                                                                            work cough intolerable dosing make sense   \n",
       "8                  glucophage  years stop due diarrhea problems put glumetza started bowel problems sure medicine not   \n",
       "12  farxiga first oral med work me side benefit losing weight without even trying read cautions fall groups take this   \n",
       "\n",
       "    satisfaction  \n",
       "0              3  \n",
       "2              4  \n",
       "5              1  \n",
       "8              3  \n",
       "12             5  "
      ]
     },
     "execution_count": 20,
     "metadata": {},
     "output_type": "execute_result"
    }
   ],
   "source": [
    "df_vader.head()"
   ]
  },
  {
   "cell_type": "markdown",
   "metadata": {},
   "source": [
    "Lemmatize"
   ]
  },
  {
   "cell_type": "code",
   "execution_count": 21,
   "metadata": {},
   "outputs": [],
   "source": [
    "import re, string, unicodedata\n",
    "import nltk\n",
    "from nltk import word_tokenize, sent_tokenize\n",
    "from nltk.corpus import stopwords\n",
    "from nltk.stem import LancasterStemmer, WordNetLemmatizer"
   ]
  },
  {
   "cell_type": "code",
   "execution_count": 22,
   "metadata": {},
   "outputs": [
    {
     "name": "stderr",
     "output_type": "stream",
     "text": [
      "/var/folders/l7/t95q78mn40qcdl5nd054f1nh0000gn/T/ipykernel_5024/305155434.py:5: SettingWithCopyWarning: \n",
      "A value is trying to be set on a copy of a slice from a DataFrame.\n",
      "Try using .loc[row_indexer,col_indexer] = value instead\n",
      "\n",
      "See the caveats in the documentation: https://pandas.pydata.org/pandas-docs/stable/user_guide/indexing.html#returning-a-view-versus-a-copy\n",
      "  df_vader['comment'] = df_vader['comment'].apply(lambda text: lemmatize_words(text))\n"
     ]
    },
    {
     "data": {
      "text/html": [
       "<div>\n",
       "<style scoped>\n",
       "    .dataframe tbody tr th:only-of-type {\n",
       "        vertical-align: middle;\n",
       "    }\n",
       "\n",
       "    .dataframe tbody tr th {\n",
       "        vertical-align: top;\n",
       "    }\n",
       "\n",
       "    .dataframe thead th {\n",
       "        text-align: right;\n",
       "    }\n",
       "</style>\n",
       "<table border=\"1\" class=\"dataframe\">\n",
       "  <thead>\n",
       "    <tr style=\"text-align: right;\">\n",
       "      <th></th>\n",
       "      <th>comment</th>\n",
       "      <th>satisfaction</th>\n",
       "    </tr>\n",
       "  </thead>\n",
       "  <tbody>\n",
       "    <tr>\n",
       "      <th>0</th>\n",
       "      <td>medication helped keep month sugarlevel mmoll mgdl</td>\n",
       "      <td>3</td>\n",
       "    </tr>\n",
       "    <tr>\n",
       "      <th>2</th>\n",
       "      <td>started take drug starter help anyway help control diabetes</td>\n",
       "      <td>4</td>\n",
       "    </tr>\n",
       "    <tr>\n",
       "      <th>5</th>\n",
       "      <td>work cough intolerable dosing make sense</td>\n",
       "      <td>1</td>\n",
       "    </tr>\n",
       "    <tr>\n",
       "      <th>8</th>\n",
       "      <td>glucophage year stop due diarrhea problem put glumetza started bowel problem sure medicine not</td>\n",
       "      <td>3</td>\n",
       "    </tr>\n",
       "    <tr>\n",
       "      <th>12</th>\n",
       "      <td>farxiga first oral med work me side benefit losing weight without even trying read caution fall group take this</td>\n",
       "      <td>5</td>\n",
       "    </tr>\n",
       "  </tbody>\n",
       "</table>\n",
       "</div>"
      ],
      "text/plain": [
       "                                                                                                            comment  \\\n",
       "0                                                                medication helped keep month sugarlevel mmoll mgdl   \n",
       "2                                                       started take drug starter help anyway help control diabetes   \n",
       "5                                                                          work cough intolerable dosing make sense   \n",
       "8                    glucophage year stop due diarrhea problem put glumetza started bowel problem sure medicine not   \n",
       "12  farxiga first oral med work me side benefit losing weight without even trying read caution fall group take this   \n",
       "\n",
       "    satisfaction  \n",
       "0              3  \n",
       "2              4  \n",
       "5              1  \n",
       "8              3  \n",
       "12             5  "
      ]
     },
     "execution_count": 22,
     "metadata": {},
     "output_type": "execute_result"
    }
   ],
   "source": [
    "lemmatizer = WordNetLemmatizer()\n",
    "def lemmatize_words(text):\n",
    "    return \" \".join([lemmatizer.lemmatize(word) for word in text.split()])\n",
    "\n",
    "df_vader['comment'] = df_vader['comment'].apply(lambda text: lemmatize_words(text))\n",
    "df_vader.head()"
   ]
  },
  {
   "cell_type": "code",
   "execution_count": 23,
   "metadata": {},
   "outputs": [],
   "source": [
    "from nltk.corpus import stopwords\n",
    "stop_words = set(stopwords.words(\"english\"))"
   ]
  },
  {
   "cell_type": "code",
   "execution_count": 24,
   "metadata": {},
   "outputs": [
    {
     "name": "stderr",
     "output_type": "stream",
     "text": [
      "/var/folders/l7/t95q78mn40qcdl5nd054f1nh0000gn/T/ipykernel_5024/2860378060.py:1: SettingWithCopyWarning: \n",
      "A value is trying to be set on a copy of a slice from a DataFrame.\n",
      "Try using .loc[row_indexer,col_indexer] = value instead\n",
      "\n",
      "See the caveats in the documentation: https://pandas.pydata.org/pandas-docs/stable/user_guide/indexing.html#returning-a-view-versus-a-copy\n",
      "  df_vader['comment'] = df_vader['comment'].str.lower().apply(lambda x: ' '.join([item for item in x.split() if item not in stop_words]))\n"
     ]
    }
   ],
   "source": [
    "df_vader['comment'] = df_vader['comment'].str.lower().apply(lambda x: ' '.join([item for item in x.split() if item not in stop_words]))"
   ]
  },
  {
   "cell_type": "code",
   "execution_count": 25,
   "metadata": {},
   "outputs": [
    {
     "data": {
      "text/html": [
       "<div>\n",
       "<style scoped>\n",
       "    .dataframe tbody tr th:only-of-type {\n",
       "        vertical-align: middle;\n",
       "    }\n",
       "\n",
       "    .dataframe tbody tr th {\n",
       "        vertical-align: top;\n",
       "    }\n",
       "\n",
       "    .dataframe thead th {\n",
       "        text-align: right;\n",
       "    }\n",
       "</style>\n",
       "<table border=\"1\" class=\"dataframe\">\n",
       "  <thead>\n",
       "    <tr style=\"text-align: right;\">\n",
       "      <th></th>\n",
       "      <th>comment</th>\n",
       "      <th>satisfaction</th>\n",
       "    </tr>\n",
       "  </thead>\n",
       "  <tbody>\n",
       "    <tr>\n",
       "      <th>0</th>\n",
       "      <td>medication helped keep month sugarlevel mmoll mgdl</td>\n",
       "      <td>3</td>\n",
       "    </tr>\n",
       "    <tr>\n",
       "      <th>2</th>\n",
       "      <td>started take drug starter help anyway help control diabetes</td>\n",
       "      <td>4</td>\n",
       "    </tr>\n",
       "    <tr>\n",
       "      <th>5</th>\n",
       "      <td>work cough intolerable dosing make sense</td>\n",
       "      <td>1</td>\n",
       "    </tr>\n",
       "    <tr>\n",
       "      <th>8</th>\n",
       "      <td>glucophage year stop due diarrhea problem put glumetza started bowel problem sure medicine</td>\n",
       "      <td>3</td>\n",
       "    </tr>\n",
       "    <tr>\n",
       "      <th>12</th>\n",
       "      <td>farxiga first oral med work side benefit losing weight without even trying read caution fall group take</td>\n",
       "      <td>5</td>\n",
       "    </tr>\n",
       "  </tbody>\n",
       "</table>\n",
       "</div>"
      ],
      "text/plain": [
       "                                                                                                    comment  \\\n",
       "0                                                        medication helped keep month sugarlevel mmoll mgdl   \n",
       "2                                               started take drug starter help anyway help control diabetes   \n",
       "5                                                                  work cough intolerable dosing make sense   \n",
       "8                glucophage year stop due diarrhea problem put glumetza started bowel problem sure medicine   \n",
       "12  farxiga first oral med work side benefit losing weight without even trying read caution fall group take   \n",
       "\n",
       "    satisfaction  \n",
       "0              3  \n",
       "2              4  \n",
       "5              1  \n",
       "8              3  \n",
       "12             5  "
      ]
     },
     "execution_count": 25,
     "metadata": {},
     "output_type": "execute_result"
    }
   ],
   "source": [
    "df_vader.head()"
   ]
  },
  {
   "cell_type": "code",
   "execution_count": 26,
   "metadata": {},
   "outputs": [
    {
     "data": {
      "text/plain": [
       "['medication helped keep month sugarlevel mmoll mgdl',\n",
       " 'started take drug starter help anyway help control diabetes',\n",
       " 'work cough intolerable dosing make sense',\n",
       " 'glucophage year stop due diarrhea problem put glumetza started bowel problem sure medicine',\n",
       " 'farxiga first oral med work side benefit losing weight without even trying read caution fall group take',\n",
       " 'terrified og giving self injection doctor introduced levemir pen work great',\n",
       " 'controled sugar great take pill dayno side effect great le side effect organ pill damage',\n",
       " 'doctor wanted put insulin taking drug januvia lowest dose work day thing dislike blood sugar drop quickly evening ready work like clockwork',\n",
       " 'experienced extreme itching hive within hour taking medicine',\n",
       " 'victoza continue nausea also taking lantus started trulicity two week ago nausea energy blood sugar range longer take lentos either']"
      ]
     },
     "execution_count": 26,
     "metadata": {},
     "output_type": "execute_result"
    }
   ],
   "source": [
    "corpus = list(df_vader['comment'])\n",
    "corpus[:10]"
   ]
  },
  {
   "cell_type": "code",
   "execution_count": 27,
   "metadata": {},
   "outputs": [
    {
     "data": {
      "text/plain": [
       "{'neg': 0.0, 'neu': 1.0, 'pos': 0.0, 'compound': 0.0}"
      ]
     },
     "execution_count": 27,
     "metadata": {},
     "output_type": "execute_result"
    }
   ],
   "source": [
    "#instantiate SIA\n",
    "\n",
    "sia = SentimentIntensityAnalyzer()\n",
    "\n",
    "#Get polarity scores for the first tweet\n",
    "\n",
    "sia.polarity_scores(corpus[0])"
   ]
  },
  {
   "cell_type": "code",
   "execution_count": 28,
   "metadata": {},
   "outputs": [
    {
     "data": {
      "text/html": [
       "<div>\n",
       "<style scoped>\n",
       "    .dataframe tbody tr th:only-of-type {\n",
       "        vertical-align: middle;\n",
       "    }\n",
       "\n",
       "    .dataframe tbody tr th {\n",
       "        vertical-align: top;\n",
       "    }\n",
       "\n",
       "    .dataframe thead th {\n",
       "        text-align: right;\n",
       "    }\n",
       "</style>\n",
       "<table border=\"1\" class=\"dataframe\">\n",
       "  <thead>\n",
       "    <tr style=\"text-align: right;\">\n",
       "      <th></th>\n",
       "      <th>neg</th>\n",
       "      <th>neu</th>\n",
       "      <th>pos</th>\n",
       "      <th>compound</th>\n",
       "      <th>text</th>\n",
       "    </tr>\n",
       "  </thead>\n",
       "  <tbody>\n",
       "    <tr>\n",
       "      <th>0</th>\n",
       "      <td>0.000</td>\n",
       "      <td>1.000</td>\n",
       "      <td>0.000</td>\n",
       "      <td>0.0000</td>\n",
       "      <td>medication helped keep month sugarlevel mmoll mgdl</td>\n",
       "    </tr>\n",
       "    <tr>\n",
       "      <th>1</th>\n",
       "      <td>0.000</td>\n",
       "      <td>0.565</td>\n",
       "      <td>0.435</td>\n",
       "      <td>0.6597</td>\n",
       "      <td>started take drug starter help anyway help control diabetes</td>\n",
       "    </tr>\n",
       "    <tr>\n",
       "      <th>2</th>\n",
       "      <td>0.000</td>\n",
       "      <td>1.000</td>\n",
       "      <td>0.000</td>\n",
       "      <td>0.0000</td>\n",
       "      <td>work cough intolerable dosing make sense</td>\n",
       "    </tr>\n",
       "    <tr>\n",
       "      <th>3</th>\n",
       "      <td>0.402</td>\n",
       "      <td>0.476</td>\n",
       "      <td>0.122</td>\n",
       "      <td>-0.6486</td>\n",
       "      <td>glucophage year stop due diarrhea problem put glumetza started bowel problem sure medicine</td>\n",
       "    </tr>\n",
       "    <tr>\n",
       "      <th>4</th>\n",
       "      <td>0.126</td>\n",
       "      <td>0.728</td>\n",
       "      <td>0.146</td>\n",
       "      <td>0.1027</td>\n",
       "      <td>farxiga first oral med work side benefit losing weight without even trying read caution fall group take</td>\n",
       "    </tr>\n",
       "  </tbody>\n",
       "</table>\n",
       "</div>"
      ],
      "text/plain": [
       "     neg    neu    pos  compound  \\\n",
       "0  0.000  1.000  0.000    0.0000   \n",
       "1  0.000  0.565  0.435    0.6597   \n",
       "2  0.000  1.000  0.000    0.0000   \n",
       "3  0.402  0.476  0.122   -0.6486   \n",
       "4  0.126  0.728  0.146    0.1027   \n",
       "\n",
       "                                                                                                      text  \n",
       "0                                                       medication helped keep month sugarlevel mmoll mgdl  \n",
       "1                                              started take drug starter help anyway help control diabetes  \n",
       "2                                                                 work cough intolerable dosing make sense  \n",
       "3               glucophage year stop due diarrhea problem put glumetza started bowel problem sure medicine  \n",
       "4  farxiga first oral med work side benefit losing weight without even trying read caution fall group take  "
      ]
     },
     "execution_count": 28,
     "metadata": {},
     "output_type": "execute_result"
    }
   ],
   "source": [
    "sentiment = []    \n",
    "\n",
    "for text in corpus:\n",
    "    scores = sia.polarity_scores(text)\n",
    "    scores['text'] = text\n",
    "    sentiment.append(scores)\n",
    "\n",
    "df = pd.DataFrame(sentiment)\n",
    "df.head()"
   ]
  },
  {
   "cell_type": "code",
   "execution_count": 29,
   "metadata": {},
   "outputs": [],
   "source": [
    "sent_df = df.drop(columns = ['text'])"
   ]
  },
  {
   "cell_type": "code",
   "execution_count": 30,
   "metadata": {},
   "outputs": [
    {
     "data": {
      "text/html": [
       "<div>\n",
       "<style scoped>\n",
       "    .dataframe tbody tr th:only-of-type {\n",
       "        vertical-align: middle;\n",
       "    }\n",
       "\n",
       "    .dataframe tbody tr th {\n",
       "        vertical-align: top;\n",
       "    }\n",
       "\n",
       "    .dataframe thead th {\n",
       "        text-align: right;\n",
       "    }\n",
       "</style>\n",
       "<table border=\"1\" class=\"dataframe\">\n",
       "  <thead>\n",
       "    <tr style=\"text-align: right;\">\n",
       "      <th></th>\n",
       "      <th>neg</th>\n",
       "      <th>neu</th>\n",
       "      <th>pos</th>\n",
       "      <th>compound</th>\n",
       "    </tr>\n",
       "  </thead>\n",
       "  <tbody>\n",
       "    <tr>\n",
       "      <th>0</th>\n",
       "      <td>0.000</td>\n",
       "      <td>1.000</td>\n",
       "      <td>0.000</td>\n",
       "      <td>0.0000</td>\n",
       "    </tr>\n",
       "    <tr>\n",
       "      <th>1</th>\n",
       "      <td>0.000</td>\n",
       "      <td>0.565</td>\n",
       "      <td>0.435</td>\n",
       "      <td>0.6597</td>\n",
       "    </tr>\n",
       "    <tr>\n",
       "      <th>2</th>\n",
       "      <td>0.000</td>\n",
       "      <td>1.000</td>\n",
       "      <td>0.000</td>\n",
       "      <td>0.0000</td>\n",
       "    </tr>\n",
       "    <tr>\n",
       "      <th>3</th>\n",
       "      <td>0.402</td>\n",
       "      <td>0.476</td>\n",
       "      <td>0.122</td>\n",
       "      <td>-0.6486</td>\n",
       "    </tr>\n",
       "    <tr>\n",
       "      <th>4</th>\n",
       "      <td>0.126</td>\n",
       "      <td>0.728</td>\n",
       "      <td>0.146</td>\n",
       "      <td>0.1027</td>\n",
       "    </tr>\n",
       "    <tr>\n",
       "      <th>...</th>\n",
       "      <td>...</td>\n",
       "      <td>...</td>\n",
       "      <td>...</td>\n",
       "      <td>...</td>\n",
       "    </tr>\n",
       "    <tr>\n",
       "      <th>926</th>\n",
       "      <td>0.277</td>\n",
       "      <td>0.252</td>\n",
       "      <td>0.471</td>\n",
       "      <td>0.3182</td>\n",
       "    </tr>\n",
       "    <tr>\n",
       "      <th>927</th>\n",
       "      <td>0.348</td>\n",
       "      <td>0.531</td>\n",
       "      <td>0.121</td>\n",
       "      <td>-0.8934</td>\n",
       "    </tr>\n",
       "    <tr>\n",
       "      <th>928</th>\n",
       "      <td>0.000</td>\n",
       "      <td>0.782</td>\n",
       "      <td>0.218</td>\n",
       "      <td>0.4404</td>\n",
       "    </tr>\n",
       "    <tr>\n",
       "      <th>929</th>\n",
       "      <td>0.000</td>\n",
       "      <td>0.559</td>\n",
       "      <td>0.441</td>\n",
       "      <td>0.8360</td>\n",
       "    </tr>\n",
       "    <tr>\n",
       "      <th>930</th>\n",
       "      <td>0.142</td>\n",
       "      <td>0.656</td>\n",
       "      <td>0.202</td>\n",
       "      <td>0.3408</td>\n",
       "    </tr>\n",
       "  </tbody>\n",
       "</table>\n",
       "<p>931 rows × 4 columns</p>\n",
       "</div>"
      ],
      "text/plain": [
       "       neg    neu    pos  compound\n",
       "0    0.000  1.000  0.000    0.0000\n",
       "1    0.000  0.565  0.435    0.6597\n",
       "2    0.000  1.000  0.000    0.0000\n",
       "3    0.402  0.476  0.122   -0.6486\n",
       "4    0.126  0.728  0.146    0.1027\n",
       "..     ...    ...    ...       ...\n",
       "926  0.277  0.252  0.471    0.3182\n",
       "927  0.348  0.531  0.121   -0.8934\n",
       "928  0.000  0.782  0.218    0.4404\n",
       "929  0.000  0.559  0.441    0.8360\n",
       "930  0.142  0.656  0.202    0.3408\n",
       "\n",
       "[931 rows x 4 columns]"
      ]
     },
     "execution_count": 30,
     "metadata": {},
     "output_type": "execute_result"
    }
   ],
   "source": [
    "sent_df"
   ]
  },
  {
   "cell_type": "code",
   "execution_count": 31,
   "metadata": {},
   "outputs": [
    {
     "data": {
      "text/plain": [
       "<seaborn.axisgrid.PairGrid at 0x7fafd80cab80>"
      ]
     },
     "execution_count": 31,
     "metadata": {},
     "output_type": "execute_result"
    },
    {
     "data": {
      "image/png": "[encoded data removed]",
      "text/plain": [
       "<Figure size 720x720 with 20 Axes>"
      ]
     },
     "metadata": {
      "needs_background": "light"
     },
     "output_type": "display_data"
    }
   ],
   "source": [
    "sns.pairplot(sent_df);"
   ]
  }
 ],
 "metadata": {
  "interpreter": {
   "hash": "aee8b7b246df8f9039afb4144a1f6fd8d2ca17a180786b69acc140d282b71a49"
  },
  "kernelspec": {
   "display_name": "Python 3.10.2 64-bit",
   "language": "python",
   "name": "python3"
  },
  "language_info": {
   "codemirror_mode": {
    "name": "ipython",
    "version": 3
   },
   "file_extension": ".py",
   "mimetype": "text/x-python",
   "name": "python",
   "nbconvert_exporter": "python",
   "pygments_lexer": "ipython3",
   "version": "3.9.7"
  },
  "orig_nbformat": 4
 },
 "nbformat": 4,
 "nbformat_minor": 2
}
