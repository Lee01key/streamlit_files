{
 "cells": [
  {
   "cell_type": "markdown",
   "metadata": {},
   "source": [
    "# Sentiment/Emotional Analysis"
   ]
  },
  {
   "cell_type": "markdown",
   "metadata": {},
   "source": [
    "## Import Libraries"
   ]
  },
  {
   "cell_type": "code",
   "execution_count": 2,
   "metadata": {},
   "outputs": [],
   "source": [
    "import pandas as pd\n",
    "import re\n",
    "from nrclex import NRCLex\n",
    "import seaborn as sns\n",
    "import matplotlib.pyplot as plt\n",
    "import numpy as np\n",
    "\n",
    "import warnings\n",
    "warnings.filterwarnings('ignore')"
   ]
  },
  {
   "cell_type": "markdown",
   "metadata": {},
   "source": [
    "Read Data"
   ]
  },
  {
   "cell_type": "code",
   "execution_count": 3,
   "metadata": {},
   "outputs": [],
   "source": [
    "df = pd.read_csv('../data/original/webmd_reviews.csv')"
   ]
  },
  {
   "cell_type": "code",
   "execution_count": 4,
   "metadata": {},
   "outputs": [
    {
     "data": {
      "text/html": [
       "<div>\n",
       "<style scoped>\n",
       "    .dataframe tbody tr th:only-of-type {\n",
       "        vertical-align: middle;\n",
       "    }\n",
       "\n",
       "    .dataframe tbody tr th {\n",
       "        vertical-align: top;\n",
       "    }\n",
       "\n",
       "    .dataframe thead th {\n",
       "        text-align: right;\n",
       "    }\n",
       "</style>\n",
       "<table border=\"1\" class=\"dataframe\">\n",
       "  <thead>\n",
       "    <tr style=\"text-align: right;\">\n",
       "      <th></th>\n",
       "      <th>Rdate</th>\n",
       "      <th>comment</th>\n",
       "      <th>condition</th>\n",
       "      <th>drug</th>\n",
       "      <th>easeofuse</th>\n",
       "      <th>effectiveness</th>\n",
       "      <th>helpful</th>\n",
       "      <th>reviewer</th>\n",
       "      <th>satisfaction</th>\n",
       "    </tr>\n",
       "  </thead>\n",
       "  <tbody>\n",
       "    <tr>\n",
       "      <th>0</th>\n",
       "      <td>9/19/07 9:03</td>\n",
       "      <td>The medication has helped me keep my 2 month s...</td>\n",
       "      <td>Type 2 Diabetes Mellitus</td>\n",
       "      <td>metformin oral</td>\n",
       "      <td>5</td>\n",
       "      <td>4</td>\n",
       "      <td>2</td>\n",
       "      <td>bjorn, 65-74 Male  on Treatment for 2 to less ...</td>\n",
       "      <td>3</td>\n",
       "    </tr>\n",
       "    <tr>\n",
       "      <th>1</th>\n",
       "      <td>9/18/07 11:18</td>\n",
       "      <td>NaN</td>\n",
       "      <td>Type 2 Diabetes Mellitus</td>\n",
       "      <td>metformin oral</td>\n",
       "      <td>5</td>\n",
       "      <td>4</td>\n",
       "      <td>9</td>\n",
       "      <td>cutie54, 45-54 Female  on Treatment for 1 to 6...</td>\n",
       "      <td>5</td>\n",
       "    </tr>\n",
       "    <tr>\n",
       "      <th>2</th>\n",
       "      <td>4/24/11 8:59</td>\n",
       "      <td>I have just started to take this drug for a st...</td>\n",
       "      <td>Type 2 Diabetes Mellitus</td>\n",
       "      <td>Kombiglyze XR oral</td>\n",
       "      <td>5</td>\n",
       "      <td>4</td>\n",
       "      <td>3</td>\n",
       "      <td>jarele, 25-34 Male  on Treatment for less than...</td>\n",
       "      <td>4</td>\n",
       "    </tr>\n",
       "    <tr>\n",
       "      <th>3</th>\n",
       "      <td>4/5/11 13:31</td>\n",
       "      <td>NaN</td>\n",
       "      <td>Type 2 Diabetes Mellitus</td>\n",
       "      <td>Kombiglyze XR oral</td>\n",
       "      <td>5</td>\n",
       "      <td>4</td>\n",
       "      <td>4</td>\n",
       "      <td>25-34 Female  on Treatment for less than 1 mon...</td>\n",
       "      <td>4</td>\n",
       "    </tr>\n",
       "    <tr>\n",
       "      <th>4</th>\n",
       "      <td>3/7/11 16:35</td>\n",
       "      <td>NaN</td>\n",
       "      <td>Type 2 Diabetes Mellitus</td>\n",
       "      <td>Kombiglyze XR oral</td>\n",
       "      <td>3</td>\n",
       "      <td>1</td>\n",
       "      <td>8</td>\n",
       "      <td>45-54 Male  (Patient)</td>\n",
       "      <td>1</td>\n",
       "    </tr>\n",
       "  </tbody>\n",
       "</table>\n",
       "</div>"
      ],
      "text/plain": [
       "           Rdate                                            comment  \\\n",
       "0   9/19/07 9:03  The medication has helped me keep my 2 month s...   \n",
       "1  9/18/07 11:18                                                NaN   \n",
       "2   4/24/11 8:59  I have just started to take this drug for a st...   \n",
       "3   4/5/11 13:31                                                NaN   \n",
       "4   3/7/11 16:35                                                NaN   \n",
       "\n",
       "                  condition                drug  easeofuse  effectiveness  \\\n",
       "0  Type 2 Diabetes Mellitus      metformin oral          5              4   \n",
       "1  Type 2 Diabetes Mellitus      metformin oral          5              4   \n",
       "2  Type 2 Diabetes Mellitus  Kombiglyze XR oral          5              4   \n",
       "3  Type 2 Diabetes Mellitus  Kombiglyze XR oral          5              4   \n",
       "4  Type 2 Diabetes Mellitus  Kombiglyze XR oral          3              1   \n",
       "\n",
       "   helpful                                           reviewer  satisfaction  \n",
       "0        2  bjorn, 65-74 Male  on Treatment for 2 to less ...             3  \n",
       "1        9  cutie54, 45-54 Female  on Treatment for 1 to 6...             5  \n",
       "2        3  jarele, 25-34 Male  on Treatment for less than...             4  \n",
       "3        4  25-34 Female  on Treatment for less than 1 mon...             4  \n",
       "4        8                              45-54 Male  (Patient)             1  "
      ]
     },
     "execution_count": 4,
     "metadata": {},
     "output_type": "execute_result"
    }
   ],
   "source": [
    "df.head()"
   ]
  },
  {
   "cell_type": "code",
   "execution_count": 5,
   "metadata": {},
   "outputs": [
    {
     "data": {
      "text/plain": [
       "Rdate               0\n",
       "comment          4520\n",
       "condition           0\n",
       "drug                0\n",
       "easeofuse           0\n",
       "effectiveness       0\n",
       "helpful             0\n",
       "reviewer          253\n",
       "satisfaction        0\n",
       "dtype: int64"
      ]
     },
     "execution_count": 5,
     "metadata": {},
     "output_type": "execute_result"
    }
   ],
   "source": [
    "df.isnull().sum()"
   ]
  },
  {
   "cell_type": "code",
   "execution_count": 6,
   "metadata": {},
   "outputs": [
    {
     "data": {
      "text/plain": [
       "(5495, 9)"
      ]
     },
     "execution_count": 6,
     "metadata": {},
     "output_type": "execute_result"
    }
   ],
   "source": [
    "df.shape"
   ]
  },
  {
   "cell_type": "code",
   "execution_count": 7,
   "metadata": {},
   "outputs": [],
   "source": [
    "df.dropna(inplace = True)"
   ]
  },
  {
   "cell_type": "code",
   "execution_count": 8,
   "metadata": {},
   "outputs": [],
   "source": [
    "comment = ','.join(df['comment'])\n",
    "text_obj = NRCLex(comment)"
   ]
  },
  {
   "cell_type": "code",
   "execution_count": 9,
   "metadata": {},
   "outputs": [
    {
     "data": {
      "text/plain": [
       "{'anger': 387,\n",
       " 'negative': 1436,\n",
       " 'positive': 1419,\n",
       " 'sadness': 861,\n",
       " 'anticipation': 700,\n",
       " 'disgust': 620,\n",
       " 'fear': 759,\n",
       " 'joy': 469,\n",
       " 'surprise': 372,\n",
       " 'trust': 773}"
      ]
     },
     "execution_count": 9,
     "metadata": {},
     "output_type": "execute_result"
    }
   ],
   "source": [
    "data = text_obj.raw_emotion_scores\n",
    "data"
   ]
  },
  {
   "cell_type": "code",
   "execution_count": 10,
   "metadata": {},
   "outputs": [],
   "source": [
    "emotion_df = pd.DataFrame.from_dict(data, orient = 'index')\n",
    "emotion_df = emotion_df.reset_index()\n",
    "emotion_df = emotion_df.rename(columns = {'index' : 'Emotion', 0 : 'Count'})\n",
    "emotion_df = emotion_df.sort_values(by = ['Count'], ascending = False)"
   ]
  },
  {
   "cell_type": "code",
   "execution_count": 11,
   "metadata": {},
   "outputs": [
    {
     "data": {
      "text/html": [
       "<div>\n",
       "<style scoped>\n",
       "    .dataframe tbody tr th:only-of-type {\n",
       "        vertical-align: middle;\n",
       "    }\n",
       "\n",
       "    .dataframe tbody tr th {\n",
       "        vertical-align: top;\n",
       "    }\n",
       "\n",
       "    .dataframe thead th {\n",
       "        text-align: right;\n",
       "    }\n",
       "</style>\n",
       "<table border=\"1\" class=\"dataframe\">\n",
       "  <thead>\n",
       "    <tr style=\"text-align: right;\">\n",
       "      <th></th>\n",
       "      <th>Emotion</th>\n",
       "      <th>Count</th>\n",
       "    </tr>\n",
       "  </thead>\n",
       "  <tbody>\n",
       "    <tr>\n",
       "      <th>1</th>\n",
       "      <td>negative</td>\n",
       "      <td>1436</td>\n",
       "    </tr>\n",
       "    <tr>\n",
       "      <th>2</th>\n",
       "      <td>positive</td>\n",
       "      <td>1419</td>\n",
       "    </tr>\n",
       "    <tr>\n",
       "      <th>3</th>\n",
       "      <td>sadness</td>\n",
       "      <td>861</td>\n",
       "    </tr>\n",
       "    <tr>\n",
       "      <th>9</th>\n",
       "      <td>trust</td>\n",
       "      <td>773</td>\n",
       "    </tr>\n",
       "    <tr>\n",
       "      <th>6</th>\n",
       "      <td>fear</td>\n",
       "      <td>759</td>\n",
       "    </tr>\n",
       "    <tr>\n",
       "      <th>4</th>\n",
       "      <td>anticipation</td>\n",
       "      <td>700</td>\n",
       "    </tr>\n",
       "    <tr>\n",
       "      <th>5</th>\n",
       "      <td>disgust</td>\n",
       "      <td>620</td>\n",
       "    </tr>\n",
       "    <tr>\n",
       "      <th>7</th>\n",
       "      <td>joy</td>\n",
       "      <td>469</td>\n",
       "    </tr>\n",
       "    <tr>\n",
       "      <th>0</th>\n",
       "      <td>anger</td>\n",
       "      <td>387</td>\n",
       "    </tr>\n",
       "    <tr>\n",
       "      <th>8</th>\n",
       "      <td>surprise</td>\n",
       "      <td>372</td>\n",
       "    </tr>\n",
       "  </tbody>\n",
       "</table>\n",
       "</div>"
      ],
      "text/plain": [
       "        Emotion  Count\n",
       "1      negative   1436\n",
       "2      positive   1419\n",
       "3       sadness    861\n",
       "9         trust    773\n",
       "6          fear    759\n",
       "4  anticipation    700\n",
       "5       disgust    620\n",
       "7           joy    469\n",
       "0         anger    387\n",
       "8      surprise    372"
      ]
     },
     "execution_count": 11,
     "metadata": {},
     "output_type": "execute_result"
    }
   ],
   "source": [
    "emotion_df"
   ]
  },
  {
   "cell_type": "code",
   "execution_count": 12,
   "metadata": {},
   "outputs": [
    {
     "data": {
      "image/png": "[encoded data removed]",
      "text/plain": [
       "<Figure size 1152x576 with 1 Axes>"
      ]
     },
     "metadata": {},
     "output_type": "display_data"
    }
   ],
   "source": [
    "sns.set_theme(style = 'whitegrid')\n",
    "plt.figure(figsize = (16, 8))\n",
    "sns.barplot(x = 'Emotion', y = 'Count', data = emotion_df);"
   ]
  },
  {
   "cell_type": "markdown",
   "metadata": {},
   "source": [
    "# Sentiment analysis by drugs"
   ]
  },
  {
   "cell_type": "code",
   "execution_count": 13,
   "metadata": {},
   "outputs": [
    {
     "data": {
      "text/plain": [
       "metformin oral              195\n",
       "Actos oral                   98\n",
       "Januvia oral                 66\n",
       "Byetta subcutaneous          63\n",
       "Invokana oral                38\n",
       "                           ... \n",
       "glipizide-metformin oral      2\n",
       "Novolin R injection           2\n",
       "Avandaryl oral                2\n",
       "Invokamet oral                1\n",
       "Glucotrol XL oral             1\n",
       "Name: drug, Length: 70, dtype: int64"
      ]
     },
     "execution_count": 13,
     "metadata": {},
     "output_type": "execute_result"
    }
   ],
   "source": [
    "df.drug.value_counts()"
   ]
  },
  {
   "cell_type": "code",
   "execution_count": 14,
   "metadata": {},
   "outputs": [
    {
     "name": "stdout",
     "output_type": "stream",
     "text": [
      "70\n"
     ]
    }
   ],
   "source": [
    "print(len(df.drug.unique()))"
   ]
  },
  {
   "cell_type": "code",
   "execution_count": 15,
   "metadata": {},
   "outputs": [
    {
     "data": {
      "text/plain": [
       "['metformin oral',\n",
       " 'Kombiglyze XR oral',\n",
       " 'Afrezza inhalation',\n",
       " 'Glumetza oral',\n",
       " 'Farxiga oral']"
      ]
     },
     "execution_count": 15,
     "metadata": {},
     "output_type": "execute_result"
    }
   ],
   "source": [
    "drug_type = list(df.drug.unique())\n",
    "drug_type[:5]"
   ]
  },
  {
   "cell_type": "markdown",
   "metadata": {},
   "source": [
    "### Sentiment by drug type"
   ]
  },
  {
   "cell_type": "code",
   "execution_count": 16,
   "metadata": {},
   "outputs": [],
   "source": [
    "comment = ','.join(df['comment'])\n",
    "text_obj = NRCLex(comment)\n"
   ]
  },
  {
   "cell_type": "code",
   "execution_count": 17,
   "metadata": {},
   "outputs": [],
   "source": [
    "text_obj = NRCLex(comment)"
   ]
  },
  {
   "cell_type": "code",
   "execution_count": 18,
   "metadata": {},
   "outputs": [
    {
     "data": {
      "text/plain": [
       "{'anger': 387,\n",
       " 'negative': 1436,\n",
       " 'positive': 1419,\n",
       " 'sadness': 861,\n",
       " 'anticipation': 700,\n",
       " 'disgust': 620,\n",
       " 'fear': 759,\n",
       " 'joy': 469,\n",
       " 'surprise': 372,\n",
       " 'trust': 773}"
      ]
     },
     "execution_count": 18,
     "metadata": {},
     "output_type": "execute_result"
    }
   ],
   "source": [
    "emo_data = text_obj.raw_emotion_scores\n",
    "emo_data"
   ]
  },
  {
   "cell_type": "code",
   "execution_count": 19,
   "metadata": {},
   "outputs": [
    {
     "data": {
      "text/plain": [
       "0       The medication has helped me keep my 2 month s...\n",
       "1153    EVER THING I EAT OR DRINK FOR 7 MONTHS IS BITT...\n",
       "1168    This medicine has really helped my sugar level...\n",
       "1173    Undiagnosed for years diagnosed with HgbA1c Ap...\n",
       "1178    Been on metformin since diagnosis in 2005, wit...\n",
       "                              ...                        \n",
       "2353    I have taken this drug for 4 years and lately ...\n",
       "2358    i have taken 2000 per day for 25 years. now i ...\n",
       "2363    I was diagnosed with Type 2 diabetes 1.5 month...\n",
       "2368    I took 1 dose, and my entire GI system suffere...\n",
       "2373    after a week----mouth ulccers,cudnt talk,eat,d...\n",
       "Name: comment, Length: 195, dtype: object"
      ]
     },
     "execution_count": 19,
     "metadata": {},
     "output_type": "execute_result"
    }
   ],
   "source": [
    "df[df['drug'] == 'metformin oral'].comment"
   ]
  },
  {
   "cell_type": "code",
   "execution_count": 20,
   "metadata": {},
   "outputs": [],
   "source": [
    "comment = ','.join(df['comment'])\n",
    "text_obj = NRCLex(comment)"
   ]
  },
  {
   "cell_type": "code",
   "execution_count": 21,
   "metadata": {},
   "outputs": [],
   "source": [
    "drug_df_list = []\n",
    "\n",
    "\n",
    "for drug in drug_type:\n",
    "    #sentiment analysis\n",
    "    comment = ','.join(df[df['drug'] == drug].comment)\n",
    "    text_obj = NRCLex(comment)\n",
    "    emo_df = text_obj.raw_emotion_scores\n",
    "   \n",
    "    \n",
    "    drug_df_list.append(emo_df)\n",
    "    "
   ]
  },
  {
   "cell_type": "code",
   "execution_count": 22,
   "metadata": {},
   "outputs": [
    {
     "data": {
      "text/plain": [
       "[{'positive': 243,\n",
       "  'negative': 283,\n",
       "  'anger': 81,\n",
       "  'fear': 117,\n",
       "  'sadness': 146,\n",
       "  'anticipation': 120,\n",
       "  'trust': 145,\n",
       "  'disgust': 132,\n",
       "  'surprise': 69,\n",
       "  'joy': 83},\n",
       " {'joy': 3,\n",
       "  'positive': 17,\n",
       "  'trust': 7,\n",
       "  'anticipation': 4,\n",
       "  'disgust': 8,\n",
       "  'fear': 7,\n",
       "  'negative': 12,\n",
       "  'sadness': 10,\n",
       "  'surprise': 1,\n",
       "  'anger': 6},\n",
       " {'anger': 1, 'negative': 1, 'positive': 1, 'anticipation': 1}]"
      ]
     },
     "execution_count": 22,
     "metadata": {},
     "output_type": "execute_result"
    }
   ],
   "source": [
    "drug_df_list[0:3]"
   ]
  },
  {
   "cell_type": "code",
   "execution_count": 23,
   "metadata": {},
   "outputs": [],
   "source": [
    "sentiment_df = pd.DataFrame.from_dict(drug_df_list)"
   ]
  },
  {
   "cell_type": "code",
   "execution_count": 24,
   "metadata": {},
   "outputs": [
    {
     "data": {
      "text/html": [
       "<div>\n",
       "<style scoped>\n",
       "    .dataframe tbody tr th:only-of-type {\n",
       "        vertical-align: middle;\n",
       "    }\n",
       "\n",
       "    .dataframe tbody tr th {\n",
       "        vertical-align: top;\n",
       "    }\n",
       "\n",
       "    .dataframe thead th {\n",
       "        text-align: right;\n",
       "    }\n",
       "</style>\n",
       "<table border=\"1\" class=\"dataframe\">\n",
       "  <thead>\n",
       "    <tr style=\"text-align: right;\">\n",
       "      <th></th>\n",
       "      <th>positive</th>\n",
       "      <th>negative</th>\n",
       "      <th>anger</th>\n",
       "      <th>fear</th>\n",
       "      <th>sadness</th>\n",
       "      <th>anticipation</th>\n",
       "      <th>trust</th>\n",
       "      <th>disgust</th>\n",
       "      <th>surprise</th>\n",
       "      <th>joy</th>\n",
       "    </tr>\n",
       "  </thead>\n",
       "  <tbody>\n",
       "    <tr>\n",
       "      <th>0</th>\n",
       "      <td>243</td>\n",
       "      <td>283.0</td>\n",
       "      <td>81.0</td>\n",
       "      <td>117.0</td>\n",
       "      <td>146.0</td>\n",
       "      <td>120.0</td>\n",
       "      <td>145.0</td>\n",
       "      <td>132.0</td>\n",
       "      <td>69.0</td>\n",
       "      <td>83.0</td>\n",
       "    </tr>\n",
       "    <tr>\n",
       "      <th>1</th>\n",
       "      <td>17</td>\n",
       "      <td>12.0</td>\n",
       "      <td>6.0</td>\n",
       "      <td>7.0</td>\n",
       "      <td>10.0</td>\n",
       "      <td>4.0</td>\n",
       "      <td>7.0</td>\n",
       "      <td>8.0</td>\n",
       "      <td>1.0</td>\n",
       "      <td>3.0</td>\n",
       "    </tr>\n",
       "    <tr>\n",
       "      <th>2</th>\n",
       "      <td>1</td>\n",
       "      <td>1.0</td>\n",
       "      <td>1.0</td>\n",
       "      <td>NaN</td>\n",
       "      <td>NaN</td>\n",
       "      <td>1.0</td>\n",
       "      <td>NaN</td>\n",
       "      <td>NaN</td>\n",
       "      <td>NaN</td>\n",
       "      <td>NaN</td>\n",
       "    </tr>\n",
       "    <tr>\n",
       "      <th>3</th>\n",
       "      <td>10</td>\n",
       "      <td>8.0</td>\n",
       "      <td>3.0</td>\n",
       "      <td>7.0</td>\n",
       "      <td>3.0</td>\n",
       "      <td>7.0</td>\n",
       "      <td>4.0</td>\n",
       "      <td>5.0</td>\n",
       "      <td>2.0</td>\n",
       "      <td>5.0</td>\n",
       "    </tr>\n",
       "    <tr>\n",
       "      <th>4</th>\n",
       "      <td>34</td>\n",
       "      <td>34.0</td>\n",
       "      <td>11.0</td>\n",
       "      <td>24.0</td>\n",
       "      <td>28.0</td>\n",
       "      <td>22.0</td>\n",
       "      <td>18.0</td>\n",
       "      <td>10.0</td>\n",
       "      <td>11.0</td>\n",
       "      <td>14.0</td>\n",
       "    </tr>\n",
       "  </tbody>\n",
       "</table>\n",
       "</div>"
      ],
      "text/plain": [
       "   positive  negative  anger   fear  sadness  anticipation  trust  disgust  \\\n",
       "0       243     283.0   81.0  117.0    146.0         120.0  145.0    132.0   \n",
       "1        17      12.0    6.0    7.0     10.0           4.0    7.0      8.0   \n",
       "2         1       1.0    1.0    NaN      NaN           1.0    NaN      NaN   \n",
       "3        10       8.0    3.0    7.0      3.0           7.0    4.0      5.0   \n",
       "4        34      34.0   11.0   24.0     28.0          22.0   18.0     10.0   \n",
       "\n",
       "   surprise   joy  \n",
       "0      69.0  83.0  \n",
       "1       1.0   3.0  \n",
       "2       NaN   NaN  \n",
       "3       2.0   5.0  \n",
       "4      11.0  14.0  "
      ]
     },
     "execution_count": 24,
     "metadata": {},
     "output_type": "execute_result"
    }
   ],
   "source": [
    "sentiment_df.head()"
   ]
  },
  {
   "cell_type": "code",
   "execution_count": 25,
   "metadata": {},
   "outputs": [
    {
     "data": {
      "text/html": [
       "<div>\n",
       "<style scoped>\n",
       "    .dataframe tbody tr th:only-of-type {\n",
       "        vertical-align: middle;\n",
       "    }\n",
       "\n",
       "    .dataframe tbody tr th {\n",
       "        vertical-align: top;\n",
       "    }\n",
       "\n",
       "    .dataframe thead th {\n",
       "        text-align: right;\n",
       "    }\n",
       "</style>\n",
       "<table border=\"1\" class=\"dataframe\">\n",
       "  <thead>\n",
       "    <tr style=\"text-align: right;\">\n",
       "      <th></th>\n",
       "      <th>positive</th>\n",
       "      <th>negative</th>\n",
       "      <th>anger</th>\n",
       "      <th>fear</th>\n",
       "      <th>sadness</th>\n",
       "      <th>anticipation</th>\n",
       "      <th>trust</th>\n",
       "      <th>disgust</th>\n",
       "      <th>surprise</th>\n",
       "      <th>joy</th>\n",
       "    </tr>\n",
       "  </thead>\n",
       "  <tbody>\n",
       "    <tr>\n",
       "      <th>metformin oral</th>\n",
       "      <td>243</td>\n",
       "      <td>283.0</td>\n",
       "      <td>81.0</td>\n",
       "      <td>117.0</td>\n",
       "      <td>146.0</td>\n",
       "      <td>120.0</td>\n",
       "      <td>145.0</td>\n",
       "      <td>132.0</td>\n",
       "      <td>69.0</td>\n",
       "      <td>83.0</td>\n",
       "    </tr>\n",
       "    <tr>\n",
       "      <th>Kombiglyze XR oral</th>\n",
       "      <td>17</td>\n",
       "      <td>12.0</td>\n",
       "      <td>6.0</td>\n",
       "      <td>7.0</td>\n",
       "      <td>10.0</td>\n",
       "      <td>4.0</td>\n",
       "      <td>7.0</td>\n",
       "      <td>8.0</td>\n",
       "      <td>1.0</td>\n",
       "      <td>3.0</td>\n",
       "    </tr>\n",
       "    <tr>\n",
       "      <th>Afrezza inhalation</th>\n",
       "      <td>1</td>\n",
       "      <td>1.0</td>\n",
       "      <td>1.0</td>\n",
       "      <td>NaN</td>\n",
       "      <td>NaN</td>\n",
       "      <td>1.0</td>\n",
       "      <td>NaN</td>\n",
       "      <td>NaN</td>\n",
       "      <td>NaN</td>\n",
       "      <td>NaN</td>\n",
       "    </tr>\n",
       "    <tr>\n",
       "      <th>Glumetza oral</th>\n",
       "      <td>10</td>\n",
       "      <td>8.0</td>\n",
       "      <td>3.0</td>\n",
       "      <td>7.0</td>\n",
       "      <td>3.0</td>\n",
       "      <td>7.0</td>\n",
       "      <td>4.0</td>\n",
       "      <td>5.0</td>\n",
       "      <td>2.0</td>\n",
       "      <td>5.0</td>\n",
       "    </tr>\n",
       "    <tr>\n",
       "      <th>Farxiga oral</th>\n",
       "      <td>34</td>\n",
       "      <td>34.0</td>\n",
       "      <td>11.0</td>\n",
       "      <td>24.0</td>\n",
       "      <td>28.0</td>\n",
       "      <td>22.0</td>\n",
       "      <td>18.0</td>\n",
       "      <td>10.0</td>\n",
       "      <td>11.0</td>\n",
       "      <td>14.0</td>\n",
       "    </tr>\n",
       "    <tr>\n",
       "      <th>...</th>\n",
       "      <td>...</td>\n",
       "      <td>...</td>\n",
       "      <td>...</td>\n",
       "      <td>...</td>\n",
       "      <td>...</td>\n",
       "      <td>...</td>\n",
       "      <td>...</td>\n",
       "      <td>...</td>\n",
       "      <td>...</td>\n",
       "      <td>...</td>\n",
       "    </tr>\n",
       "    <tr>\n",
       "      <th>Byetta subcutaneous</th>\n",
       "      <td>104</td>\n",
       "      <td>134.0</td>\n",
       "      <td>37.0</td>\n",
       "      <td>68.0</td>\n",
       "      <td>93.0</td>\n",
       "      <td>60.0</td>\n",
       "      <td>58.0</td>\n",
       "      <td>72.0</td>\n",
       "      <td>35.0</td>\n",
       "      <td>49.0</td>\n",
       "    </tr>\n",
       "    <tr>\n",
       "      <th>Actos oral</th>\n",
       "      <td>149</td>\n",
       "      <td>141.0</td>\n",
       "      <td>35.0</td>\n",
       "      <td>89.0</td>\n",
       "      <td>89.0</td>\n",
       "      <td>85.0</td>\n",
       "      <td>75.0</td>\n",
       "      <td>52.0</td>\n",
       "      <td>38.0</td>\n",
       "      <td>53.0</td>\n",
       "    </tr>\n",
       "    <tr>\n",
       "      <th>Januvia oral</th>\n",
       "      <td>104</td>\n",
       "      <td>101.0</td>\n",
       "      <td>19.0</td>\n",
       "      <td>55.0</td>\n",
       "      <td>65.0</td>\n",
       "      <td>45.0</td>\n",
       "      <td>49.0</td>\n",
       "      <td>42.0</td>\n",
       "      <td>17.0</td>\n",
       "      <td>22.0</td>\n",
       "    </tr>\n",
       "    <tr>\n",
       "      <th>glimepiride oral</th>\n",
       "      <td>47</td>\n",
       "      <td>41.0</td>\n",
       "      <td>13.0</td>\n",
       "      <td>23.0</td>\n",
       "      <td>22.0</td>\n",
       "      <td>17.0</td>\n",
       "      <td>24.0</td>\n",
       "      <td>20.0</td>\n",
       "      <td>3.0</td>\n",
       "      <td>5.0</td>\n",
       "    </tr>\n",
       "    <tr>\n",
       "      <th>Bydureon subcutaneous</th>\n",
       "      <td>38</td>\n",
       "      <td>51.0</td>\n",
       "      <td>11.0</td>\n",
       "      <td>34.0</td>\n",
       "      <td>30.0</td>\n",
       "      <td>22.0</td>\n",
       "      <td>25.0</td>\n",
       "      <td>22.0</td>\n",
       "      <td>16.0</td>\n",
       "      <td>17.0</td>\n",
       "    </tr>\n",
       "  </tbody>\n",
       "</table>\n",
       "<p>70 rows × 10 columns</p>\n",
       "</div>"
      ],
      "text/plain": [
       "                       positive  negative  anger   fear  sadness  \\\n",
       "metformin oral              243     283.0   81.0  117.0    146.0   \n",
       "Kombiglyze XR oral           17      12.0    6.0    7.0     10.0   \n",
       "Afrezza inhalation            1       1.0    1.0    NaN      NaN   \n",
       "Glumetza oral                10       8.0    3.0    7.0      3.0   \n",
       "Farxiga oral                 34      34.0   11.0   24.0     28.0   \n",
       "...                         ...       ...    ...    ...      ...   \n",
       "Byetta subcutaneous         104     134.0   37.0   68.0     93.0   \n",
       "Actos oral                  149     141.0   35.0   89.0     89.0   \n",
       "Januvia oral                104     101.0   19.0   55.0     65.0   \n",
       "glimepiride oral             47      41.0   13.0   23.0     22.0   \n",
       "Bydureon subcutaneous        38      51.0   11.0   34.0     30.0   \n",
       "\n",
       "                       anticipation  trust  disgust  surprise   joy  \n",
       "metformin oral                120.0  145.0    132.0      69.0  83.0  \n",
       "Kombiglyze XR oral              4.0    7.0      8.0       1.0   3.0  \n",
       "Afrezza inhalation              1.0    NaN      NaN       NaN   NaN  \n",
       "Glumetza oral                   7.0    4.0      5.0       2.0   5.0  \n",
       "Farxiga oral                   22.0   18.0     10.0      11.0  14.0  \n",
       "...                             ...    ...      ...       ...   ...  \n",
       "Byetta subcutaneous            60.0   58.0     72.0      35.0  49.0  \n",
       "Actos oral                     85.0   75.0     52.0      38.0  53.0  \n",
       "Januvia oral                   45.0   49.0     42.0      17.0  22.0  \n",
       "glimepiride oral               17.0   24.0     20.0       3.0   5.0  \n",
       "Bydureon subcutaneous          22.0   25.0     22.0      16.0  17.0  \n",
       "\n",
       "[70 rows x 10 columns]"
      ]
     },
     "execution_count": 25,
     "metadata": {},
     "output_type": "execute_result"
    }
   ],
   "source": [
    "sentiment_df.index = drug_type\n",
    "sentiment_df"
   ]
  },
  {
   "cell_type": "markdown",
   "metadata": {},
   "source": [
    "# Sentiment analysis by drugs: Visualization of Top 10 Drugs"
   ]
  },
  {
   "cell_type": "code",
   "execution_count": 26,
   "metadata": {},
   "outputs": [
    {
     "data": {
      "text/html": [
       "<div>\n",
       "<style scoped>\n",
       "    .dataframe tbody tr th:only-of-type {\n",
       "        vertical-align: middle;\n",
       "    }\n",
       "\n",
       "    .dataframe tbody tr th {\n",
       "        vertical-align: top;\n",
       "    }\n",
       "\n",
       "    .dataframe thead th {\n",
       "        text-align: right;\n",
       "    }\n",
       "</style>\n",
       "<table border=\"1\" class=\"dataframe\">\n",
       "  <thead>\n",
       "    <tr style=\"text-align: right;\">\n",
       "      <th></th>\n",
       "      <th>Rdate</th>\n",
       "      <th>comment</th>\n",
       "      <th>condition</th>\n",
       "      <th>drug</th>\n",
       "      <th>easeofuse</th>\n",
       "      <th>effectiveness</th>\n",
       "      <th>helpful</th>\n",
       "      <th>reviewer</th>\n",
       "      <th>satisfaction</th>\n",
       "    </tr>\n",
       "  </thead>\n",
       "  <tbody>\n",
       "    <tr>\n",
       "      <th>0</th>\n",
       "      <td>9/19/07 9:03</td>\n",
       "      <td>The medication has helped me keep my 2 month s...</td>\n",
       "      <td>Type 2 Diabetes Mellitus</td>\n",
       "      <td>metformin oral</td>\n",
       "      <td>5</td>\n",
       "      <td>4</td>\n",
       "      <td>2</td>\n",
       "      <td>bjorn, 65-74 Male  on Treatment for 2 to less ...</td>\n",
       "      <td>3</td>\n",
       "    </tr>\n",
       "    <tr>\n",
       "      <th>2</th>\n",
       "      <td>4/24/11 8:59</td>\n",
       "      <td>I have just started to take this drug for a st...</td>\n",
       "      <td>Type 2 Diabetes Mellitus</td>\n",
       "      <td>Kombiglyze XR oral</td>\n",
       "      <td>5</td>\n",
       "      <td>4</td>\n",
       "      <td>3</td>\n",
       "      <td>jarele, 25-34 Male  on Treatment for less than...</td>\n",
       "      <td>4</td>\n",
       "    </tr>\n",
       "    <tr>\n",
       "      <th>5</th>\n",
       "      <td>3/25/15 12:34</td>\n",
       "      <td>Doesn't work. Cough is intolerable. Dosing doe...</td>\n",
       "      <td>Type 2 Diabetes Mellitus</td>\n",
       "      <td>Afrezza inhalation</td>\n",
       "      <td>1</td>\n",
       "      <td>1</td>\n",
       "      <td>0</td>\n",
       "      <td>Brewman , 55-64 Male  on Treatment for 1 to 6 ...</td>\n",
       "      <td>1</td>\n",
       "    </tr>\n",
       "    <tr>\n",
       "      <th>8</th>\n",
       "      <td>9/27/07 11:30</td>\n",
       "      <td>Had been on glucophage for 2 years but had to ...</td>\n",
       "      <td>Type 2 Diabetes Mellitus</td>\n",
       "      <td>Glumetza oral</td>\n",
       "      <td>5</td>\n",
       "      <td>3</td>\n",
       "      <td>1</td>\n",
       "      <td>maureen, 65-74 Female  on Treatment for 6 mont...</td>\n",
       "      <td>3</td>\n",
       "    </tr>\n",
       "    <tr>\n",
       "      <th>12</th>\n",
       "      <td>6/2/14 23:57</td>\n",
       "      <td>Farxiga is the first oral med to work for me. ...</td>\n",
       "      <td>Type 2 Diabetes Mellitus</td>\n",
       "      <td>Farxiga oral</td>\n",
       "      <td>5</td>\n",
       "      <td>5</td>\n",
       "      <td>3</td>\n",
       "      <td>jumikja, 55-64 Female  on Treatment for 1 to 6...</td>\n",
       "      <td>5</td>\n",
       "    </tr>\n",
       "  </tbody>\n",
       "</table>\n",
       "</div>"
      ],
      "text/plain": [
       "            Rdate                                            comment  \\\n",
       "0    9/19/07 9:03  The medication has helped me keep my 2 month s...   \n",
       "2    4/24/11 8:59  I have just started to take this drug for a st...   \n",
       "5   3/25/15 12:34  Doesn't work. Cough is intolerable. Dosing doe...   \n",
       "8   9/27/07 11:30  Had been on glucophage for 2 years but had to ...   \n",
       "12   6/2/14 23:57  Farxiga is the first oral med to work for me. ...   \n",
       "\n",
       "                   condition                drug  easeofuse  effectiveness  \\\n",
       "0   Type 2 Diabetes Mellitus      metformin oral          5              4   \n",
       "2   Type 2 Diabetes Mellitus  Kombiglyze XR oral          5              4   \n",
       "5   Type 2 Diabetes Mellitus  Afrezza inhalation          1              1   \n",
       "8   Type 2 Diabetes Mellitus       Glumetza oral          5              3   \n",
       "12  Type 2 Diabetes Mellitus        Farxiga oral          5              5   \n",
       "\n",
       "    helpful                                           reviewer  satisfaction  \n",
       "0         2  bjorn, 65-74 Male  on Treatment for 2 to less ...             3  \n",
       "2         3  jarele, 25-34 Male  on Treatment for less than...             4  \n",
       "5         0  Brewman , 55-64 Male  on Treatment for 1 to 6 ...             1  \n",
       "8         1  maureen, 65-74 Female  on Treatment for 6 mont...             3  \n",
       "12        3  jumikja, 55-64 Female  on Treatment for 1 to 6...             5  "
      ]
     },
     "execution_count": 26,
     "metadata": {},
     "output_type": "execute_result"
    }
   ],
   "source": [
    "df.head()"
   ]
  },
  {
   "cell_type": "code",
   "execution_count": 27,
   "metadata": {},
   "outputs": [
    {
     "data": {
      "text/plain": [
       "metformin oral              195\n",
       "Actos oral                   98\n",
       "Januvia oral                 66\n",
       "Byetta subcutaneous          63\n",
       "Invokana oral                38\n",
       "                           ... \n",
       "glipizide-metformin oral      2\n",
       "Novolin R injection           2\n",
       "Avandaryl oral                2\n",
       "Invokamet oral                1\n",
       "Glucotrol XL oral             1\n",
       "Name: drug, Length: 70, dtype: int64"
      ]
     },
     "execution_count": 27,
     "metadata": {},
     "output_type": "execute_result"
    }
   ],
   "source": [
    "count_df = df['drug'].value_counts()\n",
    "count_df"
   ]
  },
  {
   "cell_type": "code",
   "execution_count": 28,
   "metadata": {},
   "outputs": [
    {
     "data": {
      "text/html": [
       "<div>\n",
       "<style scoped>\n",
       "    .dataframe tbody tr th:only-of-type {\n",
       "        vertical-align: middle;\n",
       "    }\n",
       "\n",
       "    .dataframe tbody tr th {\n",
       "        vertical-align: top;\n",
       "    }\n",
       "\n",
       "    .dataframe thead th {\n",
       "        text-align: right;\n",
       "    }\n",
       "</style>\n",
       "<table border=\"1\" class=\"dataframe\">\n",
       "  <thead>\n",
       "    <tr style=\"text-align: right;\">\n",
       "      <th></th>\n",
       "      <th>easeofuse</th>\n",
       "      <th>effectiveness</th>\n",
       "      <th>satisfaction</th>\n",
       "      <th>drug</th>\n",
       "    </tr>\n",
       "  </thead>\n",
       "  <tbody>\n",
       "    <tr>\n",
       "      <th>0</th>\n",
       "      <td>5</td>\n",
       "      <td>4</td>\n",
       "      <td>3</td>\n",
       "      <td>metformin oral</td>\n",
       "    </tr>\n",
       "    <tr>\n",
       "      <th>2</th>\n",
       "      <td>5</td>\n",
       "      <td>4</td>\n",
       "      <td>4</td>\n",
       "      <td>Kombiglyze XR oral</td>\n",
       "    </tr>\n",
       "    <tr>\n",
       "      <th>5</th>\n",
       "      <td>1</td>\n",
       "      <td>1</td>\n",
       "      <td>1</td>\n",
       "      <td>Afrezza inhalation</td>\n",
       "    </tr>\n",
       "    <tr>\n",
       "      <th>8</th>\n",
       "      <td>5</td>\n",
       "      <td>3</td>\n",
       "      <td>3</td>\n",
       "      <td>Glumetza oral</td>\n",
       "    </tr>\n",
       "    <tr>\n",
       "      <th>12</th>\n",
       "      <td>5</td>\n",
       "      <td>5</td>\n",
       "      <td>5</td>\n",
       "      <td>Farxiga oral</td>\n",
       "    </tr>\n",
       "    <tr>\n",
       "      <th>...</th>\n",
       "      <td>...</td>\n",
       "      <td>...</td>\n",
       "      <td>...</td>\n",
       "      <td>...</td>\n",
       "    </tr>\n",
       "    <tr>\n",
       "      <th>5470</th>\n",
       "      <td>5</td>\n",
       "      <td>5</td>\n",
       "      <td>5</td>\n",
       "      <td>Victoza 2-Pak subcutaneous</td>\n",
       "    </tr>\n",
       "    <tr>\n",
       "      <th>5475</th>\n",
       "      <td>5</td>\n",
       "      <td>4</td>\n",
       "      <td>3</td>\n",
       "      <td>Victoza 2-Pak subcutaneous</td>\n",
       "    </tr>\n",
       "    <tr>\n",
       "      <th>5480</th>\n",
       "      <td>4</td>\n",
       "      <td>3</td>\n",
       "      <td>2</td>\n",
       "      <td>Victoza 2-Pak subcutaneous</td>\n",
       "    </tr>\n",
       "    <tr>\n",
       "      <th>5485</th>\n",
       "      <td>5</td>\n",
       "      <td>5</td>\n",
       "      <td>5</td>\n",
       "      <td>Victoza 2-Pak subcutaneous</td>\n",
       "    </tr>\n",
       "    <tr>\n",
       "      <th>5490</th>\n",
       "      <td>5</td>\n",
       "      <td>5</td>\n",
       "      <td>1</td>\n",
       "      <td>Victoza 2-Pak subcutaneous</td>\n",
       "    </tr>\n",
       "  </tbody>\n",
       "</table>\n",
       "<p>931 rows × 4 columns</p>\n",
       "</div>"
      ],
      "text/plain": [
       "      easeofuse  effectiveness  satisfaction                        drug\n",
       "0             5              4             3              metformin oral\n",
       "2             5              4             4          Kombiglyze XR oral\n",
       "5             1              1             1          Afrezza inhalation\n",
       "8             5              3             3               Glumetza oral\n",
       "12            5              5             5                Farxiga oral\n",
       "...         ...            ...           ...                         ...\n",
       "5470          5              5             5  Victoza 2-Pak subcutaneous\n",
       "5475          5              4             3  Victoza 2-Pak subcutaneous\n",
       "5480          4              3             2  Victoza 2-Pak subcutaneous\n",
       "5485          5              5             5  Victoza 2-Pak subcutaneous\n",
       "5490          5              5             1  Victoza 2-Pak subcutaneous\n",
       "\n",
       "[931 rows x 4 columns]"
      ]
     },
     "execution_count": 28,
     "metadata": {},
     "output_type": "execute_result"
    }
   ],
   "source": [
    "viz_df = df[['easeofuse', 'effectiveness', 'satisfaction', 'drug']]\n",
    "viz_df"
   ]
  },
  {
   "cell_type": "code",
   "execution_count": 29,
   "metadata": {},
   "outputs": [
    {
     "data": {
      "text/html": [
       "<div>\n",
       "<style scoped>\n",
       "    .dataframe tbody tr th:only-of-type {\n",
       "        vertical-align: middle;\n",
       "    }\n",
       "\n",
       "    .dataframe tbody tr th {\n",
       "        vertical-align: top;\n",
       "    }\n",
       "\n",
       "    .dataframe thead th {\n",
       "        text-align: right;\n",
       "    }\n",
       "</style>\n",
       "<table border=\"1\" class=\"dataframe\">\n",
       "  <thead>\n",
       "    <tr style=\"text-align: right;\">\n",
       "      <th></th>\n",
       "      <th>easeofuse</th>\n",
       "      <th>effectiveness</th>\n",
       "      <th>satisfaction</th>\n",
       "    </tr>\n",
       "    <tr>\n",
       "      <th>drug</th>\n",
       "      <th></th>\n",
       "      <th></th>\n",
       "      <th></th>\n",
       "    </tr>\n",
       "  </thead>\n",
       "  <tbody>\n",
       "    <tr>\n",
       "      <th>Actoplus MET oral</th>\n",
       "      <td>4.09</td>\n",
       "      <td>3.45</td>\n",
       "      <td>2.82</td>\n",
       "    </tr>\n",
       "    <tr>\n",
       "      <th>Actos oral</th>\n",
       "      <td>3.80</td>\n",
       "      <td>3.12</td>\n",
       "      <td>2.39</td>\n",
       "    </tr>\n",
       "    <tr>\n",
       "      <th>Admelog U-100 Insulin lispro subcutaneous</th>\n",
       "      <td>2.00</td>\n",
       "      <td>1.00</td>\n",
       "      <td>1.00</td>\n",
       "    </tr>\n",
       "    <tr>\n",
       "      <th>Afrezza inhalation</th>\n",
       "      <td>3.67</td>\n",
       "      <td>3.67</td>\n",
       "      <td>3.67</td>\n",
       "    </tr>\n",
       "    <tr>\n",
       "      <th>Amaryl oral</th>\n",
       "      <td>4.36</td>\n",
       "      <td>3.50</td>\n",
       "      <td>2.93</td>\n",
       "    </tr>\n",
       "    <tr>\n",
       "      <th>...</th>\n",
       "      <td>...</td>\n",
       "      <td>...</td>\n",
       "      <td>...</td>\n",
       "    </tr>\n",
       "    <tr>\n",
       "      <th>metformin oral</th>\n",
       "      <td>3.76</td>\n",
       "      <td>3.18</td>\n",
       "      <td>2.75</td>\n",
       "    </tr>\n",
       "    <tr>\n",
       "      <th>nateglinide oral</th>\n",
       "      <td>4.50</td>\n",
       "      <td>3.00</td>\n",
       "      <td>2.50</td>\n",
       "    </tr>\n",
       "    <tr>\n",
       "      <th>pioglitazone oral</th>\n",
       "      <td>3.75</td>\n",
       "      <td>2.50</td>\n",
       "      <td>2.25</td>\n",
       "    </tr>\n",
       "    <tr>\n",
       "      <th>pioglitazone-metformin oral</th>\n",
       "      <td>3.50</td>\n",
       "      <td>3.50</td>\n",
       "      <td>3.50</td>\n",
       "    </tr>\n",
       "    <tr>\n",
       "      <th>sitagliptin oral</th>\n",
       "      <td>4.75</td>\n",
       "      <td>3.25</td>\n",
       "      <td>2.50</td>\n",
       "    </tr>\n",
       "  </tbody>\n",
       "</table>\n",
       "<p>70 rows × 3 columns</p>\n",
       "</div>"
      ],
      "text/plain": [
       "                                           easeofuse  effectiveness  \\\n",
       "drug                                                                  \n",
       "Actoplus MET oral                               4.09           3.45   \n",
       "Actos oral                                      3.80           3.12   \n",
       "Admelog U-100 Insulin lispro subcutaneous       2.00           1.00   \n",
       "Afrezza inhalation                              3.67           3.67   \n",
       "Amaryl oral                                     4.36           3.50   \n",
       "...                                              ...            ...   \n",
       "metformin oral                                  3.76           3.18   \n",
       "nateglinide oral                                4.50           3.00   \n",
       "pioglitazone oral                               3.75           2.50   \n",
       "pioglitazone-metformin oral                     3.50           3.50   \n",
       "sitagliptin oral                                4.75           3.25   \n",
       "\n",
       "                                           satisfaction  \n",
       "drug                                                     \n",
       "Actoplus MET oral                                  2.82  \n",
       "Actos oral                                         2.39  \n",
       "Admelog U-100 Insulin lispro subcutaneous          1.00  \n",
       "Afrezza inhalation                                 3.67  \n",
       "Amaryl oral                                        2.93  \n",
       "...                                                 ...  \n",
       "metformin oral                                     2.75  \n",
       "nateglinide oral                                   2.50  \n",
       "pioglitazone oral                                  2.25  \n",
       "pioglitazone-metformin oral                        3.50  \n",
       "sitagliptin oral                                   2.50  \n",
       "\n",
       "[70 rows x 3 columns]"
      ]
     },
     "execution_count": 29,
     "metadata": {},
     "output_type": "execute_result"
    }
   ],
   "source": [
    "drug_satis_df = viz_df.groupby(['drug']).mean().round(2)\n",
    "drug_satis_df"
   ]
  },
  {
   "cell_type": "code",
   "execution_count": 30,
   "metadata": {},
   "outputs": [
    {
     "data": {
      "text/html": [
       "<div>\n",
       "<style scoped>\n",
       "    .dataframe tbody tr th:only-of-type {\n",
       "        vertical-align: middle;\n",
       "    }\n",
       "\n",
       "    .dataframe tbody tr th {\n",
       "        vertical-align: top;\n",
       "    }\n",
       "\n",
       "    .dataframe thead th {\n",
       "        text-align: right;\n",
       "    }\n",
       "</style>\n",
       "<table border=\"1\" class=\"dataframe\">\n",
       "  <thead>\n",
       "    <tr style=\"text-align: right;\">\n",
       "      <th></th>\n",
       "      <th>drug</th>\n",
       "      <th>easeofuse</th>\n",
       "      <th>effectiveness</th>\n",
       "      <th>satisfaction</th>\n",
       "      <th>count</th>\n",
       "    </tr>\n",
       "  </thead>\n",
       "  <tbody>\n",
       "    <tr>\n",
       "      <th>0</th>\n",
       "      <td>Actoplus MET oral</td>\n",
       "      <td>4.09</td>\n",
       "      <td>3.45</td>\n",
       "      <td>2.82</td>\n",
       "      <td>11</td>\n",
       "    </tr>\n",
       "    <tr>\n",
       "      <th>1</th>\n",
       "      <td>Actos oral</td>\n",
       "      <td>3.80</td>\n",
       "      <td>3.12</td>\n",
       "      <td>2.39</td>\n",
       "      <td>98</td>\n",
       "    </tr>\n",
       "    <tr>\n",
       "      <th>2</th>\n",
       "      <td>Admelog U-100 Insulin lispro subcutaneous</td>\n",
       "      <td>2.00</td>\n",
       "      <td>1.00</td>\n",
       "      <td>1.00</td>\n",
       "      <td>2</td>\n",
       "    </tr>\n",
       "    <tr>\n",
       "      <th>3</th>\n",
       "      <td>Afrezza inhalation</td>\n",
       "      <td>3.67</td>\n",
       "      <td>3.67</td>\n",
       "      <td>3.67</td>\n",
       "      <td>3</td>\n",
       "    </tr>\n",
       "    <tr>\n",
       "      <th>4</th>\n",
       "      <td>Amaryl oral</td>\n",
       "      <td>4.36</td>\n",
       "      <td>3.50</td>\n",
       "      <td>2.93</td>\n",
       "      <td>14</td>\n",
       "    </tr>\n",
       "    <tr>\n",
       "      <th>...</th>\n",
       "      <td>...</td>\n",
       "      <td>...</td>\n",
       "      <td>...</td>\n",
       "      <td>...</td>\n",
       "      <td>...</td>\n",
       "    </tr>\n",
       "    <tr>\n",
       "      <th>65</th>\n",
       "      <td>metformin oral</td>\n",
       "      <td>3.76</td>\n",
       "      <td>3.18</td>\n",
       "      <td>2.75</td>\n",
       "      <td>195</td>\n",
       "    </tr>\n",
       "    <tr>\n",
       "      <th>66</th>\n",
       "      <td>nateglinide oral</td>\n",
       "      <td>4.50</td>\n",
       "      <td>3.00</td>\n",
       "      <td>2.50</td>\n",
       "      <td>2</td>\n",
       "    </tr>\n",
       "    <tr>\n",
       "      <th>67</th>\n",
       "      <td>pioglitazone oral</td>\n",
       "      <td>3.75</td>\n",
       "      <td>2.50</td>\n",
       "      <td>2.25</td>\n",
       "      <td>8</td>\n",
       "    </tr>\n",
       "    <tr>\n",
       "      <th>68</th>\n",
       "      <td>pioglitazone-metformin oral</td>\n",
       "      <td>3.50</td>\n",
       "      <td>3.50</td>\n",
       "      <td>3.50</td>\n",
       "      <td>2</td>\n",
       "    </tr>\n",
       "    <tr>\n",
       "      <th>69</th>\n",
       "      <td>sitagliptin oral</td>\n",
       "      <td>4.75</td>\n",
       "      <td>3.25</td>\n",
       "      <td>2.50</td>\n",
       "      <td>4</td>\n",
       "    </tr>\n",
       "  </tbody>\n",
       "</table>\n",
       "<p>70 rows × 5 columns</p>\n",
       "</div>"
      ],
      "text/plain": [
       "                                         drug  easeofuse  effectiveness  \\\n",
       "0                           Actoplus MET oral       4.09           3.45   \n",
       "1                                  Actos oral       3.80           3.12   \n",
       "2   Admelog U-100 Insulin lispro subcutaneous       2.00           1.00   \n",
       "3                          Afrezza inhalation       3.67           3.67   \n",
       "4                                 Amaryl oral       4.36           3.50   \n",
       "..                                        ...        ...            ...   \n",
       "65                             metformin oral       3.76           3.18   \n",
       "66                           nateglinide oral       4.50           3.00   \n",
       "67                          pioglitazone oral       3.75           2.50   \n",
       "68                pioglitazone-metformin oral       3.50           3.50   \n",
       "69                           sitagliptin oral       4.75           3.25   \n",
       "\n",
       "    satisfaction  count  \n",
       "0           2.82     11  \n",
       "1           2.39     98  \n",
       "2           1.00      2  \n",
       "3           3.67      3  \n",
       "4           2.93     14  \n",
       "..           ...    ...  \n",
       "65          2.75    195  \n",
       "66          2.50      2  \n",
       "67          2.25      8  \n",
       "68          3.50      2  \n",
       "69          2.50      4  \n",
       "\n",
       "[70 rows x 5 columns]"
      ]
     },
     "execution_count": 30,
     "metadata": {},
     "output_type": "execute_result"
    }
   ],
   "source": [
    "drug_satis_df['count'] = count_df\n",
    "df_drug = drug_satis_df.reset_index()\n",
    "df_drug"
   ]
  },
  {
   "cell_type": "code",
   "execution_count": 31,
   "metadata": {},
   "outputs": [
    {
     "data": {
      "text/plain": [
       "array(['Actoplus MET oral', 'Actos oral',\n",
       "       'Admelog U-100 Insulin lispro subcutaneous', 'Afrezza inhalation',\n",
       "       'Amaryl oral', 'Apidra subcutaneous', 'Avandamet oral',\n",
       "       'Avandaryl oral', 'Avandia oral', 'Bydureon subcutaneous',\n",
       "       'Byetta subcutaneous', 'DUETACT oral', 'Farxiga oral',\n",
       "       'Fortamet oral', 'Glucophage XR oral', 'Glucophage oral',\n",
       "       'Glucotrol XL oral', 'Glucotrol oral', 'Glucovance oral',\n",
       "       'Glumetza oral', 'Glyxambi oral', 'Humalog KwikPen subcutaneous',\n",
       "       'Humalog Mix 75-25 KwikPen subcutaneous',\n",
       "       'Humalog Mix 75-25 subcutaneous', 'Humalog subcutaneous',\n",
       "       'Humulin 70-30 subcutaneous', 'Invokamet oral', 'Invokana oral',\n",
       "       'Janumet XR oral', 'Janumet oral', 'Januvia oral',\n",
       "       'Jardiance oral', 'Jentadueto oral', 'Kombiglyze XR oral',\n",
       "       'Lantus Solostar subcutaneous', 'Lantus subcutaneous',\n",
       "       'Levemir FlexTouch subcutaneous', 'Levemir Flexpen subcutaneous',\n",
       "       'Levemir subcutaneous', 'Micronase oral', 'Novolin R injection',\n",
       "       'Novolog Flexpen subcutaneous',\n",
       "       'Novolog Mix 70-30 FlexPen subcutaneous', 'Novolog subcutaneous',\n",
       "       'Onglyza oral', 'Oseni oral', 'Ozempic subcutaneous',\n",
       "       'Prandin oral', 'Precose oral', 'Riomet oral', 'Starlix oral',\n",
       "       'Synjardy oral', 'Tanzeum subcutaneous',\n",
       "       'Toujeo SoloStar subcutaneous', 'Tradjenta oral',\n",
       "       'Trulicity subcutaneous', 'Victoza 2-Pak subcutaneous',\n",
       "       'Victoza 3-Pak subcutaneous', 'Xigduo XR oral', 'acarbose oral',\n",
       "       'glimepiride oral', 'glipizide oral', 'glipizide-metformin oral',\n",
       "       'glyburide oral', 'glyburide-metformin oral', 'metformin oral',\n",
       "       'nateglinide oral', 'pioglitazone oral',\n",
       "       'pioglitazone-metformin oral', 'sitagliptin oral'], dtype=object)"
      ]
     },
     "execution_count": 31,
     "metadata": {},
     "output_type": "execute_result"
    }
   ],
   "source": [
    "df_drug['drug'].values"
   ]
  },
  {
   "cell_type": "code",
   "execution_count": 32,
   "metadata": {},
   "outputs": [],
   "source": [
    "keyword = ['oral', 'subcutaneous', 'inhal']\n",
    "df_drug['type'] = df_drug['drug'].str.findall('|'.join(keyword)).apply(set).str.join(', ')"
   ]
  },
  {
   "cell_type": "code",
   "execution_count": 33,
   "metadata": {},
   "outputs": [
    {
     "data": {
      "text/html": [
       "<div>\n",
       "<style scoped>\n",
       "    .dataframe tbody tr th:only-of-type {\n",
       "        vertical-align: middle;\n",
       "    }\n",
       "\n",
       "    .dataframe tbody tr th {\n",
       "        vertical-align: top;\n",
       "    }\n",
       "\n",
       "    .dataframe thead th {\n",
       "        text-align: right;\n",
       "    }\n",
       "</style>\n",
       "<table border=\"1\" class=\"dataframe\">\n",
       "  <thead>\n",
       "    <tr style=\"text-align: right;\">\n",
       "      <th></th>\n",
       "      <th>drug</th>\n",
       "      <th>easeofuse</th>\n",
       "      <th>effectiveness</th>\n",
       "      <th>satisfaction</th>\n",
       "      <th>count</th>\n",
       "      <th>type</th>\n",
       "    </tr>\n",
       "  </thead>\n",
       "  <tbody>\n",
       "    <tr>\n",
       "      <th>40</th>\n",
       "      <td>Novolin R injection</td>\n",
       "      <td>1.0</td>\n",
       "      <td>1.5</td>\n",
       "      <td>1.0</td>\n",
       "      <td>2</td>\n",
       "      <td></td>\n",
       "    </tr>\n",
       "  </tbody>\n",
       "</table>\n",
       "</div>"
      ],
      "text/plain": [
       "                   drug  easeofuse  effectiveness  satisfaction  count type\n",
       "40  Novolin R injection        1.0            1.5           1.0      2     "
      ]
     },
     "execution_count": 33,
     "metadata": {},
     "output_type": "execute_result"
    }
   ],
   "source": [
    "df_drug.loc[df_drug['type'] == '']"
   ]
  },
  {
   "cell_type": "code",
   "execution_count": 34,
   "metadata": {},
   "outputs": [],
   "source": [
    "df_drug['type'].replace({'':'subcutaneous'}, inplace = True)"
   ]
  },
  {
   "cell_type": "code",
   "execution_count": 35,
   "metadata": {},
   "outputs": [],
   "source": [
    "df_drug['type'].replace({'inhal':'inhaler'}, inplace = True)"
   ]
  },
  {
   "cell_type": "code",
   "execution_count": 36,
   "metadata": {},
   "outputs": [
    {
     "data": {
      "text/plain": [
       "oral            45\n",
       "subcutaneous    24\n",
       "inhaler          1\n",
       "Name: type, dtype: int64"
      ]
     },
     "execution_count": 36,
     "metadata": {},
     "output_type": "execute_result"
    }
   ],
   "source": [
    "df_drug['type'].value_counts()"
   ]
  },
  {
   "cell_type": "code",
   "execution_count": 37,
   "metadata": {},
   "outputs": [
    {
     "data": {
      "text/html": [
       "<div>\n",
       "<style scoped>\n",
       "    .dataframe tbody tr th:only-of-type {\n",
       "        vertical-align: middle;\n",
       "    }\n",
       "\n",
       "    .dataframe tbody tr th {\n",
       "        vertical-align: top;\n",
       "    }\n",
       "\n",
       "    .dataframe thead th {\n",
       "        text-align: right;\n",
       "    }\n",
       "</style>\n",
       "<table border=\"1\" class=\"dataframe\">\n",
       "  <thead>\n",
       "    <tr style=\"text-align: right;\">\n",
       "      <th></th>\n",
       "      <th>drug</th>\n",
       "      <th>easeofuse</th>\n",
       "      <th>effectiveness</th>\n",
       "      <th>satisfaction</th>\n",
       "      <th>count</th>\n",
       "      <th>type</th>\n",
       "    </tr>\n",
       "  </thead>\n",
       "  <tbody>\n",
       "    <tr>\n",
       "      <th>0</th>\n",
       "      <td>Actoplus MET oral</td>\n",
       "      <td>4.09</td>\n",
       "      <td>3.45</td>\n",
       "      <td>2.82</td>\n",
       "      <td>11</td>\n",
       "      <td>oral</td>\n",
       "    </tr>\n",
       "    <tr>\n",
       "      <th>1</th>\n",
       "      <td>Actos oral</td>\n",
       "      <td>3.80</td>\n",
       "      <td>3.12</td>\n",
       "      <td>2.39</td>\n",
       "      <td>98</td>\n",
       "      <td>oral</td>\n",
       "    </tr>\n",
       "    <tr>\n",
       "      <th>2</th>\n",
       "      <td>Admelog U-100 Insulin lispro subcutaneous</td>\n",
       "      <td>2.00</td>\n",
       "      <td>1.00</td>\n",
       "      <td>1.00</td>\n",
       "      <td>2</td>\n",
       "      <td>subcutaneous</td>\n",
       "    </tr>\n",
       "    <tr>\n",
       "      <th>3</th>\n",
       "      <td>Afrezza inhalation</td>\n",
       "      <td>3.67</td>\n",
       "      <td>3.67</td>\n",
       "      <td>3.67</td>\n",
       "      <td>3</td>\n",
       "      <td>inhaler</td>\n",
       "    </tr>\n",
       "    <tr>\n",
       "      <th>4</th>\n",
       "      <td>Amaryl oral</td>\n",
       "      <td>4.36</td>\n",
       "      <td>3.50</td>\n",
       "      <td>2.93</td>\n",
       "      <td>14</td>\n",
       "      <td>oral</td>\n",
       "    </tr>\n",
       "    <tr>\n",
       "      <th>...</th>\n",
       "      <td>...</td>\n",
       "      <td>...</td>\n",
       "      <td>...</td>\n",
       "      <td>...</td>\n",
       "      <td>...</td>\n",
       "      <td>...</td>\n",
       "    </tr>\n",
       "    <tr>\n",
       "      <th>65</th>\n",
       "      <td>metformin oral</td>\n",
       "      <td>3.76</td>\n",
       "      <td>3.18</td>\n",
       "      <td>2.75</td>\n",
       "      <td>195</td>\n",
       "      <td>oral</td>\n",
       "    </tr>\n",
       "    <tr>\n",
       "      <th>66</th>\n",
       "      <td>nateglinide oral</td>\n",
       "      <td>4.50</td>\n",
       "      <td>3.00</td>\n",
       "      <td>2.50</td>\n",
       "      <td>2</td>\n",
       "      <td>oral</td>\n",
       "    </tr>\n",
       "    <tr>\n",
       "      <th>67</th>\n",
       "      <td>pioglitazone oral</td>\n",
       "      <td>3.75</td>\n",
       "      <td>2.50</td>\n",
       "      <td>2.25</td>\n",
       "      <td>8</td>\n",
       "      <td>oral</td>\n",
       "    </tr>\n",
       "    <tr>\n",
       "      <th>68</th>\n",
       "      <td>pioglitazone-metformin oral</td>\n",
       "      <td>3.50</td>\n",
       "      <td>3.50</td>\n",
       "      <td>3.50</td>\n",
       "      <td>2</td>\n",
       "      <td>oral</td>\n",
       "    </tr>\n",
       "    <tr>\n",
       "      <th>69</th>\n",
       "      <td>sitagliptin oral</td>\n",
       "      <td>4.75</td>\n",
       "      <td>3.25</td>\n",
       "      <td>2.50</td>\n",
       "      <td>4</td>\n",
       "      <td>oral</td>\n",
       "    </tr>\n",
       "  </tbody>\n",
       "</table>\n",
       "<p>70 rows × 6 columns</p>\n",
       "</div>"
      ],
      "text/plain": [
       "                                         drug  easeofuse  effectiveness  \\\n",
       "0                           Actoplus MET oral       4.09           3.45   \n",
       "1                                  Actos oral       3.80           3.12   \n",
       "2   Admelog U-100 Insulin lispro subcutaneous       2.00           1.00   \n",
       "3                          Afrezza inhalation       3.67           3.67   \n",
       "4                                 Amaryl oral       4.36           3.50   \n",
       "..                                        ...        ...            ...   \n",
       "65                             metformin oral       3.76           3.18   \n",
       "66                           nateglinide oral       4.50           3.00   \n",
       "67                          pioglitazone oral       3.75           2.50   \n",
       "68                pioglitazone-metformin oral       3.50           3.50   \n",
       "69                           sitagliptin oral       4.75           3.25   \n",
       "\n",
       "    satisfaction  count          type  \n",
       "0           2.82     11          oral  \n",
       "1           2.39     98          oral  \n",
       "2           1.00      2  subcutaneous  \n",
       "3           3.67      3       inhaler  \n",
       "4           2.93     14          oral  \n",
       "..           ...    ...           ...  \n",
       "65          2.75    195          oral  \n",
       "66          2.50      2          oral  \n",
       "67          2.25      8          oral  \n",
       "68          3.50      2          oral  \n",
       "69          2.50      4          oral  \n",
       "\n",
       "[70 rows x 6 columns]"
      ]
     },
     "execution_count": 37,
     "metadata": {},
     "output_type": "execute_result"
    }
   ],
   "source": [
    "df_drug"
   ]
  },
  {
   "cell_type": "code",
   "execution_count": 38,
   "metadata": {},
   "outputs": [],
   "source": [
    "df_drug.replace(['oral', 'subcutaneous'], ['pill', 'injection'], inplace = True)"
   ]
  },
  {
   "cell_type": "code",
   "execution_count": 39,
   "metadata": {},
   "outputs": [
    {
     "data": {
      "text/html": [
       "<div>\n",
       "<style scoped>\n",
       "    .dataframe tbody tr th:only-of-type {\n",
       "        vertical-align: middle;\n",
       "    }\n",
       "\n",
       "    .dataframe tbody tr th {\n",
       "        vertical-align: top;\n",
       "    }\n",
       "\n",
       "    .dataframe thead th {\n",
       "        text-align: right;\n",
       "    }\n",
       "</style>\n",
       "<table border=\"1\" class=\"dataframe\">\n",
       "  <thead>\n",
       "    <tr style=\"text-align: right;\">\n",
       "      <th></th>\n",
       "      <th>drug</th>\n",
       "      <th>easeofuse</th>\n",
       "      <th>effectiveness</th>\n",
       "      <th>satisfaction</th>\n",
       "      <th>count</th>\n",
       "      <th>type</th>\n",
       "    </tr>\n",
       "  </thead>\n",
       "  <tbody>\n",
       "    <tr>\n",
       "      <th>0</th>\n",
       "      <td>Actoplus MET oral</td>\n",
       "      <td>4.09</td>\n",
       "      <td>3.45</td>\n",
       "      <td>2.82</td>\n",
       "      <td>11</td>\n",
       "      <td>pill</td>\n",
       "    </tr>\n",
       "    <tr>\n",
       "      <th>1</th>\n",
       "      <td>Actos oral</td>\n",
       "      <td>3.80</td>\n",
       "      <td>3.12</td>\n",
       "      <td>2.39</td>\n",
       "      <td>98</td>\n",
       "      <td>pill</td>\n",
       "    </tr>\n",
       "    <tr>\n",
       "      <th>2</th>\n",
       "      <td>Admelog U-100 Insulin lispro subcutaneous</td>\n",
       "      <td>2.00</td>\n",
       "      <td>1.00</td>\n",
       "      <td>1.00</td>\n",
       "      <td>2</td>\n",
       "      <td>injection</td>\n",
       "    </tr>\n",
       "    <tr>\n",
       "      <th>3</th>\n",
       "      <td>Afrezza inhalation</td>\n",
       "      <td>3.67</td>\n",
       "      <td>3.67</td>\n",
       "      <td>3.67</td>\n",
       "      <td>3</td>\n",
       "      <td>inhaler</td>\n",
       "    </tr>\n",
       "    <tr>\n",
       "      <th>4</th>\n",
       "      <td>Amaryl oral</td>\n",
       "      <td>4.36</td>\n",
       "      <td>3.50</td>\n",
       "      <td>2.93</td>\n",
       "      <td>14</td>\n",
       "      <td>pill</td>\n",
       "    </tr>\n",
       "  </tbody>\n",
       "</table>\n",
       "</div>"
      ],
      "text/plain": [
       "                                        drug  easeofuse  effectiveness  \\\n",
       "0                          Actoplus MET oral       4.09           3.45   \n",
       "1                                 Actos oral       3.80           3.12   \n",
       "2  Admelog U-100 Insulin lispro subcutaneous       2.00           1.00   \n",
       "3                         Afrezza inhalation       3.67           3.67   \n",
       "4                                Amaryl oral       4.36           3.50   \n",
       "\n",
       "   satisfaction  count       type  \n",
       "0          2.82     11       pill  \n",
       "1          2.39     98       pill  \n",
       "2          1.00      2  injection  \n",
       "3          3.67      3    inhaler  \n",
       "4          2.93     14       pill  "
      ]
     },
     "execution_count": 39,
     "metadata": {},
     "output_type": "execute_result"
    }
   ],
   "source": [
    "df_drug.head()"
   ]
  },
  {
   "cell_type": "code",
   "execution_count": 40,
   "metadata": {},
   "outputs": [],
   "source": [
    "df_drug.to_pickle(\"./sentiment.pkl\")  "
   ]
  },
  {
   "cell_type": "markdown",
   "metadata": {},
   "source": [
    "### Effectiveness v. Satisfaction: with Reviews"
   ]
  },
  {
   "cell_type": "code",
   "execution_count": 41,
   "metadata": {},
   "outputs": [],
   "source": [
    "import plotly.graph_objects as go"
   ]
  },
  {
   "cell_type": "code",
   "execution_count": 46,
   "metadata": {},
   "outputs": [
    {
     "data": {
      "application/vnd.plotly.v1+json": {
       "config": {
        "plotlyServerURL": "https://plot.ly"
       },
       "data": [
        {
         "marker": {
          "line": {
           "width": 2
          },
          "size": [
           11,
           98,
           2,
           3,
           14,
           2,
           5,
           2,
           14,
           20,
           63,
           3,
           15,
           3,
           4,
           17,
           1,
           4,
           4,
           9,
           3,
           2,
           2,
           2,
           3,
           2,
           1,
           38,
           5,
           32,
           66,
           10,
           3,
           12,
           10,
           8,
           2,
           11,
           6,
           2,
           2,
           5,
           3,
           3,
           21,
           2,
           5,
           5,
           3,
           2,
           6,
           2,
           7,
           3,
           16,
           26,
           9,
           5,
           3,
           3,
           27,
           26,
           2,
           17,
           3,
           195,
           2,
           8,
           2,
           4
          ],
          "sizemode": "area",
          "sizeref": 0.039
         },
         "mode": "markers",
         "name": "pill",
         "text": [
          "Drug: Actoplus MET oral <br>Effectiveness: 3.45 <br>Satisfactoin: 2.82 <br>Review: 11",
          "Drug: Actos oral <br>Effectiveness: 3.12 <br>Satisfactoin: 2.39 <br>Review: 98",
          "Drug: Amaryl oral <br>Effectiveness: 3.5 <br>Satisfactoin: 2.93 <br>Review: 14",
          "Drug: Avandamet oral <br>Effectiveness: 3.2 <br>Satisfactoin: 2.2 <br>Review: 5",
          "Drug: Avandaryl oral <br>Effectiveness: 2.5 <br>Satisfactoin: 2.0 <br>Review: 2",
          "Drug: Avandia oral <br>Effectiveness: 3.57 <br>Satisfactoin: 2.93 <br>Review: 14",
          "Drug: DUETACT oral <br>Effectiveness: 3.67 <br>Satisfactoin: 3.67 <br>Review: 3",
          "Drug: Farxiga oral <br>Effectiveness: 3.8 <br>Satisfactoin: 3.53 <br>Review: 15",
          "Drug: Fortamet oral <br>Effectiveness: 4.0 <br>Satisfactoin: 3.33 <br>Review: 3",
          "Drug: Glucophage XR oral <br>Effectiveness: 3.25 <br>Satisfactoin: 2.75 <br>Review: 4",
          "Drug: Glucophage oral <br>Effectiveness: 3.18 <br>Satisfactoin: 2.94 <br>Review: 17",
          "Drug: Glucotrol XL oral <br>Effectiveness: 5.0 <br>Satisfactoin: 3.0 <br>Review: 1",
          "Drug: Glucotrol oral <br>Effectiveness: 3.5 <br>Satisfactoin: 3.5 <br>Review: 4",
          "Drug: Glucovance oral <br>Effectiveness: 4.25 <br>Satisfactoin: 4.25 <br>Review: 4",
          "Drug: Glumetza oral <br>Effectiveness: 4.0 <br>Satisfactoin: 3.56 <br>Review: 9",
          "Drug: Glyxambi oral <br>Effectiveness: 5.0 <br>Satisfactoin: 5.0 <br>Review: 3",
          "Drug: Invokamet oral <br>Effectiveness: 5.0 <br>Satisfactoin: 4.0 <br>Review: 1",
          "Drug: Invokana oral <br>Effectiveness: 3.89 <br>Satisfactoin: 3.37 <br>Review: 38",
          "Drug: Janumet XR oral <br>Effectiveness: 4.0 <br>Satisfactoin: 3.6 <br>Review: 5",
          "Drug: Janumet oral <br>Effectiveness: 3.12 <br>Satisfactoin: 2.84 <br>Review: 32",
          "Drug: Januvia oral <br>Effectiveness: 3.18 <br>Satisfactoin: 2.83 <br>Review: 66",
          "Drug: Jardiance oral <br>Effectiveness: 3.8 <br>Satisfactoin: 3.0 <br>Review: 10",
          "Drug: Jentadueto oral <br>Effectiveness: 3.67 <br>Satisfactoin: 2.67 <br>Review: 3",
          "Drug: Kombiglyze XR oral <br>Effectiveness: 3.58 <br>Satisfactoin: 3.0 <br>Review: 12",
          "Drug: Micronase oral <br>Effectiveness: 2.5 <br>Satisfactoin: 1.0 <br>Review: 2",
          "Drug: Onglyza oral <br>Effectiveness: 2.81 <br>Satisfactoin: 2.9 <br>Review: 21",
          "Drug: Oseni oral <br>Effectiveness: 5.0 <br>Satisfactoin: 2.5 <br>Review: 2",
          "Drug: Prandin oral <br>Effectiveness: 4.8 <br>Satisfactoin: 4.6 <br>Review: 5",
          "Drug: Precose oral <br>Effectiveness: 3.0 <br>Satisfactoin: 2.33 <br>Review: 3",
          "Drug: Riomet oral <br>Effectiveness: 2.0 <br>Satisfactoin: 1.0 <br>Review: 2",
          "Drug: Starlix oral <br>Effectiveness: 3.67 <br>Satisfactoin: 3.67 <br>Review: 6",
          "Drug: Synjardy oral <br>Effectiveness: 1.5 <br>Satisfactoin: 1.0 <br>Review: 2",
          "Drug: Tradjenta oral <br>Effectiveness: 2.62 <br>Satisfactoin: 2.19 <br>Review: 16",
          "Drug: Xigduo XR oral <br>Effectiveness: 3.33 <br>Satisfactoin: 3.33 <br>Review: 3",
          "Drug: acarbose oral <br>Effectiveness: 4.0 <br>Satisfactoin: 3.33 <br>Review: 3",
          "Drug: glimepiride oral <br>Effectiveness: 3.78 <br>Satisfactoin: 3.26 <br>Review: 27",
          "Drug: glipizide oral <br>Effectiveness: 3.46 <br>Satisfactoin: 3.0 <br>Review: 26",
          "Drug: glipizide-metformin oral <br>Effectiveness: 3.0 <br>Satisfactoin: 3.0 <br>Review: 2",
          "Drug: glyburide oral <br>Effectiveness: 3.41 <br>Satisfactoin: 3.35 <br>Review: 17",
          "Drug: glyburide-metformin oral <br>Effectiveness: 4.33 <br>Satisfactoin: 4.33 <br>Review: 3",
          "Drug: metformin oral <br>Effectiveness: 3.18 <br>Satisfactoin: 2.75 <br>Review: 195",
          "Drug: nateglinide oral <br>Effectiveness: 3.0 <br>Satisfactoin: 2.5 <br>Review: 2",
          "Drug: pioglitazone oral <br>Effectiveness: 2.5 <br>Satisfactoin: 2.25 <br>Review: 8",
          "Drug: pioglitazone-metformin oral <br>Effectiveness: 3.5 <br>Satisfactoin: 3.5 <br>Review: 2",
          "Drug: sitagliptin oral <br>Effectiveness: 3.25 <br>Satisfactoin: 2.5 <br>Review: 4"
         ],
         "type": "scatter",
         "x": [
          3.45,
          3.12,
          3.5,
          3.2,
          2.5,
          3.57,
          3.67,
          3.8,
          4,
          3.25,
          3.18,
          5,
          3.5,
          4.25,
          4,
          5,
          5,
          3.89,
          4,
          3.12,
          3.18,
          3.8,
          3.67,
          3.58,
          2.5,
          2.81,
          5,
          4.8,
          3,
          2,
          3.67,
          1.5,
          2.62,
          3.33,
          4,
          3.78,
          3.46,
          3,
          3.41,
          4.33,
          3.18,
          3,
          2.5,
          3.5,
          3.25
         ],
         "y": [
          2.82,
          2.39,
          2.93,
          2.2,
          2,
          2.93,
          3.67,
          3.53,
          3.33,
          2.75,
          2.94,
          3,
          3.5,
          4.25,
          3.56,
          5,
          4,
          3.37,
          3.6,
          2.84,
          2.83,
          3,
          2.67,
          3,
          1,
          2.9,
          2.5,
          4.6,
          2.33,
          1,
          3.67,
          1,
          2.19,
          3.33,
          3.33,
          3.26,
          3,
          3,
          3.35,
          4.33,
          2.75,
          2.5,
          2.25,
          3.5,
          2.5
         ]
        },
        {
         "marker": {
          "line": {
           "width": 2
          },
          "size": [
           11,
           98,
           2,
           3,
           14,
           2,
           5,
           2,
           14,
           20,
           63,
           3,
           15,
           3,
           4,
           17,
           1,
           4,
           4,
           9,
           3,
           2,
           2,
           2,
           3,
           2,
           1,
           38,
           5,
           32,
           66,
           10,
           3,
           12,
           10,
           8,
           2,
           11,
           6,
           2,
           2,
           5,
           3,
           3,
           21,
           2,
           5,
           5,
           3,
           2,
           6,
           2,
           7,
           3,
           16,
           26,
           9,
           5,
           3,
           3,
           27,
           26,
           2,
           17,
           3,
           195,
           2,
           8,
           2,
           4
          ],
          "sizemode": "area",
          "sizeref": 0.039
         },
         "mode": "markers",
         "name": "injection",
         "text": [
          "Drug: Admelog U-100 Insulin lispro subcutaneous <br>Effectiveness: 1.0 <br>Satisfactoin: 1.0 <br>Review: 2",
          "Drug: Apidra subcutaneous <br>Effectiveness: 3.0 <br>Satisfactoin: 3.0 <br>Review: 2",
          "Drug: Bydureon subcutaneous <br>Effectiveness: 3.7 <br>Satisfactoin: 3.2 <br>Review: 20",
          "Drug: Byetta subcutaneous <br>Effectiveness: 4.22 <br>Satisfactoin: 3.68 <br>Review: 63",
          "Drug: Humalog KwikPen subcutaneous <br>Effectiveness: 4.0 <br>Satisfactoin: 3.0 <br>Review: 2",
          "Drug: Humalog Mix 75-25 KwikPen subcutaneous <br>Effectiveness: 2.5 <br>Satisfactoin: 2.0 <br>Review: 2",
          "Drug: Humalog Mix 75-25 subcutaneous <br>Effectiveness: 1.5 <br>Satisfactoin: 1.5 <br>Review: 2",
          "Drug: Humalog subcutaneous <br>Effectiveness: 4.33 <br>Satisfactoin: 3.67 <br>Review: 3",
          "Drug: Humulin 70-30 subcutaneous <br>Effectiveness: 2.0 <br>Satisfactoin: 1.5 <br>Review: 2",
          "Drug: Lantus Solostar subcutaneous <br>Effectiveness: 3.9 <br>Satisfactoin: 3.6 <br>Review: 10",
          "Drug: Lantus subcutaneous <br>Effectiveness: 4.0 <br>Satisfactoin: 3.38 <br>Review: 8",
          "Drug: Levemir FlexTouch subcutaneous <br>Effectiveness: 3.5 <br>Satisfactoin: 1.0 <br>Review: 2",
          "Drug: Levemir Flexpen subcutaneous <br>Effectiveness: 3.45 <br>Satisfactoin: 3.18 <br>Review: 11",
          "Drug: Levemir subcutaneous <br>Effectiveness: 3.0 <br>Satisfactoin: 3.33 <br>Review: 6",
          "Drug: Novolin R injection <br>Effectiveness: 1.5 <br>Satisfactoin: 1.0 <br>Review: 2",
          "Drug: Novolog Flexpen subcutaneous <br>Effectiveness: 3.6 <br>Satisfactoin: 3.2 <br>Review: 5",
          "Drug: Novolog Mix 70-30 FlexPen subcutaneous <br>Effectiveness: 2.67 <br>Satisfactoin: 2.33 <br>Review: 3",
          "Drug: Novolog subcutaneous <br>Effectiveness: 3.0 <br>Satisfactoin: 2.0 <br>Review: 3",
          "Drug: Ozempic subcutaneous <br>Effectiveness: 4.2 <br>Satisfactoin: 3.4 <br>Review: 5",
          "Drug: Tanzeum subcutaneous <br>Effectiveness: 2.14 <br>Satisfactoin: 1.57 <br>Review: 7",
          "Drug: Toujeo SoloStar subcutaneous <br>Effectiveness: 1.33 <br>Satisfactoin: 1.33 <br>Review: 3",
          "Drug: Trulicity subcutaneous <br>Effectiveness: 3.42 <br>Satisfactoin: 3.08 <br>Review: 26",
          "Drug: Victoza 2-Pak subcutaneous <br>Effectiveness: 4.33 <br>Satisfactoin: 3.56 <br>Review: 9",
          "Drug: Victoza 3-Pak subcutaneous <br>Effectiveness: 4.6 <br>Satisfactoin: 3.6 <br>Review: 5"
         ],
         "type": "scatter",
         "x": [
          1,
          3,
          3.7,
          4.22,
          4,
          2.5,
          1.5,
          4.33,
          2,
          3.9,
          4,
          3.5,
          3.45,
          3,
          1.5,
          3.6,
          2.67,
          3,
          4.2,
          2.14,
          1.33,
          3.42,
          4.33,
          4.6
         ],
         "y": [
          1,
          3,
          3.2,
          3.68,
          3,
          2,
          1.5,
          3.67,
          1.5,
          3.6,
          3.38,
          1,
          3.18,
          3.33,
          1,
          3.2,
          2.33,
          2,
          3.4,
          1.57,
          1.33,
          3.08,
          3.56,
          3.6
         ]
        },
        {
         "marker": {
          "line": {
           "width": 2
          },
          "size": [
           11,
           98,
           2,
           3,
           14,
           2,
           5,
           2,
           14,
           20,
           63,
           3,
           15,
           3,
           4,
           17,
           1,
           4,
           4,
           9,
           3,
           2,
           2,
           2,
           3,
           2,
           1,
           38,
           5,
           32,
           66,
           10,
           3,
           12,
           10,
           8,
           2,
           11,
           6,
           2,
           2,
           5,
           3,
           3,
           21,
           2,
           5,
           5,
           3,
           2,
           6,
           2,
           7,
           3,
           16,
           26,
           9,
           5,
           3,
           3,
           27,
           26,
           2,
           17,
           3,
           195,
           2,
           8,
           2,
           4
          ],
          "sizemode": "area",
          "sizeref": 0.039
         },
         "mode": "markers",
         "name": "inhaler",
         "text": [
          "Drug: Afrezza inhalation <br>Effectiveness: 3.67 <br>Satisfactoin: 3.67 <br>Review: 3"
         ],
         "type": "scatter",
         "x": [
          3.67
         ],
         "y": [
          3.67
         ]
        }
       ],
       "layout": {
        "paper_bgcolor": "rgb(243, 243, 243)",
        "plot_bgcolor": "rgb(243, 243, 243)",
        "template": {
         "data": {
          "bar": [
           {
            "error_x": {
             "color": "#2a3f5f"
            },
            "error_y": {
             "color": "#2a3f5f"
            },
            "marker": {
             "line": {
              "color": "#E5ECF6",
              "width": 0.5
             },
             "pattern": {
              "fillmode": "overlay",
              "size": 10,
              "solidity": 0.2
             }
            },
            "type": "bar"
           }
          ],
          "barpolar": [
           {
            "marker": {
             "line": {
              "color": "#E5ECF6",
              "width": 0.5
             },
             "pattern": {
              "fillmode": "overlay",
              "size": 10,
              "solidity": 0.2
             }
            },
            "type": "barpolar"
           }
          ],
          "carpet": [
           {
            "aaxis": {
             "endlinecolor": "#2a3f5f",
             "gridcolor": "white",
             "linecolor": "white",
             "minorgridcolor": "white",
             "startlinecolor": "#2a3f5f"
            },
            "baxis": {
             "endlinecolor": "#2a3f5f",
             "gridcolor": "white",
             "linecolor": "white",
             "minorgridcolor": "white",
             "startlinecolor": "#2a3f5f"
            },
            "type": "carpet"
           }
          ],
          "choropleth": [
           {
            "colorbar": {
             "outlinewidth": 0,
             "ticks": ""
            },
            "type": "choropleth"
           }
          ],
          "contour": [
           {
            "colorbar": {
             "outlinewidth": 0,
             "ticks": ""
            },
            "colorscale": [
             [
              0,
              "#0d0887"
             ],
             [
              0.1111111111111111,
              "#46039f"
             ],
             [
              0.2222222222222222,
              "#7201a8"
             ],
             [
              0.3333333333333333,
              "#9c179e"
             ],
             [
              0.4444444444444444,
              "#bd3786"
             ],
             [
              0.5555555555555556,
              "#d8576b"
             ],
             [
              0.6666666666666666,
              "#ed7953"
             ],
             [
              0.7777777777777778,
              "#fb9f3a"
             ],
             [
              0.8888888888888888,
              "#fdca26"
             ],
             [
              1,
              "#f0f921"
             ]
            ],
            "type": "contour"
           }
          ],
          "contourcarpet": [
           {
            "colorbar": {
             "outlinewidth": 0,
             "ticks": ""
            },
            "type": "contourcarpet"
           }
          ],
          "heatmap": [
           {
            "colorbar": {
             "outlinewidth": 0,
             "ticks": ""
            },
            "colorscale": [
             [
              0,
              "#0d0887"
             ],
             [
              0.1111111111111111,
              "#46039f"
             ],
             [
              0.2222222222222222,
              "#7201a8"
             ],
             [
              0.3333333333333333,
              "#9c179e"
             ],
             [
              0.4444444444444444,
              "#bd3786"
             ],
             [
              0.5555555555555556,
              "#d8576b"
             ],
             [
              0.6666666666666666,
              "#ed7953"
             ],
             [
              0.7777777777777778,
              "#fb9f3a"
             ],
             [
              0.8888888888888888,
              "#fdca26"
             ],
             [
              1,
              "#f0f921"
             ]
            ],
            "type": "heatmap"
           }
          ],
          "heatmapgl": [
           {
            "colorbar": {
             "outlinewidth": 0,
             "ticks": ""
            },
            "colorscale": [
             [
              0,
              "#0d0887"
             ],
             [
              0.1111111111111111,
              "#46039f"
             ],
             [
              0.2222222222222222,
              "#7201a8"
             ],
             [
              0.3333333333333333,
              "#9c179e"
             ],
             [
              0.4444444444444444,
              "#bd3786"
             ],
             [
              0.5555555555555556,
              "#d8576b"
             ],
             [
              0.6666666666666666,
              "#ed7953"
             ],
             [
              0.7777777777777778,
              "#fb9f3a"
             ],
             [
              0.8888888888888888,
              "#fdca26"
             ],
             [
              1,
              "#f0f921"
             ]
            ],
            "type": "heatmapgl"
           }
          ],
          "histogram": [
           {
            "marker": {
             "pattern": {
              "fillmode": "overlay",
              "size": 10,
              "solidity": 0.2
             }
            },
            "type": "histogram"
           }
          ],
          "histogram2d": [
           {
            "colorbar": {
             "outlinewidth": 0,
             "ticks": ""
            },
            "colorscale": [
             [
              0,
              "#0d0887"
             ],
             [
              0.1111111111111111,
              "#46039f"
             ],
             [
              0.2222222222222222,
              "#7201a8"
             ],
             [
              0.3333333333333333,
              "#9c179e"
             ],
             [
              0.4444444444444444,
              "#bd3786"
             ],
             [
              0.5555555555555556,
              "#d8576b"
             ],
             [
              0.6666666666666666,
              "#ed7953"
             ],
             [
              0.7777777777777778,
              "#fb9f3a"
             ],
             [
              0.8888888888888888,
              "#fdca26"
             ],
             [
              1,
              "#f0f921"
             ]
            ],
            "type": "histogram2d"
           }
          ],
          "histogram2dcontour": [
           {
            "colorbar": {
             "outlinewidth": 0,
             "ticks": ""
            },
            "colorscale": [
             [
              0,
              "#0d0887"
             ],
             [
              0.1111111111111111,
              "#46039f"
             ],
             [
              0.2222222222222222,
              "#7201a8"
             ],
             [
              0.3333333333333333,
              "#9c179e"
             ],
             [
              0.4444444444444444,
              "#bd3786"
             ],
             [
              0.5555555555555556,
              "#d8576b"
             ],
             [
              0.6666666666666666,
              "#ed7953"
             ],
             [
              0.7777777777777778,
              "#fb9f3a"
             ],
             [
              0.8888888888888888,
              "#fdca26"
             ],
             [
              1,
              "#f0f921"
             ]
            ],
            "type": "histogram2dcontour"
           }
          ],
          "mesh3d": [
           {
            "colorbar": {
             "outlinewidth": 0,
             "ticks": ""
            },
            "type": "mesh3d"
           }
          ],
          "parcoords": [
           {
            "line": {
             "colorbar": {
              "outlinewidth": 0,
              "ticks": ""
             }
            },
            "type": "parcoords"
           }
          ],
          "pie": [
           {
            "automargin": true,
            "type": "pie"
           }
          ],
          "scatter": [
           {
            "fillpattern": {
             "fillmode": "overlay",
             "size": 10,
             "solidity": 0.2
            },
            "type": "scatter"
           }
          ],
          "scatter3d": [
           {
            "line": {
             "colorbar": {
              "outlinewidth": 0,
              "ticks": ""
             }
            },
            "marker": {
             "colorbar": {
              "outlinewidth": 0,
              "ticks": ""
             }
            },
            "type": "scatter3d"
           }
          ],
          "scattercarpet": [
           {
            "marker": {
             "colorbar": {
              "outlinewidth": 0,
              "ticks": ""
             }
            },
            "type": "scattercarpet"
           }
          ],
          "scattergeo": [
           {
            "marker": {
             "colorbar": {
              "outlinewidth": 0,
              "ticks": ""
             }
            },
            "type": "scattergeo"
           }
          ],
          "scattergl": [
           {
            "marker": {
             "colorbar": {
              "outlinewidth": 0,
              "ticks": ""
             }
            },
            "type": "scattergl"
           }
          ],
          "scattermapbox": [
           {
            "marker": {
             "colorbar": {
              "outlinewidth": 0,
              "ticks": ""
             }
            },
            "type": "scattermapbox"
           }
          ],
          "scatterpolar": [
           {
            "marker": {
             "colorbar": {
              "outlinewidth": 0,
              "ticks": ""
             }
            },
            "type": "scatterpolar"
           }
          ],
          "scatterpolargl": [
           {
            "marker": {
             "colorbar": {
              "outlinewidth": 0,
              "ticks": ""
             }
            },
            "type": "scatterpolargl"
           }
          ],
          "scatterternary": [
           {
            "marker": {
             "colorbar": {
              "outlinewidth": 0,
              "ticks": ""
             }
            },
            "type": "scatterternary"
           }
          ],
          "surface": [
           {
            "colorbar": {
             "outlinewidth": 0,
             "ticks": ""
            },
            "colorscale": [
             [
              0,
              "#0d0887"
             ],
             [
              0.1111111111111111,
              "#46039f"
             ],
             [
              0.2222222222222222,
              "#7201a8"
             ],
             [
              0.3333333333333333,
              "#9c179e"
             ],
             [
              0.4444444444444444,
              "#bd3786"
             ],
             [
              0.5555555555555556,
              "#d8576b"
             ],
             [
              0.6666666666666666,
              "#ed7953"
             ],
             [
              0.7777777777777778,
              "#fb9f3a"
             ],
             [
              0.8888888888888888,
              "#fdca26"
             ],
             [
              1,
              "#f0f921"
             ]
            ],
            "type": "surface"
           }
          ],
          "table": [
           {
            "cells": {
             "fill": {
              "color": "#EBF0F8"
             },
             "line": {
              "color": "white"
             }
            },
            "header": {
             "fill": {
              "color": "#C8D4E3"
             },
             "line": {
              "color": "white"
             }
            },
            "type": "table"
           }
          ]
         },
         "layout": {
          "annotationdefaults": {
           "arrowcolor": "#2a3f5f",
           "arrowhead": 0,
           "arrowwidth": 1
          },
          "autotypenumbers": "strict",
          "coloraxis": {
           "colorbar": {
            "outlinewidth": 0,
            "ticks": ""
           }
          },
          "colorscale": {
           "diverging": [
            [
             0,
             "#8e0152"
            ],
            [
             0.1,
             "#c51b7d"
            ],
            [
             0.2,
             "#de77ae"
            ],
            [
             0.3,
             "#f1b6da"
            ],
            [
             0.4,
             "#fde0ef"
            ],
            [
             0.5,
             "#f7f7f7"
            ],
            [
             0.6,
             "#e6f5d0"
            ],
            [
             0.7,
             "#b8e186"
            ],
            [
             0.8,
             "#7fbc41"
            ],
            [
             0.9,
             "#4d9221"
            ],
            [
             1,
             "#276419"
            ]
           ],
           "sequential": [
            [
             0,
             "#0d0887"
            ],
            [
             0.1111111111111111,
             "#46039f"
            ],
            [
             0.2222222222222222,
             "#7201a8"
            ],
            [
             0.3333333333333333,
             "#9c179e"
            ],
            [
             0.4444444444444444,
             "#bd3786"
            ],
            [
             0.5555555555555556,
             "#d8576b"
            ],
            [
             0.6666666666666666,
             "#ed7953"
            ],
            [
             0.7777777777777778,
             "#fb9f3a"
            ],
            [
             0.8888888888888888,
             "#fdca26"
            ],
            [
             1,
             "#f0f921"
            ]
           ],
           "sequentialminus": [
            [
             0,
             "#0d0887"
            ],
            [
             0.1111111111111111,
             "#46039f"
            ],
            [
             0.2222222222222222,
             "#7201a8"
            ],
            [
             0.3333333333333333,
             "#9c179e"
            ],
            [
             0.4444444444444444,
             "#bd3786"
            ],
            [
             0.5555555555555556,
             "#d8576b"
            ],
            [
             0.6666666666666666,
             "#ed7953"
            ],
            [
             0.7777777777777778,
             "#fb9f3a"
            ],
            [
             0.8888888888888888,
             "#fdca26"
            ],
            [
             1,
             "#f0f921"
            ]
           ]
          },
          "colorway": [
           "#636efa",
           "#EF553B",
           "#00cc96",
           "#ab63fa",
           "#FFA15A",
           "#19d3f3",
           "#FF6692",
           "#B6E880",
           "#FF97FF",
           "#FECB52"
          ],
          "font": {
           "color": "#2a3f5f"
          },
          "geo": {
           "bgcolor": "white",
           "lakecolor": "white",
           "landcolor": "#E5ECF6",
           "showlakes": true,
           "showland": true,
           "subunitcolor": "white"
          },
          "hoverlabel": {
           "align": "left"
          },
          "hovermode": "closest",
          "mapbox": {
           "style": "light"
          },
          "paper_bgcolor": "white",
          "plot_bgcolor": "#E5ECF6",
          "polar": {
           "angularaxis": {
            "gridcolor": "white",
            "linecolor": "white",
            "ticks": ""
           },
           "bgcolor": "#E5ECF6",
           "radialaxis": {
            "gridcolor": "white",
            "linecolor": "white",
            "ticks": ""
           }
          },
          "scene": {
           "xaxis": {
            "backgroundcolor": "#E5ECF6",
            "gridcolor": "white",
            "gridwidth": 2,
            "linecolor": "white",
            "showbackground": true,
            "ticks": "",
            "zerolinecolor": "white"
           },
           "yaxis": {
            "backgroundcolor": "#E5ECF6",
            "gridcolor": "white",
            "gridwidth": 2,
            "linecolor": "white",
            "showbackground": true,
            "ticks": "",
            "zerolinecolor": "white"
           },
           "zaxis": {
            "backgroundcolor": "#E5ECF6",
            "gridcolor": "white",
            "gridwidth": 2,
            "linecolor": "white",
            "showbackground": true,
            "ticks": "",
            "zerolinecolor": "white"
           }
          },
          "shapedefaults": {
           "line": {
            "color": "#2a3f5f"
           }
          },
          "ternary": {
           "aaxis": {
            "gridcolor": "white",
            "linecolor": "white",
            "ticks": ""
           },
           "baxis": {
            "gridcolor": "white",
            "linecolor": "white",
            "ticks": ""
           },
           "bgcolor": "#E5ECF6",
           "caxis": {
            "gridcolor": "white",
            "linecolor": "white",
            "ticks": ""
           }
          },
          "title": {
           "x": 0.05
          },
          "xaxis": {
           "automargin": true,
           "gridcolor": "white",
           "linecolor": "white",
           "ticks": "",
           "title": {
            "standoff": 15
           },
           "zerolinecolor": "white",
           "zerolinewidth": 2
          },
          "yaxis": {
           "automargin": true,
           "gridcolor": "white",
           "linecolor": "white",
           "ticks": "",
           "title": {
            "standoff": 15
           },
           "zerolinecolor": "white",
           "zerolinewidth": 2
          }
         }
        },
        "title": {
         "text": "Effectiveness v. Satisfaction: with Reviews"
        },
        "xaxis": {
         "gridcolor": "white",
         "gridwidth": 2,
         "title": {
          "text": "Dibetes: Type 2 Drug Effectiveness"
         }
        },
        "yaxis": {
         "gridcolor": "white",
         "gridwidth": 2,
         "title": {
          "text": "Drug Satisfacttion"
         }
        }
       }
      }
     },
     "metadata": {},
     "output_type": "display_data"
    }
   ],
   "source": [
    "hover_text = []\n",
    "bubble_size = []\n",
    "\n",
    "for index, row in df_drug.iterrows():\n",
    "    hover_text.append(('Drug: {drug} <br>'+\n",
    "                      'Effectiveness: {effectiveness} <br>'+\n",
    "                      'Satisfactoin: {satisfaction} <br>'+\n",
    "                      'Review: {review}').format(drug=row['drug'],\n",
    "                                            effectiveness=row['effectiveness'],\n",
    "                                            easeofuse = row['easeofuse'],\n",
    "                                            satisfaction=row['satisfaction'],\n",
    "                                            review = row['count']))\n",
    "    bubble_size.append(row['count'])\n",
    "\n",
    "df_drug['text'] = hover_text\n",
    "df_drug['count'] = bubble_size\n",
    "sizeref = 2.*max(df_drug['count'])/(100**2)\n",
    "\n",
    "drug_types = ['pill', 'injection', 'inhaler']\n",
    "drug_data = {drug:df_drug.query(\"type == '%s'\" %drug)\n",
    "                              for drug in drug_types}\n",
    "\n",
    "# Create figure\n",
    "fig = go.Figure()\n",
    "\n",
    "for drug_types, drug in drug_data.items():\n",
    "    fig.add_trace(go.Scatter(\n",
    "        x=drug['effectiveness'], y=drug['satisfaction'],\n",
    "        name=drug_types, text=drug['text'],\n",
    "        marker_size=df_drug['count'],\n",
    "        ))\n",
    "\n",
    "# Tune marker appearance and layout\n",
    "fig.update_traces(mode='markers', marker=dict(sizemode='area',\n",
    "                                              sizeref=sizeref, line_width=2))\n",
    "\n",
    "fig.update_layout(\n",
    "    title='Effectiveness v. Satisfaction: with Reviews',\n",
    "    xaxis=dict(\n",
    "        title='Dibetes: Type 2 Drug Effectiveness',\n",
    "        gridcolor='white',\n",
    "        gridwidth=2,\n",
    "    ),\n",
    "    yaxis=dict(\n",
    "        title='Drug Satisfacttion',\n",
    "        gridcolor='white',\n",
    "        gridwidth=2,\n",
    "    ),\n",
    "    paper_bgcolor='rgb(243, 243, 243)',\n",
    "    plot_bgcolor='rgb(243, 243, 243)',\n",
    ")\n",
    "fig.show()"
   ]
  },
  {
   "cell_type": "markdown",
   "metadata": {},
   "source": [
    "### Ease of Use v. Satisfaction: with Reviews"
   ]
  },
  {
   "cell_type": "code",
   "execution_count": 47,
   "metadata": {},
   "outputs": [
    {
     "data": {
      "application/vnd.plotly.v1+json": {
       "config": {
        "plotlyServerURL": "https://plot.ly"
       },
       "data": [
        {
         "marker": {
          "line": {
           "width": 2
          },
          "size": [
           11,
           98,
           2,
           3,
           14,
           2,
           5,
           2,
           14,
           20,
           63,
           3,
           15,
           3,
           4,
           17,
           1,
           4,
           4,
           9,
           3,
           2,
           2,
           2,
           3,
           2,
           1,
           38,
           5,
           32,
           66,
           10,
           3,
           12,
           10,
           8,
           2,
           11,
           6,
           2,
           2,
           5,
           3,
           3,
           21,
           2,
           5,
           5,
           3,
           2,
           6,
           2,
           7,
           3,
           16,
           26,
           9,
           5,
           3,
           3,
           27,
           26,
           2,
           17,
           3,
           195,
           2,
           8,
           2,
           4
          ],
          "sizemode": "area",
          "sizeref": 0.039
         },
         "mode": "markers",
         "name": "pill",
         "text": [
          "Drug: Actoplus MET oral <br>Effectiveness: 3.45 <br>Satisfactoin: 2.82 <br>Review: 11",
          "Drug: Actos oral <br>Effectiveness: 3.12 <br>Satisfactoin: 2.39 <br>Review: 98",
          "Drug: Amaryl oral <br>Effectiveness: 3.5 <br>Satisfactoin: 2.93 <br>Review: 14",
          "Drug: Avandamet oral <br>Effectiveness: 3.2 <br>Satisfactoin: 2.2 <br>Review: 5",
          "Drug: Avandaryl oral <br>Effectiveness: 2.5 <br>Satisfactoin: 2.0 <br>Review: 2",
          "Drug: Avandia oral <br>Effectiveness: 3.57 <br>Satisfactoin: 2.93 <br>Review: 14",
          "Drug: DUETACT oral <br>Effectiveness: 3.67 <br>Satisfactoin: 3.67 <br>Review: 3",
          "Drug: Farxiga oral <br>Effectiveness: 3.8 <br>Satisfactoin: 3.53 <br>Review: 15",
          "Drug: Fortamet oral <br>Effectiveness: 4.0 <br>Satisfactoin: 3.33 <br>Review: 3",
          "Drug: Glucophage XR oral <br>Effectiveness: 3.25 <br>Satisfactoin: 2.75 <br>Review: 4",
          "Drug: Glucophage oral <br>Effectiveness: 3.18 <br>Satisfactoin: 2.94 <br>Review: 17",
          "Drug: Glucotrol XL oral <br>Effectiveness: 5.0 <br>Satisfactoin: 3.0 <br>Review: 1",
          "Drug: Glucotrol oral <br>Effectiveness: 3.5 <br>Satisfactoin: 3.5 <br>Review: 4",
          "Drug: Glucovance oral <br>Effectiveness: 4.25 <br>Satisfactoin: 4.25 <br>Review: 4",
          "Drug: Glumetza oral <br>Effectiveness: 4.0 <br>Satisfactoin: 3.56 <br>Review: 9",
          "Drug: Glyxambi oral <br>Effectiveness: 5.0 <br>Satisfactoin: 5.0 <br>Review: 3",
          "Drug: Invokamet oral <br>Effectiveness: 5.0 <br>Satisfactoin: 4.0 <br>Review: 1",
          "Drug: Invokana oral <br>Effectiveness: 3.89 <br>Satisfactoin: 3.37 <br>Review: 38",
          "Drug: Janumet XR oral <br>Effectiveness: 4.0 <br>Satisfactoin: 3.6 <br>Review: 5",
          "Drug: Janumet oral <br>Effectiveness: 3.12 <br>Satisfactoin: 2.84 <br>Review: 32",
          "Drug: Januvia oral <br>Effectiveness: 3.18 <br>Satisfactoin: 2.83 <br>Review: 66",
          "Drug: Jardiance oral <br>Effectiveness: 3.8 <br>Satisfactoin: 3.0 <br>Review: 10",
          "Drug: Jentadueto oral <br>Effectiveness: 3.67 <br>Satisfactoin: 2.67 <br>Review: 3",
          "Drug: Kombiglyze XR oral <br>Effectiveness: 3.58 <br>Satisfactoin: 3.0 <br>Review: 12",
          "Drug: Micronase oral <br>Effectiveness: 2.5 <br>Satisfactoin: 1.0 <br>Review: 2",
          "Drug: Onglyza oral <br>Effectiveness: 2.81 <br>Satisfactoin: 2.9 <br>Review: 21",
          "Drug: Oseni oral <br>Effectiveness: 5.0 <br>Satisfactoin: 2.5 <br>Review: 2",
          "Drug: Prandin oral <br>Effectiveness: 4.8 <br>Satisfactoin: 4.6 <br>Review: 5",
          "Drug: Precose oral <br>Effectiveness: 3.0 <br>Satisfactoin: 2.33 <br>Review: 3",
          "Drug: Riomet oral <br>Effectiveness: 2.0 <br>Satisfactoin: 1.0 <br>Review: 2",
          "Drug: Starlix oral <br>Effectiveness: 3.67 <br>Satisfactoin: 3.67 <br>Review: 6",
          "Drug: Synjardy oral <br>Effectiveness: 1.5 <br>Satisfactoin: 1.0 <br>Review: 2",
          "Drug: Tradjenta oral <br>Effectiveness: 2.62 <br>Satisfactoin: 2.19 <br>Review: 16",
          "Drug: Xigduo XR oral <br>Effectiveness: 3.33 <br>Satisfactoin: 3.33 <br>Review: 3",
          "Drug: acarbose oral <br>Effectiveness: 4.0 <br>Satisfactoin: 3.33 <br>Review: 3",
          "Drug: glimepiride oral <br>Effectiveness: 3.78 <br>Satisfactoin: 3.26 <br>Review: 27",
          "Drug: glipizide oral <br>Effectiveness: 3.46 <br>Satisfactoin: 3.0 <br>Review: 26",
          "Drug: glipizide-metformin oral <br>Effectiveness: 3.0 <br>Satisfactoin: 3.0 <br>Review: 2",
          "Drug: glyburide oral <br>Effectiveness: 3.41 <br>Satisfactoin: 3.35 <br>Review: 17",
          "Drug: glyburide-metformin oral <br>Effectiveness: 4.33 <br>Satisfactoin: 4.33 <br>Review: 3",
          "Drug: metformin oral <br>Effectiveness: 3.18 <br>Satisfactoin: 2.75 <br>Review: 195",
          "Drug: nateglinide oral <br>Effectiveness: 3.0 <br>Satisfactoin: 2.5 <br>Review: 2",
          "Drug: pioglitazone oral <br>Effectiveness: 2.5 <br>Satisfactoin: 2.25 <br>Review: 8",
          "Drug: pioglitazone-metformin oral <br>Effectiveness: 3.5 <br>Satisfactoin: 3.5 <br>Review: 2",
          "Drug: sitagliptin oral <br>Effectiveness: 3.25 <br>Satisfactoin: 2.5 <br>Review: 4"
         ],
         "type": "scatter",
         "x": [
          4.09,
          3.8,
          4.36,
          4.2,
          5,
          4.29,
          4.67,
          4.53,
          5,
          4.75,
          3.71,
          5,
          4,
          4.75,
          4.56,
          5,
          5,
          4.45,
          4.2,
          3.75,
          4.18,
          3.8,
          4,
          3.92,
          3.5,
          4.33,
          5,
          4.4,
          2.67,
          3,
          4.83,
          3,
          4.44,
          3,
          5,
          4.41,
          4.31,
          4,
          4.18,
          4.33,
          3.76,
          4.5,
          3.75,
          3.5,
          4.75
         ],
         "y": [
          2.82,
          2.39,
          2.93,
          2.2,
          2,
          2.93,
          3.67,
          3.53,
          3.33,
          2.75,
          2.94,
          3,
          3.5,
          4.25,
          3.56,
          5,
          4,
          3.37,
          3.6,
          2.84,
          2.83,
          3,
          2.67,
          3,
          1,
          2.9,
          2.5,
          4.6,
          2.33,
          1,
          3.67,
          1,
          2.19,
          3.33,
          3.33,
          3.26,
          3,
          3,
          3.35,
          4.33,
          2.75,
          2.5,
          2.25,
          3.5,
          2.5
         ]
        },
        {
         "marker": {
          "line": {
           "width": 2
          },
          "size": [
           11,
           98,
           2,
           3,
           14,
           2,
           5,
           2,
           14,
           20,
           63,
           3,
           15,
           3,
           4,
           17,
           1,
           4,
           4,
           9,
           3,
           2,
           2,
           2,
           3,
           2,
           1,
           38,
           5,
           32,
           66,
           10,
           3,
           12,
           10,
           8,
           2,
           11,
           6,
           2,
           2,
           5,
           3,
           3,
           21,
           2,
           5,
           5,
           3,
           2,
           6,
           2,
           7,
           3,
           16,
           26,
           9,
           5,
           3,
           3,
           27,
           26,
           2,
           17,
           3,
           195,
           2,
           8,
           2,
           4
          ],
          "sizemode": "area",
          "sizeref": 0.039
         },
         "mode": "markers",
         "name": "injection",
         "text": [
          "Drug: Admelog U-100 Insulin lispro subcutaneous <br>Effectiveness: 1.0 <br>Satisfactoin: 1.0 <br>Review: 2",
          "Drug: Apidra subcutaneous <br>Effectiveness: 3.0 <br>Satisfactoin: 3.0 <br>Review: 2",
          "Drug: Bydureon subcutaneous <br>Effectiveness: 3.7 <br>Satisfactoin: 3.2 <br>Review: 20",
          "Drug: Byetta subcutaneous <br>Effectiveness: 4.22 <br>Satisfactoin: 3.68 <br>Review: 63",
          "Drug: Humalog KwikPen subcutaneous <br>Effectiveness: 4.0 <br>Satisfactoin: 3.0 <br>Review: 2",
          "Drug: Humalog Mix 75-25 KwikPen subcutaneous <br>Effectiveness: 2.5 <br>Satisfactoin: 2.0 <br>Review: 2",
          "Drug: Humalog Mix 75-25 subcutaneous <br>Effectiveness: 1.5 <br>Satisfactoin: 1.5 <br>Review: 2",
          "Drug: Humalog subcutaneous <br>Effectiveness: 4.33 <br>Satisfactoin: 3.67 <br>Review: 3",
          "Drug: Humulin 70-30 subcutaneous <br>Effectiveness: 2.0 <br>Satisfactoin: 1.5 <br>Review: 2",
          "Drug: Lantus Solostar subcutaneous <br>Effectiveness: 3.9 <br>Satisfactoin: 3.6 <br>Review: 10",
          "Drug: Lantus subcutaneous <br>Effectiveness: 4.0 <br>Satisfactoin: 3.38 <br>Review: 8",
          "Drug: Levemir FlexTouch subcutaneous <br>Effectiveness: 3.5 <br>Satisfactoin: 1.0 <br>Review: 2",
          "Drug: Levemir Flexpen subcutaneous <br>Effectiveness: 3.45 <br>Satisfactoin: 3.18 <br>Review: 11",
          "Drug: Levemir subcutaneous <br>Effectiveness: 3.0 <br>Satisfactoin: 3.33 <br>Review: 6",
          "Drug: Novolin R injection <br>Effectiveness: 1.5 <br>Satisfactoin: 1.0 <br>Review: 2",
          "Drug: Novolog Flexpen subcutaneous <br>Effectiveness: 3.6 <br>Satisfactoin: 3.2 <br>Review: 5",
          "Drug: Novolog Mix 70-30 FlexPen subcutaneous <br>Effectiveness: 2.67 <br>Satisfactoin: 2.33 <br>Review: 3",
          "Drug: Novolog subcutaneous <br>Effectiveness: 3.0 <br>Satisfactoin: 2.0 <br>Review: 3",
          "Drug: Ozempic subcutaneous <br>Effectiveness: 4.2 <br>Satisfactoin: 3.4 <br>Review: 5",
          "Drug: Tanzeum subcutaneous <br>Effectiveness: 2.14 <br>Satisfactoin: 1.57 <br>Review: 7",
          "Drug: Toujeo SoloStar subcutaneous <br>Effectiveness: 1.33 <br>Satisfactoin: 1.33 <br>Review: 3",
          "Drug: Trulicity subcutaneous <br>Effectiveness: 3.42 <br>Satisfactoin: 3.08 <br>Review: 26",
          "Drug: Victoza 2-Pak subcutaneous <br>Effectiveness: 4.33 <br>Satisfactoin: 3.56 <br>Review: 9",
          "Drug: Victoza 3-Pak subcutaneous <br>Effectiveness: 4.6 <br>Satisfactoin: 3.6 <br>Review: 5"
         ],
         "type": "scatter",
         "x": [
          2,
          5,
          3.45,
          4.33,
          3,
          5,
          4,
          4.33,
          3.5,
          4.2,
          3.88,
          3.5,
          4,
          3.83,
          1,
          3.4,
          2.67,
          4,
          4.2,
          2.71,
          3.33,
          3.88,
          4.89,
          4.6
         ],
         "y": [
          1,
          3,
          3.2,
          3.68,
          3,
          2,
          1.5,
          3.67,
          1.5,
          3.6,
          3.38,
          1,
          3.18,
          3.33,
          1,
          3.2,
          2.33,
          2,
          3.4,
          1.57,
          1.33,
          3.08,
          3.56,
          3.6
         ]
        },
        {
         "marker": {
          "line": {
           "width": 2
          },
          "size": [
           11,
           98,
           2,
           3,
           14,
           2,
           5,
           2,
           14,
           20,
           63,
           3,
           15,
           3,
           4,
           17,
           1,
           4,
           4,
           9,
           3,
           2,
           2,
           2,
           3,
           2,
           1,
           38,
           5,
           32,
           66,
           10,
           3,
           12,
           10,
           8,
           2,
           11,
           6,
           2,
           2,
           5,
           3,
           3,
           21,
           2,
           5,
           5,
           3,
           2,
           6,
           2,
           7,
           3,
           16,
           26,
           9,
           5,
           3,
           3,
           27,
           26,
           2,
           17,
           3,
           195,
           2,
           8,
           2,
           4
          ],
          "sizemode": "area",
          "sizeref": 0.039
         },
         "mode": "markers",
         "name": "inhaler",
         "text": [
          "Drug: Afrezza inhalation <br>Effectiveness: 3.67 <br>Satisfactoin: 3.67 <br>Review: 3"
         ],
         "type": "scatter",
         "x": [
          3.67
         ],
         "y": [
          3.67
         ]
        }
       ],
       "layout": {
        "paper_bgcolor": "rgb(243, 243, 243)",
        "plot_bgcolor": "rgb(243, 243, 243)",
        "template": {
         "data": {
          "bar": [
           {
            "error_x": {
             "color": "#2a3f5f"
            },
            "error_y": {
             "color": "#2a3f5f"
            },
            "marker": {
             "line": {
              "color": "#E5ECF6",
              "width": 0.5
             },
             "pattern": {
              "fillmode": "overlay",
              "size": 10,
              "solidity": 0.2
             }
            },
            "type": "bar"
           }
          ],
          "barpolar": [
           {
            "marker": {
             "line": {
              "color": "#E5ECF6",
              "width": 0.5
             },
             "pattern": {
              "fillmode": "overlay",
              "size": 10,
              "solidity": 0.2
             }
            },
            "type": "barpolar"
           }
          ],
          "carpet": [
           {
            "aaxis": {
             "endlinecolor": "#2a3f5f",
             "gridcolor": "white",
             "linecolor": "white",
             "minorgridcolor": "white",
             "startlinecolor": "#2a3f5f"
            },
            "baxis": {
             "endlinecolor": "#2a3f5f",
             "gridcolor": "white",
             "linecolor": "white",
             "minorgridcolor": "white",
             "startlinecolor": "#2a3f5f"
            },
            "type": "carpet"
           }
          ],
          "choropleth": [
           {
            "colorbar": {
             "outlinewidth": 0,
             "ticks": ""
            },
            "type": "choropleth"
           }
          ],
          "contour": [
           {
            "colorbar": {
             "outlinewidth": 0,
             "ticks": ""
            },
            "colorscale": [
             [
              0,
              "#0d0887"
             ],
             [
              0.1111111111111111,
              "#46039f"
             ],
             [
              0.2222222222222222,
              "#7201a8"
             ],
             [
              0.3333333333333333,
              "#9c179e"
             ],
             [
              0.4444444444444444,
              "#bd3786"
             ],
             [
              0.5555555555555556,
              "#d8576b"
             ],
             [
              0.6666666666666666,
              "#ed7953"
             ],
             [
              0.7777777777777778,
              "#fb9f3a"
             ],
             [
              0.8888888888888888,
              "#fdca26"
             ],
             [
              1,
              "#f0f921"
             ]
            ],
            "type": "contour"
           }
          ],
          "contourcarpet": [
           {
            "colorbar": {
             "outlinewidth": 0,
             "ticks": ""
            },
            "type": "contourcarpet"
           }
          ],
          "heatmap": [
           {
            "colorbar": {
             "outlinewidth": 0,
             "ticks": ""
            },
            "colorscale": [
             [
              0,
              "#0d0887"
             ],
             [
              0.1111111111111111,
              "#46039f"
             ],
             [
              0.2222222222222222,
              "#7201a8"
             ],
             [
              0.3333333333333333,
              "#9c179e"
             ],
             [
              0.4444444444444444,
              "#bd3786"
             ],
             [
              0.5555555555555556,
              "#d8576b"
             ],
             [
              0.6666666666666666,
              "#ed7953"
             ],
             [
              0.7777777777777778,
              "#fb9f3a"
             ],
             [
              0.8888888888888888,
              "#fdca26"
             ],
             [
              1,
              "#f0f921"
             ]
            ],
            "type": "heatmap"
           }
          ],
          "heatmapgl": [
           {
            "colorbar": {
             "outlinewidth": 0,
             "ticks": ""
            },
            "colorscale": [
             [
              0,
              "#0d0887"
             ],
             [
              0.1111111111111111,
              "#46039f"
             ],
             [
              0.2222222222222222,
              "#7201a8"
             ],
             [
              0.3333333333333333,
              "#9c179e"
             ],
             [
              0.4444444444444444,
              "#bd3786"
             ],
             [
              0.5555555555555556,
              "#d8576b"
             ],
             [
              0.6666666666666666,
              "#ed7953"
             ],
             [
              0.7777777777777778,
              "#fb9f3a"
             ],
             [
              0.8888888888888888,
              "#fdca26"
             ],
             [
              1,
              "#f0f921"
             ]
            ],
            "type": "heatmapgl"
           }
          ],
          "histogram": [
           {
            "marker": {
             "pattern": {
              "fillmode": "overlay",
              "size": 10,
              "solidity": 0.2
             }
            },
            "type": "histogram"
           }
          ],
          "histogram2d": [
           {
            "colorbar": {
             "outlinewidth": 0,
             "ticks": ""
            },
            "colorscale": [
             [
              0,
              "#0d0887"
             ],
             [
              0.1111111111111111,
              "#46039f"
             ],
             [
              0.2222222222222222,
              "#7201a8"
             ],
             [
              0.3333333333333333,
              "#9c179e"
             ],
             [
              0.4444444444444444,
              "#bd3786"
             ],
             [
              0.5555555555555556,
              "#d8576b"
             ],
             [
              0.6666666666666666,
              "#ed7953"
             ],
             [
              0.7777777777777778,
              "#fb9f3a"
             ],
             [
              0.8888888888888888,
              "#fdca26"
             ],
             [
              1,
              "#f0f921"
             ]
            ],
            "type": "histogram2d"
           }
          ],
          "histogram2dcontour": [
           {
            "colorbar": {
             "outlinewidth": 0,
             "ticks": ""
            },
            "colorscale": [
             [
              0,
              "#0d0887"
             ],
             [
              0.1111111111111111,
              "#46039f"
             ],
             [
              0.2222222222222222,
              "#7201a8"
             ],
             [
              0.3333333333333333,
              "#9c179e"
             ],
             [
              0.4444444444444444,
              "#bd3786"
             ],
             [
              0.5555555555555556,
              "#d8576b"
             ],
             [
              0.6666666666666666,
              "#ed7953"
             ],
             [
              0.7777777777777778,
              "#fb9f3a"
             ],
             [
              0.8888888888888888,
              "#fdca26"
             ],
             [
              1,
              "#f0f921"
             ]
            ],
            "type": "histogram2dcontour"
           }
          ],
          "mesh3d": [
           {
            "colorbar": {
             "outlinewidth": 0,
             "ticks": ""
            },
            "type": "mesh3d"
           }
          ],
          "parcoords": [
           {
            "line": {
             "colorbar": {
              "outlinewidth": 0,
              "ticks": ""
             }
            },
            "type": "parcoords"
           }
          ],
          "pie": [
           {
            "automargin": true,
            "type": "pie"
           }
          ],
          "scatter": [
           {
            "fillpattern": {
             "fillmode": "overlay",
             "size": 10,
             "solidity": 0.2
            },
            "type": "scatter"
           }
          ],
          "scatter3d": [
           {
            "line": {
             "colorbar": {
              "outlinewidth": 0,
              "ticks": ""
             }
            },
            "marker": {
             "colorbar": {
              "outlinewidth": 0,
              "ticks": ""
             }
            },
            "type": "scatter3d"
           }
          ],
          "scattercarpet": [
           {
            "marker": {
             "colorbar": {
              "outlinewidth": 0,
              "ticks": ""
             }
            },
            "type": "scattercarpet"
           }
          ],
          "scattergeo": [
           {
            "marker": {
             "colorbar": {
              "outlinewidth": 0,
              "ticks": ""
             }
            },
            "type": "scattergeo"
           }
          ],
          "scattergl": [
           {
            "marker": {
             "colorbar": {
              "outlinewidth": 0,
              "ticks": ""
             }
            },
            "type": "scattergl"
           }
          ],
          "scattermapbox": [
           {
            "marker": {
             "colorbar": {
              "outlinewidth": 0,
              "ticks": ""
             }
            },
            "type": "scattermapbox"
           }
          ],
          "scatterpolar": [
           {
            "marker": {
             "colorbar": {
              "outlinewidth": 0,
              "ticks": ""
             }
            },
            "type": "scatterpolar"
           }
          ],
          "scatterpolargl": [
           {
            "marker": {
             "colorbar": {
              "outlinewidth": 0,
              "ticks": ""
             }
            },
            "type": "scatterpolargl"
           }
          ],
          "scatterternary": [
           {
            "marker": {
             "colorbar": {
              "outlinewidth": 0,
              "ticks": ""
             }
            },
            "type": "scatterternary"
           }
          ],
          "surface": [
           {
            "colorbar": {
             "outlinewidth": 0,
             "ticks": ""
            },
            "colorscale": [
             [
              0,
              "#0d0887"
             ],
             [
              0.1111111111111111,
              "#46039f"
             ],
             [
              0.2222222222222222,
              "#7201a8"
             ],
             [
              0.3333333333333333,
              "#9c179e"
             ],
             [
              0.4444444444444444,
              "#bd3786"
             ],
             [
              0.5555555555555556,
              "#d8576b"
             ],
             [
              0.6666666666666666,
              "#ed7953"
             ],
             [
              0.7777777777777778,
              "#fb9f3a"
             ],
             [
              0.8888888888888888,
              "#fdca26"
             ],
             [
              1,
              "#f0f921"
             ]
            ],
            "type": "surface"
           }
          ],
          "table": [
           {
            "cells": {
             "fill": {
              "color": "#EBF0F8"
             },
             "line": {
              "color": "white"
             }
            },
            "header": {
             "fill": {
              "color": "#C8D4E3"
             },
             "line": {
              "color": "white"
             }
            },
            "type": "table"
           }
          ]
         },
         "layout": {
          "annotationdefaults": {
           "arrowcolor": "#2a3f5f",
           "arrowhead": 0,
           "arrowwidth": 1
          },
          "autotypenumbers": "strict",
          "coloraxis": {
           "colorbar": {
            "outlinewidth": 0,
            "ticks": ""
           }
          },
          "colorscale": {
           "diverging": [
            [
             0,
             "#8e0152"
            ],
            [
             0.1,
             "#c51b7d"
            ],
            [
             0.2,
             "#de77ae"
            ],
            [
             0.3,
             "#f1b6da"
            ],
            [
             0.4,
             "#fde0ef"
            ],
            [
             0.5,
             "#f7f7f7"
            ],
            [
             0.6,
             "#e6f5d0"
            ],
            [
             0.7,
             "#b8e186"
            ],
            [
             0.8,
             "#7fbc41"
            ],
            [
             0.9,
             "#4d9221"
            ],
            [
             1,
             "#276419"
            ]
           ],
           "sequential": [
            [
             0,
             "#0d0887"
            ],
            [
             0.1111111111111111,
             "#46039f"
            ],
            [
             0.2222222222222222,
             "#7201a8"
            ],
            [
             0.3333333333333333,
             "#9c179e"
            ],
            [
             0.4444444444444444,
             "#bd3786"
            ],
            [
             0.5555555555555556,
             "#d8576b"
            ],
            [
             0.6666666666666666,
             "#ed7953"
            ],
            [
             0.7777777777777778,
             "#fb9f3a"
            ],
            [
             0.8888888888888888,
             "#fdca26"
            ],
            [
             1,
             "#f0f921"
            ]
           ],
           "sequentialminus": [
            [
             0,
             "#0d0887"
            ],
            [
             0.1111111111111111,
             "#46039f"
            ],
            [
             0.2222222222222222,
             "#7201a8"
            ],
            [
             0.3333333333333333,
             "#9c179e"
            ],
            [
             0.4444444444444444,
             "#bd3786"
            ],
            [
             0.5555555555555556,
             "#d8576b"
            ],
            [
             0.6666666666666666,
             "#ed7953"
            ],
            [
             0.7777777777777778,
             "#fb9f3a"
            ],
            [
             0.8888888888888888,
             "#fdca26"
            ],
            [
             1,
             "#f0f921"
            ]
           ]
          },
          "colorway": [
           "#636efa",
           "#EF553B",
           "#00cc96",
           "#ab63fa",
           "#FFA15A",
           "#19d3f3",
           "#FF6692",
           "#B6E880",
           "#FF97FF",
           "#FECB52"
          ],
          "font": {
           "color": "#2a3f5f"
          },
          "geo": {
           "bgcolor": "white",
           "lakecolor": "white",
           "landcolor": "#E5ECF6",
           "showlakes": true,
           "showland": true,
           "subunitcolor": "white"
          },
          "hoverlabel": {
           "align": "left"
          },
          "hovermode": "closest",
          "mapbox": {
           "style": "light"
          },
          "paper_bgcolor": "white",
          "plot_bgcolor": "#E5ECF6",
          "polar": {
           "angularaxis": {
            "gridcolor": "white",
            "linecolor": "white",
            "ticks": ""
           },
           "bgcolor": "#E5ECF6",
           "radialaxis": {
            "gridcolor": "white",
            "linecolor": "white",
            "ticks": ""
           }
          },
          "scene": {
           "xaxis": {
            "backgroundcolor": "#E5ECF6",
            "gridcolor": "white",
            "gridwidth": 2,
            "linecolor": "white",
            "showbackground": true,
            "ticks": "",
            "zerolinecolor": "white"
           },
           "yaxis": {
            "backgroundcolor": "#E5ECF6",
            "gridcolor": "white",
            "gridwidth": 2,
            "linecolor": "white",
            "showbackground": true,
            "ticks": "",
            "zerolinecolor": "white"
           },
           "zaxis": {
            "backgroundcolor": "#E5ECF6",
            "gridcolor": "white",
            "gridwidth": 2,
            "linecolor": "white",
            "showbackground": true,
            "ticks": "",
            "zerolinecolor": "white"
           }
          },
          "shapedefaults": {
           "line": {
            "color": "#2a3f5f"
           }
          },
          "ternary": {
           "aaxis": {
            "gridcolor": "white",
            "linecolor": "white",
            "ticks": ""
           },
           "baxis": {
            "gridcolor": "white",
            "linecolor": "white",
            "ticks": ""
           },
           "bgcolor": "#E5ECF6",
           "caxis": {
            "gridcolor": "white",
            "linecolor": "white",
            "ticks": ""
           }
          },
          "title": {
           "x": 0.05
          },
          "xaxis": {
           "automargin": true,
           "gridcolor": "white",
           "linecolor": "white",
           "ticks": "",
           "title": {
            "standoff": 15
           },
           "zerolinecolor": "white",
           "zerolinewidth": 2
          },
          "yaxis": {
           "automargin": true,
           "gridcolor": "white",
           "linecolor": "white",
           "ticks": "",
           "title": {
            "standoff": 15
           },
           "zerolinecolor": "white",
           "zerolinewidth": 2
          }
         }
        },
        "title": {
         "text": "Ease of Use v. Satisfaction: with Reviews"
        },
        "xaxis": {
         "gridcolor": "white",
         "gridwidth": 2,
         "title": {
          "text": "Dibetes: Type 2 Drug Ease of Use"
         }
        },
        "yaxis": {
         "gridcolor": "white",
         "gridwidth": 2,
         "title": {
          "text": "Drug Satisfacttion"
         }
        }
       }
      }
     },
     "metadata": {},
     "output_type": "display_data"
    }
   ],
   "source": [
    "hover_text = []\n",
    "bubble_size = []\n",
    "\n",
    "for index, row in df_drug.iterrows():\n",
    "    hover_text.append(('Drug: {drug} <br>'+\n",
    "                      'Effectiveness: {effectiveness} <br>'+\n",
    "                      'Satisfactoin: {satisfaction} <br>'+\n",
    "                      'Review: {review}').format(drug=row['drug'],\n",
    "                                            effectiveness=row['effectiveness'],\n",
    "                                            easeofuse = row['easeofuse'],\n",
    "                                            satisfaction=row['satisfaction'],\n",
    "                                            review = row['count']))\n",
    "    bubble_size.append(row['count'])\n",
    "\n",
    "df_drug['text'] = hover_text\n",
    "df_drug['count'] = bubble_size\n",
    "sizeref = 2.*max(df_drug['count'])/(100**2)\n",
    "\n",
    "drug_types = ['pill', 'injection', 'inhaler']\n",
    "drug_data = {drug:df_drug.query(\"type == '%s'\" %drug)\n",
    "                              for drug in drug_types}\n",
    "\n",
    "# Create figure\n",
    "fig = go.Figure()\n",
    "\n",
    "for drug_types, drug in drug_data.items():\n",
    "    fig.add_trace(go.Scatter(\n",
    "        x=drug['easeofuse'], y=drug['satisfaction'],\n",
    "        name=drug_types, text=drug['text'],\n",
    "        marker_size=df_drug['count']\n",
    "        ))\n",
    "\n",
    "# Tune marker appearance and layout\n",
    "fig.update_traces(mode='markers', marker=dict(sizemode='area',\n",
    "                                              sizeref=sizeref, line_width=2))\n",
    "\n",
    "fig.update_layout(\n",
    "    title='Ease of Use v. Satisfaction: with Reviews',\n",
    "    xaxis=dict(\n",
    "        title='Dibetes: Type 2 Drug Ease of Use',\n",
    "        gridcolor='white',\n",
    "        gridwidth=2,\n",
    "    ),\n",
    "    yaxis=dict(\n",
    "        title='Drug Satisfacttion',\n",
    "        gridcolor='white',\n",
    "        gridwidth=2,\n",
    "    ),\n",
    "    paper_bgcolor='rgb(243, 243, 243)',\n",
    "    plot_bgcolor='rgb(243, 243, 243)'\n",
    ")\n",
    "\n",
    "fig.show()"
   ]
  },
  {
   "cell_type": "code",
   "execution_count": null,
   "metadata": {},
   "outputs": [],
   "source": []
  }
 ],
 "metadata": {
  "interpreter": {
   "hash": "aee8b7b246df8f9039afb4144a1f6fd8d2ca17a180786b69acc140d282b71a49"
  },
  "kernelspec": {
   "display_name": "Python 3.10.2 64-bit",
   "language": "python",
   "name": "python3"
  },
  "language_info": {
   "codemirror_mode": {
    "name": "ipython",
    "version": 3
   },
   "file_extension": ".py",
   "mimetype": "text/x-python",
   "name": "python",
   "nbconvert_exporter": "python",
   "pygments_lexer": "ipython3",
   "version": "3.9.7"
  },
  "orig_nbformat": 4
 },
 "nbformat": 4,
 "nbformat_minor": 2
}
