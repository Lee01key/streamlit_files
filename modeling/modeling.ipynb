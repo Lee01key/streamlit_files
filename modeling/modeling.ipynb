{
 "cells": [
  {
   "cell_type": "markdown",
   "metadata": {},
   "source": [
    "# Modeling: with Categorization"
   ]
  },
  {
   "cell_type": "markdown",
   "metadata": {},
   "source": [
    "In this section, our group tried different modeling to predict if the ease of use, effectiveness, helpfulness of review, and reviewer profile (e.g., status, gender, treatment_preiod, and age_group) can predict diabete patients' satisfaction of drugs."
   ]
  },
  {
   "cell_type": "markdown",
   "metadata": {},
   "source": [
    "## Import data and Initial EDA"
   ]
  },
  {
   "cell_type": "markdown",
   "metadata": {},
   "source": [
    "### Import libraries"
   ]
  },
  {
   "cell_type": "code",
   "execution_count": 1,
   "metadata": {},
   "outputs": [],
   "source": [
    "import pandas as pd\n",
    "import seaborn as sns\n",
    "import matplotlib.pyplot as plt\n",
    "import numpy as np\n",
    "\n",
    "import warnings\n",
    "warnings.filterwarnings('ignore')\n",
    "from sklearn.ensemble import RandomForestClassifier\n",
    "\n",
    "from sklearn.tree import DecisionTreeClassifier\n",
    "\n",
    "from sklearn.preprocessing import StandardScaler\n",
    "from sklearn.preprocessing import MinMaxScaler\n",
    "\n",
    "from sklearn.base import BaseEstimator, TransformerMixin\n",
    "from sklearn.feature_extraction.text import CountVectorizer, TfidfVectorizer, TfidfTransformer\n",
    "from sklearn.model_selection import train_test_split, GridSearchCV\n",
    "from sklearn.pipeline import Pipeline\n",
    "from sklearn.naive_bayes import MultinomialNB\n",
    "from sklearn.linear_model import LogisticRegression, LogisticRegressionCV\n",
    "from sklearn.metrics import confusion_matrix, plot_confusion_matrix, accuracy_score, recall_score, classification_report"
   ]
  },
  {
   "cell_type": "markdown",
   "metadata": {},
   "source": [
    "### Import file"
   ]
  },
  {
   "cell_type": "code",
   "execution_count": 2,
   "metadata": {},
   "outputs": [],
   "source": [
    "df = pd.read_csv('../data/cleaned/cleaned_df.csv')"
   ]
  },
  {
   "cell_type": "markdown",
   "metadata": {},
   "source": [
    "### Check null values"
   ]
  },
  {
   "cell_type": "code",
   "execution_count": 3,
   "metadata": {},
   "outputs": [
    {
     "data": {
      "text/plain": [
       "Rdate                   0\n",
       "comment                 9\n",
       "condition               0\n",
       "drug                    0\n",
       "easeofuse               0\n",
       "effectiveness           0\n",
       "helpful                 0\n",
       "reviewer              253\n",
       "satisfaction            0\n",
       "patient                 0\n",
       "caregiver               0\n",
       "male                    0\n",
       "female                  0\n",
       "treatment_period_1      0\n",
       "treatment_period_2      0\n",
       "treatment_period_3      0\n",
       "treatment_period_4      0\n",
       "treatment_period_5      0\n",
       "treatment_period_6      0\n",
       "treatment_period_7      0\n",
       "age_group_1             0\n",
       "age_group_2             0\n",
       "age_group_3             0\n",
       "age_group_4             0\n",
       "age_group_5             0\n",
       "age_group_6             0\n",
       "age_group_7             0\n",
       "dtype: int64"
      ]
     },
     "execution_count": 3,
     "metadata": {},
     "output_type": "execute_result"
    }
   ],
   "source": [
    "df.isnull().sum()"
   ]
  },
  {
   "cell_type": "code",
   "execution_count": 8,
   "metadata": {},
   "outputs": [],
   "source": [
    "df.dropna(inplace = True)"
   ]
  },
  {
   "cell_type": "code",
   "execution_count": 9,
   "metadata": {},
   "outputs": [
    {
     "data": {
      "text/html": [
       "<div>\n",
       "<style scoped>\n",
       "    .dataframe tbody tr th:only-of-type {\n",
       "        vertical-align: middle;\n",
       "    }\n",
       "\n",
       "    .dataframe tbody tr th {\n",
       "        vertical-align: top;\n",
       "    }\n",
       "\n",
       "    .dataframe thead th {\n",
       "        text-align: right;\n",
       "    }\n",
       "</style>\n",
       "<table border=\"1\" class=\"dataframe\">\n",
       "  <thead>\n",
       "    <tr style=\"text-align: right;\">\n",
       "      <th></th>\n",
       "      <th>Rdate</th>\n",
       "      <th>comment</th>\n",
       "      <th>condition</th>\n",
       "      <th>drug</th>\n",
       "      <th>easeofuse</th>\n",
       "      <th>effectiveness</th>\n",
       "      <th>helpful</th>\n",
       "      <th>reviewer</th>\n",
       "      <th>satisfaction</th>\n",
       "      <th>patient</th>\n",
       "      <th>...</th>\n",
       "      <th>treatment_period_5</th>\n",
       "      <th>treatment_period_6</th>\n",
       "      <th>treatment_period_7</th>\n",
       "      <th>age_group_1</th>\n",
       "      <th>age_group_2</th>\n",
       "      <th>age_group_3</th>\n",
       "      <th>age_group_4</th>\n",
       "      <th>age_group_5</th>\n",
       "      <th>age_group_6</th>\n",
       "      <th>age_group_7</th>\n",
       "    </tr>\n",
       "  </thead>\n",
       "  <tbody>\n",
       "    <tr>\n",
       "      <th>0</th>\n",
       "      <td>9/19/2007 9:03:53 AM</td>\n",
       "      <td>The medication has helped me keep my 2 month s...</td>\n",
       "      <td>Type 2 Diabetes Mellitus</td>\n",
       "      <td>metformin oral</td>\n",
       "      <td>5</td>\n",
       "      <td>4</td>\n",
       "      <td>22</td>\n",
       "      <td>bjorn, 65-74 Male  on Treatment for 2 to less ...</td>\n",
       "      <td>3</td>\n",
       "      <td>1</td>\n",
       "      <td>...</td>\n",
       "      <td>1</td>\n",
       "      <td>0</td>\n",
       "      <td>0</td>\n",
       "      <td>0</td>\n",
       "      <td>0</td>\n",
       "      <td>0</td>\n",
       "      <td>0</td>\n",
       "      <td>0</td>\n",
       "      <td>0</td>\n",
       "      <td>0</td>\n",
       "    </tr>\n",
       "    <tr>\n",
       "      <th>1</th>\n",
       "      <td>9/18/2007 11:18:23 AM</td>\n",
       "      <td>The medication has helped me keep my 2 month s...</td>\n",
       "      <td>Type 2 Diabetes Mellitus</td>\n",
       "      <td>metformin oral</td>\n",
       "      <td>5</td>\n",
       "      <td>4</td>\n",
       "      <td>22</td>\n",
       "      <td>cutie54, 45-54 Female  on Treatment for 1 to 6...</td>\n",
       "      <td>5</td>\n",
       "      <td>1</td>\n",
       "      <td>...</td>\n",
       "      <td>0</td>\n",
       "      <td>0</td>\n",
       "      <td>0</td>\n",
       "      <td>0</td>\n",
       "      <td>0</td>\n",
       "      <td>0</td>\n",
       "      <td>0</td>\n",
       "      <td>0</td>\n",
       "      <td>0</td>\n",
       "      <td>0</td>\n",
       "    </tr>\n",
       "    <tr>\n",
       "      <th>2</th>\n",
       "      <td>3/2/2015 7:26:37 PM</td>\n",
       "      <td>I have been taking Tanzeum for four weeks and ...</td>\n",
       "      <td>Type 2 Diabetes Mellitus</td>\n",
       "      <td>Tanzeum subcutaneous</td>\n",
       "      <td>5</td>\n",
       "      <td>5</td>\n",
       "      <td>15</td>\n",
       "      <td>65-74 Female  on Treatment for 1 to 6 months (...</td>\n",
       "      <td>5</td>\n",
       "      <td>1</td>\n",
       "      <td>...</td>\n",
       "      <td>0</td>\n",
       "      <td>0</td>\n",
       "      <td>0</td>\n",
       "      <td>0</td>\n",
       "      <td>0</td>\n",
       "      <td>0</td>\n",
       "      <td>0</td>\n",
       "      <td>0</td>\n",
       "      <td>0</td>\n",
       "      <td>0</td>\n",
       "    </tr>\n",
       "    <tr>\n",
       "      <th>3</th>\n",
       "      <td>1/4/2015 6:47:30 AM</td>\n",
       "      <td>I have been taking Tanzeum for four weeks and ...</td>\n",
       "      <td>Type 2 Diabetes Mellitus</td>\n",
       "      <td>Tanzeum subcutaneous</td>\n",
       "      <td>4</td>\n",
       "      <td>2</td>\n",
       "      <td>15</td>\n",
       "      <td>MarkW, 65-74 Male  on Treatment for 1 to 6 mon...</td>\n",
       "      <td>1</td>\n",
       "      <td>1</td>\n",
       "      <td>...</td>\n",
       "      <td>0</td>\n",
       "      <td>0</td>\n",
       "      <td>0</td>\n",
       "      <td>0</td>\n",
       "      <td>0</td>\n",
       "      <td>0</td>\n",
       "      <td>0</td>\n",
       "      <td>0</td>\n",
       "      <td>0</td>\n",
       "      <td>0</td>\n",
       "    </tr>\n",
       "    <tr>\n",
       "      <th>4</th>\n",
       "      <td>10/20/2014 3:13:21 PM</td>\n",
       "      <td>I have been taking Tanzeum for four weeks and ...</td>\n",
       "      <td>Type 2 Diabetes Mellitus</td>\n",
       "      <td>Tanzeum subcutaneous</td>\n",
       "      <td>5</td>\n",
       "      <td>5</td>\n",
       "      <td>15</td>\n",
       "      <td>Les, 55-64 Female  (Patient)</td>\n",
       "      <td>5</td>\n",
       "      <td>1</td>\n",
       "      <td>...</td>\n",
       "      <td>0</td>\n",
       "      <td>0</td>\n",
       "      <td>0</td>\n",
       "      <td>0</td>\n",
       "      <td>0</td>\n",
       "      <td>0</td>\n",
       "      <td>0</td>\n",
       "      <td>0</td>\n",
       "      <td>0</td>\n",
       "      <td>0</td>\n",
       "    </tr>\n",
       "  </tbody>\n",
       "</table>\n",
       "<p>5 rows × 27 columns</p>\n",
       "</div>"
      ],
      "text/plain": [
       "                   Rdate                                            comment  \\\n",
       "0   9/19/2007 9:03:53 AM  The medication has helped me keep my 2 month s...   \n",
       "1  9/18/2007 11:18:23 AM  The medication has helped me keep my 2 month s...   \n",
       "2    3/2/2015 7:26:37 PM  I have been taking Tanzeum for four weeks and ...   \n",
       "3    1/4/2015 6:47:30 AM  I have been taking Tanzeum for four weeks and ...   \n",
       "4  10/20/2014 3:13:21 PM  I have been taking Tanzeum for four weeks and ...   \n",
       "\n",
       "                  condition                  drug  easeofuse  effectiveness  \\\n",
       "0  Type 2 Diabetes Mellitus        metformin oral          5              4   \n",
       "1  Type 2 Diabetes Mellitus        metformin oral          5              4   \n",
       "2  Type 2 Diabetes Mellitus  Tanzeum subcutaneous          5              5   \n",
       "3  Type 2 Diabetes Mellitus  Tanzeum subcutaneous          4              2   \n",
       "4  Type 2 Diabetes Mellitus  Tanzeum subcutaneous          5              5   \n",
       "\n",
       "   helpful                                           reviewer  satisfaction  \\\n",
       "0       22  bjorn, 65-74 Male  on Treatment for 2 to less ...             3   \n",
       "1       22  cutie54, 45-54 Female  on Treatment for 1 to 6...             5   \n",
       "2       15  65-74 Female  on Treatment for 1 to 6 months (...             5   \n",
       "3       15  MarkW, 65-74 Male  on Treatment for 1 to 6 mon...             1   \n",
       "4       15                       Les, 55-64 Female  (Patient)             5   \n",
       "\n",
       "   patient  ...  treatment_period_5  treatment_period_6  treatment_period_7  \\\n",
       "0        1  ...                   1                   0                   0   \n",
       "1        1  ...                   0                   0                   0   \n",
       "2        1  ...                   0                   0                   0   \n",
       "3        1  ...                   0                   0                   0   \n",
       "4        1  ...                   0                   0                   0   \n",
       "\n",
       "   age_group_1  age_group_2  age_group_3  age_group_4  age_group_5  \\\n",
       "0            0            0            0            0            0   \n",
       "1            0            0            0            0            0   \n",
       "2            0            0            0            0            0   \n",
       "3            0            0            0            0            0   \n",
       "4            0            0            0            0            0   \n",
       "\n",
       "   age_group_6  age_group_7  \n",
       "0            0            0  \n",
       "1            0            0  \n",
       "2            0            0  \n",
       "3            0            0  \n",
       "4            0            0  \n",
       "\n",
       "[5 rows x 27 columns]"
      ]
     },
     "execution_count": 9,
     "metadata": {},
     "output_type": "execute_result"
    }
   ],
   "source": [
    "df.head()"
   ]
  },
  {
   "cell_type": "markdown",
   "metadata": {},
   "source": [
    "### Select only necessary variables"
   ]
  },
  {
   "cell_type": "code",
   "execution_count": 10,
   "metadata": {},
   "outputs": [],
   "source": [
    "mdf = df.drop(columns = ['Rdate', 'drug', 'comment', 'condition', 'reviewer']).copy()"
   ]
  },
  {
   "cell_type": "code",
   "execution_count": 11,
   "metadata": {},
   "outputs": [
    {
     "data": {
      "text/html": [
       "<div>\n",
       "<style scoped>\n",
       "    .dataframe tbody tr th:only-of-type {\n",
       "        vertical-align: middle;\n",
       "    }\n",
       "\n",
       "    .dataframe tbody tr th {\n",
       "        vertical-align: top;\n",
       "    }\n",
       "\n",
       "    .dataframe thead th {\n",
       "        text-align: right;\n",
       "    }\n",
       "</style>\n",
       "<table border=\"1\" class=\"dataframe\">\n",
       "  <thead>\n",
       "    <tr style=\"text-align: right;\">\n",
       "      <th></th>\n",
       "      <th>easeofuse</th>\n",
       "      <th>effectiveness</th>\n",
       "      <th>helpful</th>\n",
       "      <th>satisfaction</th>\n",
       "      <th>patient</th>\n",
       "      <th>caregiver</th>\n",
       "      <th>male</th>\n",
       "      <th>female</th>\n",
       "      <th>treatment_period_1</th>\n",
       "      <th>treatment_period_2</th>\n",
       "      <th>...</th>\n",
       "      <th>treatment_period_5</th>\n",
       "      <th>treatment_period_6</th>\n",
       "      <th>treatment_period_7</th>\n",
       "      <th>age_group_1</th>\n",
       "      <th>age_group_2</th>\n",
       "      <th>age_group_3</th>\n",
       "      <th>age_group_4</th>\n",
       "      <th>age_group_5</th>\n",
       "      <th>age_group_6</th>\n",
       "      <th>age_group_7</th>\n",
       "    </tr>\n",
       "  </thead>\n",
       "  <tbody>\n",
       "    <tr>\n",
       "      <th>0</th>\n",
       "      <td>5</td>\n",
       "      <td>4</td>\n",
       "      <td>22</td>\n",
       "      <td>3</td>\n",
       "      <td>1</td>\n",
       "      <td>0</td>\n",
       "      <td>1</td>\n",
       "      <td>0</td>\n",
       "      <td>0</td>\n",
       "      <td>0</td>\n",
       "      <td>...</td>\n",
       "      <td>1</td>\n",
       "      <td>0</td>\n",
       "      <td>0</td>\n",
       "      <td>0</td>\n",
       "      <td>0</td>\n",
       "      <td>0</td>\n",
       "      <td>0</td>\n",
       "      <td>0</td>\n",
       "      <td>0</td>\n",
       "      <td>0</td>\n",
       "    </tr>\n",
       "    <tr>\n",
       "      <th>1</th>\n",
       "      <td>5</td>\n",
       "      <td>4</td>\n",
       "      <td>22</td>\n",
       "      <td>5</td>\n",
       "      <td>1</td>\n",
       "      <td>0</td>\n",
       "      <td>0</td>\n",
       "      <td>1</td>\n",
       "      <td>0</td>\n",
       "      <td>1</td>\n",
       "      <td>...</td>\n",
       "      <td>0</td>\n",
       "      <td>0</td>\n",
       "      <td>0</td>\n",
       "      <td>0</td>\n",
       "      <td>0</td>\n",
       "      <td>0</td>\n",
       "      <td>0</td>\n",
       "      <td>0</td>\n",
       "      <td>0</td>\n",
       "      <td>0</td>\n",
       "    </tr>\n",
       "    <tr>\n",
       "      <th>2</th>\n",
       "      <td>5</td>\n",
       "      <td>5</td>\n",
       "      <td>15</td>\n",
       "      <td>5</td>\n",
       "      <td>1</td>\n",
       "      <td>0</td>\n",
       "      <td>0</td>\n",
       "      <td>1</td>\n",
       "      <td>0</td>\n",
       "      <td>1</td>\n",
       "      <td>...</td>\n",
       "      <td>0</td>\n",
       "      <td>0</td>\n",
       "      <td>0</td>\n",
       "      <td>0</td>\n",
       "      <td>0</td>\n",
       "      <td>0</td>\n",
       "      <td>0</td>\n",
       "      <td>0</td>\n",
       "      <td>0</td>\n",
       "      <td>0</td>\n",
       "    </tr>\n",
       "    <tr>\n",
       "      <th>3</th>\n",
       "      <td>4</td>\n",
       "      <td>2</td>\n",
       "      <td>15</td>\n",
       "      <td>1</td>\n",
       "      <td>1</td>\n",
       "      <td>0</td>\n",
       "      <td>1</td>\n",
       "      <td>0</td>\n",
       "      <td>0</td>\n",
       "      <td>1</td>\n",
       "      <td>...</td>\n",
       "      <td>0</td>\n",
       "      <td>0</td>\n",
       "      <td>0</td>\n",
       "      <td>0</td>\n",
       "      <td>0</td>\n",
       "      <td>0</td>\n",
       "      <td>0</td>\n",
       "      <td>0</td>\n",
       "      <td>0</td>\n",
       "      <td>0</td>\n",
       "    </tr>\n",
       "    <tr>\n",
       "      <th>4</th>\n",
       "      <td>5</td>\n",
       "      <td>5</td>\n",
       "      <td>15</td>\n",
       "      <td>5</td>\n",
       "      <td>1</td>\n",
       "      <td>0</td>\n",
       "      <td>0</td>\n",
       "      <td>1</td>\n",
       "      <td>0</td>\n",
       "      <td>0</td>\n",
       "      <td>...</td>\n",
       "      <td>0</td>\n",
       "      <td>0</td>\n",
       "      <td>0</td>\n",
       "      <td>0</td>\n",
       "      <td>0</td>\n",
       "      <td>0</td>\n",
       "      <td>0</td>\n",
       "      <td>0</td>\n",
       "      <td>0</td>\n",
       "      <td>0</td>\n",
       "    </tr>\n",
       "  </tbody>\n",
       "</table>\n",
       "<p>5 rows × 22 columns</p>\n",
       "</div>"
      ],
      "text/plain": [
       "   easeofuse  effectiveness  helpful  satisfaction  patient  caregiver  male  \\\n",
       "0          5              4       22             3        1          0     1   \n",
       "1          5              4       22             5        1          0     0   \n",
       "2          5              5       15             5        1          0     0   \n",
       "3          4              2       15             1        1          0     1   \n",
       "4          5              5       15             5        1          0     0   \n",
       "\n",
       "   female  treatment_period_1  treatment_period_2  ...  treatment_period_5  \\\n",
       "0       0                   0                   0  ...                   1   \n",
       "1       1                   0                   1  ...                   0   \n",
       "2       1                   0                   1  ...                   0   \n",
       "3       0                   0                   1  ...                   0   \n",
       "4       1                   0                   0  ...                   0   \n",
       "\n",
       "   treatment_period_6  treatment_period_7  age_group_1  age_group_2  \\\n",
       "0                   0                   0            0            0   \n",
       "1                   0                   0            0            0   \n",
       "2                   0                   0            0            0   \n",
       "3                   0                   0            0            0   \n",
       "4                   0                   0            0            0   \n",
       "\n",
       "   age_group_3  age_group_4  age_group_5  age_group_6  age_group_7  \n",
       "0            0            0            0            0            0  \n",
       "1            0            0            0            0            0  \n",
       "2            0            0            0            0            0  \n",
       "3            0            0            0            0            0  \n",
       "4            0            0            0            0            0  \n",
       "\n",
       "[5 rows x 22 columns]"
      ]
     },
     "execution_count": 11,
     "metadata": {},
     "output_type": "execute_result"
    }
   ],
   "source": [
    "mdf.head()"
   ]
  },
  {
   "cell_type": "code",
   "execution_count": 12,
   "metadata": {},
   "outputs": [
    {
     "data": {
      "text/plain": [
       "1    1496\n",
       "5    1487\n",
       "4     868\n",
       "3     832\n",
       "2     552\n",
       "Name: satisfaction, dtype: int64"
      ]
     },
     "execution_count": 12,
     "metadata": {},
     "output_type": "execute_result"
    }
   ],
   "source": [
    "mdf['satisfaction'].value_counts()"
   ]
  },
  {
   "cell_type": "code",
   "execution_count": 15,
   "metadata": {},
   "outputs": [
    {
     "data": {
      "text/plain": [
       "easeofuse             int64\n",
       "effectiveness         int64\n",
       "helpful               int64\n",
       "satisfaction          int64\n",
       "patient               int64\n",
       "caregiver             int64\n",
       "male                  int64\n",
       "female                int64\n",
       "treatment_period_1    int64\n",
       "treatment_period_2    int64\n",
       "treatment_period_3    int64\n",
       "treatment_period_4    int64\n",
       "treatment_period_5    int64\n",
       "treatment_period_6    int64\n",
       "treatment_period_7    int64\n",
       "age_group_1           int64\n",
       "age_group_2           int64\n",
       "age_group_3           int64\n",
       "age_group_4           int64\n",
       "age_group_5           int64\n",
       "age_group_6           int64\n",
       "age_group_7           int64\n",
       "dtype: object"
      ]
     },
     "execution_count": 15,
     "metadata": {},
     "output_type": "execute_result"
    }
   ],
   "source": [
    "mdf.dtypes"
   ]
  },
  {
   "cell_type": "code",
   "execution_count": 16,
   "metadata": {},
   "outputs": [],
   "source": [
    "mdf.dropna(inplace = True)"
   ]
  },
  {
   "cell_type": "code",
   "execution_count": 17,
   "metadata": {},
   "outputs": [],
   "source": [
    "X = mdf.drop(columns = 'satisfaction', axis = 1)\n",
    "y = mdf['satisfaction']"
   ]
  },
  {
   "cell_type": "code",
   "execution_count": 18,
   "metadata": {},
   "outputs": [],
   "source": [
    "X_train, X_test, y_train, y_test = train_test_split(X,\n",
    "                                                    y,\n",
    "                                                    test_size=0.15,\n",
    "                                                    stratify=y,\n",
    "                                                    random_state=42)"
   ]
  },
  {
   "cell_type": "code",
   "execution_count": 19,
   "metadata": {},
   "outputs": [],
   "source": [
    "# Scale data\n",
    "\n",
    "ss = StandardScaler()\n",
    "\n",
    "X_train_sc = ss.fit_transform(X_train)\n",
    "X_test_sc = ss.transform(X_test)\n"
   ]
  },
  {
   "cell_type": "code",
   "execution_count": 20,
   "metadata": {},
   "outputs": [],
   "source": [
    "rfc = RandomForestClassifier()"
   ]
  },
  {
   "cell_type": "code",
   "execution_count": 21,
   "metadata": {},
   "outputs": [
    {
     "data": {
      "text/plain": [
       "RandomForestClassifier()"
      ]
     },
     "execution_count": 21,
     "metadata": {},
     "output_type": "execute_result"
    }
   ],
   "source": [
    "rfc.fit(X_train_sc, y_train)"
   ]
  },
  {
   "cell_type": "code",
   "execution_count": 22,
   "metadata": {},
   "outputs": [
    {
     "data": {
      "text/plain": [
       "(0.8503034389750506, 0.5788804071246819)"
      ]
     },
     "execution_count": 22,
     "metadata": {},
     "output_type": "execute_result"
    }
   ],
   "source": [
    "rfc.score(X_train_sc, y_train), rfc.score(X_test_sc, y_test)"
   ]
  },
  {
   "cell_type": "code",
   "execution_count": 23,
   "metadata": {},
   "outputs": [],
   "source": [
    "rfc_predict = rfc.predict(X_test_sc)"
   ]
  },
  {
   "cell_type": "code",
   "execution_count": 24,
   "metadata": {},
   "outputs": [
    {
     "name": "stdout",
     "output_type": "stream",
     "text": [
      "Fitting 3 folds for each of 500 candidates, totalling 1500 fits\n"
     ]
    }
   ],
   "source": [
    "n_estimators = [100, 300, 500, 800, 1200]\n",
    "max_depth = [5, 8, 15, 25, 30]\n",
    "min_samples_split = [2, 5, 10, 15, 100]\n",
    "min_samples_leaf = [1, 2, 5, 10] \n",
    "\n",
    "hyperF = dict(n_estimators = n_estimators, max_depth = max_depth,  \n",
    "              min_samples_split = min_samples_split, \n",
    "             min_samples_leaf = min_samples_leaf)\n",
    "\n",
    "gridF = GridSearchCV(rfc, hyperF, cv = 3, verbose = 1, \n",
    "                      n_jobs = -1)\n",
    "bestF = gridF.fit(X_train_sc, y_train)\n"
   ]
  },
  {
   "cell_type": "code",
   "execution_count": 25,
   "metadata": {},
   "outputs": [
    {
     "data": {
      "text/plain": [
       "GridSearchCV(cv=3, estimator=RandomForestClassifier(), n_jobs=-1,\n",
       "             param_grid={'max_depth': [5, 8, 15, 25, 30],\n",
       "                         'min_samples_leaf': [1, 2, 5, 10],\n",
       "                         'min_samples_split': [2, 5, 10, 15, 100],\n",
       "                         'n_estimators': [100, 300, 500, 800, 1200]},\n",
       "             verbose=1)"
      ]
     },
     "execution_count": 25,
     "metadata": {},
     "output_type": "execute_result"
    }
   ],
   "source": [
    "bestF"
   ]
  },
  {
   "cell_type": "code",
   "execution_count": 26,
   "metadata": {},
   "outputs": [
    {
     "data": {
      "text/plain": [
       "(0.6758822207237581, 0.6475826972010178)"
      ]
     },
     "execution_count": 26,
     "metadata": {},
     "output_type": "execute_result"
    }
   ],
   "source": [
    "gridF.score(X_train_sc, y_train), gridF.score(X_test_sc, y_test)"
   ]
  },
  {
   "cell_type": "code",
   "execution_count": 35,
   "metadata": {},
   "outputs": [],
   "source": [
    "mnb = MultinomialNB()"
   ]
  },
  {
   "cell_type": "code",
   "execution_count": 36,
   "metadata": {},
   "outputs": [],
   "source": [
    "# Scale data\n",
    "\n",
    "mms = MinMaxScaler()\n",
    "\n",
    "X_train_sc = mms.fit_transform(X_train)\n",
    "X_test_sc = mms.transform(X_test)"
   ]
  },
  {
   "cell_type": "code",
   "execution_count": 37,
   "metadata": {},
   "outputs": [
    {
     "data": {
      "text/plain": [
       "MultinomialNB()"
      ]
     },
     "execution_count": 37,
     "metadata": {},
     "output_type": "execute_result"
    }
   ],
   "source": [
    "mnb.fit(X_train_sc, y_train)"
   ]
  },
  {
   "cell_type": "code",
   "execution_count": 38,
   "metadata": {},
   "outputs": [
    {
     "data": {
      "text/plain": [
       "(0.47156664418970556, 0.4643765903307888)"
      ]
     },
     "execution_count": 38,
     "metadata": {},
     "output_type": "execute_result"
    }
   ],
   "source": [
    "mnb.score(X_train_sc, y_train), mnb.score(X_test_sc, y_test)"
   ]
  },
  {
   "cell_type": "code",
   "execution_count": 39,
   "metadata": {},
   "outputs": [],
   "source": [
    "import os\n",
    "os.environ['TF_CPP_MIN_LOG_LEVEL'] = '2'"
   ]
  },
  {
   "cell_type": "code",
   "execution_count": 40,
   "metadata": {},
   "outputs": [],
   "source": [
    "from sklearn.ensemble import GradientBoostingClassifier\n",
    "from sklearn.model_selection import GridSearchCV "
   ]
  },
  {
   "cell_type": "code",
   "execution_count": 41,
   "metadata": {},
   "outputs": [],
   "source": [
    "gbc = GradientBoostingClassifier()\n",
    "params = {\n",
    "    \"n_estimators\":[250,500],\n",
    "    \"max_depth\":[3,5,7],\n",
    "    \"learning_rate\":[0.01,0.1,1]\n",
    "}"
   ]
  },
  {
   "cell_type": "markdown",
   "metadata": {},
   "source": [
    "take 24m 18.1s to run"
   ]
  },
  {
   "cell_type": "code",
   "execution_count": 42,
   "metadata": {},
   "outputs": [
    {
     "data": {
      "text/plain": [
       "GridSearchCV(cv=5, estimator=GradientBoostingClassifier(),\n",
       "             param_grid={'learning_rate': [0.01, 0.1, 1],\n",
       "                         'max_depth': [3, 5, 7], 'n_estimators': [250, 500]})"
      ]
     },
     "execution_count": 42,
     "metadata": {},
     "output_type": "execute_result"
    }
   ],
   "source": [
    "cv = GridSearchCV(gbc, params, cv=5)\n",
    "cv.fit(X_train_sc,y_train)"
   ]
  },
  {
   "cell_type": "code",
   "execution_count": 43,
   "metadata": {},
   "outputs": [],
   "source": [
    "def display(results):\n",
    "    print(f'Best parameters are: {results.best_params_}')\n",
    "    print(\"\\n\")\n",
    "    mean_score = results.cv_results_['mean_test_score']\n",
    "    std_score = results.cv_results_['std_test_score']\n",
    "    params = results.cv_results_['params']\n",
    "    for mean,std,params in zip(mean_score,std_score,params):\n",
    "        print(f'{round(mean,3)} + or -{round(std,3)} for the {params}')"
   ]
  },
  {
   "cell_type": "code",
   "execution_count": 44,
   "metadata": {},
   "outputs": [
    {
     "name": "stdout",
     "output_type": "stream",
     "text": [
      "Best parameters are: {'learning_rate': 0.01, 'max_depth': 3, 'n_estimators': 500}\n",
      "\n",
      "\n",
      "0.663 + or -0.016 for the {'learning_rate': 0.01, 'max_depth': 3, 'n_estimators': 250}\n",
      "0.663 + or -0.017 for the {'learning_rate': 0.01, 'max_depth': 3, 'n_estimators': 500}\n",
      "0.659 + or -0.019 for the {'learning_rate': 0.01, 'max_depth': 5, 'n_estimators': 250}\n",
      "0.647 + or -0.015 for the {'learning_rate': 0.01, 'max_depth': 5, 'n_estimators': 500}\n",
      "0.639 + or -0.013 for the {'learning_rate': 0.01, 'max_depth': 7, 'n_estimators': 250}\n",
      "0.624 + or -0.009 for the {'learning_rate': 0.01, 'max_depth': 7, 'n_estimators': 500}\n",
      "0.646 + or -0.02 for the {'learning_rate': 0.1, 'max_depth': 3, 'n_estimators': 250}\n",
      "0.637 + or -0.016 for the {'learning_rate': 0.1, 'max_depth': 3, 'n_estimators': 500}\n",
      "0.614 + or -0.01 for the {'learning_rate': 0.1, 'max_depth': 5, 'n_estimators': 250}\n",
      "0.592 + or -0.01 for the {'learning_rate': 0.1, 'max_depth': 5, 'n_estimators': 500}\n",
      "0.585 + or -0.013 for the {'learning_rate': 0.1, 'max_depth': 7, 'n_estimators': 250}\n",
      "0.581 + or -0.009 for the {'learning_rate': 0.1, 'max_depth': 7, 'n_estimators': 500}\n",
      "0.6 + or -0.008 for the {'learning_rate': 1, 'max_depth': 3, 'n_estimators': 250}\n",
      "0.572 + or -0.049 for the {'learning_rate': 1, 'max_depth': 3, 'n_estimators': 500}\n",
      "0.501 + or -0.031 for the {'learning_rate': 1, 'max_depth': 5, 'n_estimators': 250}\n",
      "0.537 + or -0.04 for the {'learning_rate': 1, 'max_depth': 5, 'n_estimators': 500}\n",
      "0.304 + or -0.07 for the {'learning_rate': 1, 'max_depth': 7, 'n_estimators': 250}\n",
      "0.418 + or -0.112 for the {'learning_rate': 1, 'max_depth': 7, 'n_estimators': 500}\n"
     ]
    }
   ],
   "source": [
    "display(cv)"
   ]
  },
  {
   "cell_type": "code",
   "execution_count": 45,
   "metadata": {},
   "outputs": [
    {
     "name": "stdout",
     "output_type": "stream",
     "text": [
      "              precision    recall  f1-score   support\n",
      "\n",
      "           1       0.78      0.78      0.78       225\n",
      "           2       0.42      0.06      0.11        83\n",
      "           3       0.45      0.56      0.50       125\n",
      "           4       0.49      0.59      0.54       130\n",
      "           5       0.81      0.87      0.84       223\n",
      "\n",
      "    accuracy                           0.66       786\n",
      "   macro avg       0.59      0.57      0.55       786\n",
      "weighted avg       0.65      0.66      0.64       786\n",
      "\n"
     ]
    }
   ],
   "source": [
    "print(classification_report(y_test,cv.predict(X_test_sc)))"
   ]
  },
  {
   "cell_type": "code",
   "execution_count": 46,
   "metadata": {},
   "outputs": [
    {
     "data": {
      "text/plain": [
       "(0.6767812991683524, 0.6628498727735369)"
      ]
     },
     "execution_count": 46,
     "metadata": {},
     "output_type": "execute_result"
    }
   ],
   "source": [
    "cv.score(X_train_sc, y_train), cv.score(X_test_sc, y_test)"
   ]
  }
 ],
 "metadata": {
  "interpreter": {
   "hash": "aee8b7b246df8f9039afb4144a1f6fd8d2ca17a180786b69acc140d282b71a49"
  },
  "kernelspec": {
   "display_name": "Python 3.10.2 64-bit",
   "language": "python",
   "name": "python3"
  },
  "language_info": {
   "codemirror_mode": {
    "name": "ipython",
    "version": 3
   },
   "file_extension": ".py",
   "mimetype": "text/x-python",
   "name": "python",
   "nbconvert_exporter": "python",
   "pygments_lexer": "ipython3",
   "version": "3.9.7"
  },
  "orig_nbformat": 4
 },
 "nbformat": 4,
 "nbformat_minor": 2
}
