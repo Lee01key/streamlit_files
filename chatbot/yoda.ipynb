{
 "cells": [
  {
   "cell_type": "code",
   "execution_count": 1,
   "metadata": {},
   "outputs": [],
   "source": [
    "import chatterbot\n",
    "from chatterbot import ChatBot\n",
    "from chatterbot.logic import LogicAdapter, BestMatch\n",
    "from chatterbot.trainers import ChatterBotCorpusTrainer\n",
    "import os\n",
    "import streamlit as st"
   ]
  },
  {
   "cell_type": "code",
   "execution_count": 2,
   "metadata": {},
   "outputs": [
    {
     "name": "stderr",
     "output_type": "stream",
     "text": [
      "[nltk_data] Downloading package averaged_perceptron_tagger to\n",
      "[nltk_data]     /Users/onekey/nltk_data...\n",
      "[nltk_data]   Package averaged_perceptron_tagger is already up-to-\n",
      "[nltk_data]       date!\n",
      "[nltk_data] Downloading package punkt to /Users/onekey/nltk_data...\n",
      "[nltk_data]   Package punkt is already up-to-date!\n",
      "[nltk_data] Downloading package stopwords to\n",
      "[nltk_data]     /Users/onekey/nltk_data...\n",
      "[nltk_data]   Package stopwords is already up-to-date!\n"
     ]
    }
   ],
   "source": [
    "yoda = ChatBot('yoda')"
   ]
  },
  {
   "cell_type": "code",
   "execution_count": 3,
   "metadata": {},
   "outputs": [
    {
     "name": "stderr",
     "output_type": "stream",
     "text": [
      "[nltk_data] Downloading package averaged_perceptron_tagger to\n",
      "[nltk_data]     /Users/onekey/nltk_data...\n",
      "[nltk_data]   Package averaged_perceptron_tagger is already up-to-\n",
      "[nltk_data]       date!\n",
      "[nltk_data] Downloading package punkt to /Users/onekey/nltk_data...\n",
      "[nltk_data]   Package punkt is already up-to-date!\n",
      "[nltk_data] Downloading package stopwords to\n",
      "[nltk_data]     /Users/onekey/nltk_data...\n",
      "[nltk_data]   Package stopwords is already up-to-date!\n"
     ]
    }
   ],
   "source": [
    "yoda = ChatBot(\n",
    "    'pops',\n",
    "    \n",
    "    storage_adapter='chatterbot.storage.SQLStorageAdapter',\n",
    "    \n",
    "    database_uri='sqlite:///database.sqlite3',\n",
    "    \n",
    "    preprocessors=[\n",
    "        'chatterbot.preprocessors.clean_whitespace',\n",
    "        'chatterbot.preprocessors.unescape_html',\n",
    "        'chatterbot.preprocessors.convert_to_ascii'\n",
    "    ],\n",
    "    \n",
    "     logic_adapters=[\n",
    "        {\n",
    "\n",
    "            'import_path': 'chatterbot.logic.BestMatch',\n",
    "            'default_response': 'I am sorry, but I do not understand.',\n",
    "            'maximum_similarity_threshold': 0.90,\n",
    "            'statement_comparison_function': 'chatterbot.comparisons.LevenshteinDistance',\n",
    "            \n",
    "        }\n",
    "    ]\n",
    "     \n",
    ")"
   ]
  },
  {
   "cell_type": "code",
   "execution_count": 4,
   "metadata": {},
   "outputs": [
    {
     "name": "stdout",
     "output_type": "stream",
     "text": [
      "List Trainer: [####################] 100%\n"
     ]
    }
   ],
   "source": [
    "from chatterbot.trainers import ListTrainer\n",
    "\n",
    "trainer = ListTrainer(yoda)\n",
    "\n",
    "trainer.train([\n",
    "\n",
    "    'What can you do?',\n",
    "    'I will help you with diabetes',\n",
    "    \n",
    "    'What is diabetes?',\n",
    "    'Diabetes is a disease in which blood glucose (sugar) levels are above normal. Plant foods which are mostly sugars and starches (carbohydrates) are turned into glucose, or sugar, for our bodies to use for energy. The pancreas, an organ that lies near the stomach, makes a hormone called insulin to help glucose get into the cells of our bodies. When you have diabetes, your body either does not make enough insulin or cannot use its own insulin as well as it should. This causes sugar to build up in your blood. Diabetes can cause serious health complications including heart disease, blindness, kidney failure, and lower-extremity amputations. Diabetes is the 6th leading cause of death in the United States.',\n",
    "    \n",
    "    'What are the types of diabetes?',\n",
    "    'There are three. Type 1 diabetes, Type 2 diabetes, and Gestational diabetes.',\n",
    "    \n",
    "    'What is prediabetes?',\n",
    "    'A person with prediabetes has a blood sugar level higher than normal, but not high enough for a diagnosis of diabetes. He or she is at higher risk for developing type 2 diabetes and other serious health problems, including heart disease, and stroke. Without lifestyle changes to improve their health, 15% to 30% of people with prediabetes will develop type 2 diabetes within five years.'\n",
    "    \n",
    "\n",
    "])"
   ]
  },
  {
   "cell_type": "code",
   "execution_count": 5,
   "metadata": {},
   "outputs": [
    {
     "name": "stderr",
     "output_type": "stream",
     "text": [
      "2022-04-18 15:35:38.242 \n",
      "  \u001b[33m\u001b[1mWarning:\u001b[0m to view this Streamlit app on a browser, run it with the following\n",
      "  command:\n",
      "\n",
      "    streamlit run /Users/onekey/opt/anaconda3/lib/python3.9/site-packages/ipykernel_launcher.py [ARGUMENTS]\n",
      "2022-04-18 15:35:44.872 Beginning search for close text match\n",
      "2022-04-18 15:35:44.873 Processing search results\n",
      "2022-04-18 15:35:44.877 Using \"Wonki\" as a close match to \"Wonki\" with a confidence of 0\n",
      "2022-04-18 15:35:44.890 No responses found. Generating alternate response list.\n",
      "2022-04-18 15:35:44.893 No known response to the input was found. Selecting a random response.\n",
      "2022-04-18 15:35:44.894 BestMatch selected \"I am sorry, but I do not understand.\" as a response with a confidence of 0\n",
      "2022-04-18 15:35:44.907 Adding \"Wonki\" as a response to \"Bue\"\n"
     ]
    },
    {
     "name": "stdout",
     "output_type": "stream",
     "text": [
      "Bot: I am sorry, but I do not understand.\n"
     ]
    },
    {
     "name": "stderr",
     "output_type": "stream",
     "text": [
      "2022-04-18 15:35:48.769 Beginning search for close text match\n",
      "2022-04-18 15:35:48.770 Processing search results\n",
      "2022-04-18 15:35:48.774 Similar text found: What is diabetes? 1.0\n",
      "2022-04-18 15:35:48.779 Using \"What is diabetes?\" as a close match to \"What is diabetes?\" with a confidence of 1.0\n",
      "2022-04-18 15:35:48.790 0. Excluding recent repeated response of \"I am sorry, but I do not understand.\"\n",
      "2022-04-18 15:35:48.796 Selecting response from 4 optimal responses.\n",
      "2022-04-18 15:35:48.797 Selecting first response from list of 4 options.\n",
      "2022-04-18 15:35:48.798 Response selected. Using \"Diabetes is a disease in which blood glucose (sugar) levels are above normal. Plant foods which are mostly sugars and starches (carbohydrates) are turned into glucose, or sugar, for our bodies to use for energy. The pancreas, an organ that lies near the stomach, makes a hormone called insulin to help glucose get into the cells of our bodies. When you have diabetes, your body either does not make enough insulin or cannot use its own insulin as well as it should. This causes sugar to build up in your blood. Diabetes can cause serious health complications including heart disease, blindness, kidney failure, and lower-extremity amputations. Diabetes is the 6th leading cause of death in the United States.\"\n",
      "2022-04-18 15:35:48.799 BestMatch selected \"Diabetes is a disease in which blood glucose (sugar) levels are above normal. Plant foods which are mostly sugars and starches (carbohydrates) are turned into glucose, or sugar, for our bodies to use for energy. The pancreas, an organ that lies near the stomach, makes a hormone called insulin to help glucose get into the cells of our bodies. When you have diabetes, your body either does not make enough insulin or cannot use its own insulin as well as it should. This causes sugar to build up in your blood. Diabetes can cause serious health complications including heart disease, blindness, kidney failure, and lower-extremity amputations. Diabetes is the 6th leading cause of death in the United States.\" as a response with a confidence of 1.0\n",
      "2022-04-18 15:35:48.814 Adding \"What is diabetes?\" as a response to \"Wonki\"\n"
     ]
    },
    {
     "name": "stdout",
     "output_type": "stream",
     "text": [
      "Bot: Diabetes is a disease in which blood glucose (sugar) levels are above normal. Plant foods which are mostly sugars and starches (carbohydrates) are turned into glucose, or sugar, for our bodies to use for energy. The pancreas, an organ that lies near the stomach, makes a hormone called insulin to help glucose get into the cells of our bodies. When you have diabetes, your body either does not make enough insulin or cannot use its own insulin as well as it should. This causes sugar to build up in your blood. Diabetes can cause serious health complications including heart disease, blindness, kidney failure, and lower-extremity amputations. Diabetes is the 6th leading cause of death in the United States.\n",
      "Bot: Bye\n"
     ]
    }
   ],
   "source": [
    "name= input(\"Enter Your Name: \")\n",
    "\n",
    "while True:\n",
    "    request=input(name+':')\n",
    "    if request=='Bye' or request =='bye':\n",
    "        print('Bot: Bye')\n",
    "        break\n",
    "    else:\n",
    "        response=yoda.get_response(request)\n",
    "        print('Bot:',response)"
   ]
  },
  {
   "cell_type": "code",
   "execution_count": null,
   "metadata": {},
   "outputs": [],
   "source": []
  }
 ],
 "metadata": {
  "interpreter": {
   "hash": "aee8b7b246df8f9039afb4144a1f6fd8d2ca17a180786b69acc140d282b71a49"
  },
  "kernelspec": {
   "display_name": "Python 3.10.2 64-bit",
   "language": "python",
   "name": "python3"
  },
  "language_info": {
   "codemirror_mode": {
    "name": "ipython",
    "version": 3
   },
   "file_extension": ".py",
   "mimetype": "text/x-python",
   "name": "python",
   "nbconvert_exporter": "python",
   "pygments_lexer": "ipython3",
   "version": "3.9.7"
  },
  "orig_nbformat": 4
 },
 "nbformat": 4,
 "nbformat_minor": 2
}
