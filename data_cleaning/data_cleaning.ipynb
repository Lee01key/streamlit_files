{
 "cells": [
  {
   "cell_type": "markdown",
   "metadata": {},
   "source": [
    "# Data Cleaning _ Reviewer Profile"
   ]
  },
  {
   "cell_type": "markdown",
   "metadata": {},
   "source": [
    "## Import Libraries"
   ]
  },
  {
   "cell_type": "code",
   "execution_count": 1,
   "metadata": {},
   "outputs": [],
   "source": [
    "import pandas as pd\n",
    "import re\n",
    "import seaborn as sns\n",
    "import matplotlib.pyplot as plt\n",
    "import numpy as np"
   ]
  },
  {
   "cell_type": "code",
   "execution_count": 3,
   "metadata": {},
   "outputs": [],
   "source": [
    "df = pd.read_csv('../data/original/webmd_reviews2.csv')"
   ]
  },
  {
   "cell_type": "code",
   "execution_count": 4,
   "metadata": {},
   "outputs": [
    {
     "data": {
      "text/html": [
       "<div>\n",
       "<style scoped>\n",
       "    .dataframe tbody tr th:only-of-type {\n",
       "        vertical-align: middle;\n",
       "    }\n",
       "\n",
       "    .dataframe tbody tr th {\n",
       "        vertical-align: top;\n",
       "    }\n",
       "\n",
       "    .dataframe thead th {\n",
       "        text-align: right;\n",
       "    }\n",
       "</style>\n",
       "<table border=\"1\" class=\"dataframe\">\n",
       "  <thead>\n",
       "    <tr style=\"text-align: right;\">\n",
       "      <th></th>\n",
       "      <th>Rdate</th>\n",
       "      <th>comment</th>\n",
       "      <th>condition</th>\n",
       "      <th>drug</th>\n",
       "      <th>easeofuse</th>\n",
       "      <th>effectiveness</th>\n",
       "      <th>helpful</th>\n",
       "      <th>reviewer</th>\n",
       "      <th>satisfaction</th>\n",
       "    </tr>\n",
       "  </thead>\n",
       "  <tbody>\n",
       "    <tr>\n",
       "      <th>0</th>\n",
       "      <td>9/19/2007 9:03:53 AM</td>\n",
       "      <td>The medication has helped me keep my 2 month s...</td>\n",
       "      <td>Type 2 Diabetes Mellitus</td>\n",
       "      <td>metformin oral</td>\n",
       "      <td>5</td>\n",
       "      <td>4</td>\n",
       "      <td>22</td>\n",
       "      <td>bjorn, 65-74 Male  on Treatment for 2 to less ...</td>\n",
       "      <td>3</td>\n",
       "    </tr>\n",
       "    <tr>\n",
       "      <th>1</th>\n",
       "      <td>9/18/2007 11:18:23 AM</td>\n",
       "      <td>The medication has helped me keep my 2 month s...</td>\n",
       "      <td>Type 2 Diabetes Mellitus</td>\n",
       "      <td>metformin oral</td>\n",
       "      <td>5</td>\n",
       "      <td>4</td>\n",
       "      <td>22</td>\n",
       "      <td>cutie54, 45-54 Female  on Treatment for 1 to 6...</td>\n",
       "      <td>5</td>\n",
       "    </tr>\n",
       "    <tr>\n",
       "      <th>2</th>\n",
       "      <td>3/2/2015 7:26:37 PM</td>\n",
       "      <td>I have been taking Tanzeum for four weeks and ...</td>\n",
       "      <td>Type 2 Diabetes Mellitus</td>\n",
       "      <td>Tanzeum subcutaneous</td>\n",
       "      <td>5</td>\n",
       "      <td>5</td>\n",
       "      <td>15</td>\n",
       "      <td>65-74 Female  on Treatment for 1 to 6 months (...</td>\n",
       "      <td>5</td>\n",
       "    </tr>\n",
       "    <tr>\n",
       "      <th>3</th>\n",
       "      <td>1/4/2015 6:47:30 AM</td>\n",
       "      <td>I have been taking Tanzeum for four weeks and ...</td>\n",
       "      <td>Type 2 Diabetes Mellitus</td>\n",
       "      <td>Tanzeum subcutaneous</td>\n",
       "      <td>4</td>\n",
       "      <td>2</td>\n",
       "      <td>15</td>\n",
       "      <td>MarkW, 65-74 Male  on Treatment for 1 to 6 mon...</td>\n",
       "      <td>1</td>\n",
       "    </tr>\n",
       "    <tr>\n",
       "      <th>4</th>\n",
       "      <td>10/20/2014 3:13:21 PM</td>\n",
       "      <td>I have been taking Tanzeum for four weeks and ...</td>\n",
       "      <td>Type 2 Diabetes Mellitus</td>\n",
       "      <td>Tanzeum subcutaneous</td>\n",
       "      <td>5</td>\n",
       "      <td>5</td>\n",
       "      <td>15</td>\n",
       "      <td>Les, 55-64 Female  (Patient)</td>\n",
       "      <td>5</td>\n",
       "    </tr>\n",
       "  </tbody>\n",
       "</table>\n",
       "</div>"
      ],
      "text/plain": [
       "                   Rdate                                            comment  \\\n",
       "0   9/19/2007 9:03:53 AM  The medication has helped me keep my 2 month s...   \n",
       "1  9/18/2007 11:18:23 AM  The medication has helped me keep my 2 month s...   \n",
       "2    3/2/2015 7:26:37 PM  I have been taking Tanzeum for four weeks and ...   \n",
       "3    1/4/2015 6:47:30 AM  I have been taking Tanzeum for four weeks and ...   \n",
       "4  10/20/2014 3:13:21 PM  I have been taking Tanzeum for four weeks and ...   \n",
       "\n",
       "                  condition                  drug  easeofuse  effectiveness  \\\n",
       "0  Type 2 Diabetes Mellitus        metformin oral          5              4   \n",
       "1  Type 2 Diabetes Mellitus        metformin oral          5              4   \n",
       "2  Type 2 Diabetes Mellitus  Tanzeum subcutaneous          5              5   \n",
       "3  Type 2 Diabetes Mellitus  Tanzeum subcutaneous          4              2   \n",
       "4  Type 2 Diabetes Mellitus  Tanzeum subcutaneous          5              5   \n",
       "\n",
       "   helpful                                           reviewer  satisfaction  \n",
       "0       22  bjorn, 65-74 Male  on Treatment for 2 to less ...             3  \n",
       "1       22  cutie54, 45-54 Female  on Treatment for 1 to 6...             5  \n",
       "2       15  65-74 Female  on Treatment for 1 to 6 months (...             5  \n",
       "3       15  MarkW, 65-74 Male  on Treatment for 1 to 6 mon...             1  \n",
       "4       15                       Les, 55-64 Female  (Patient)             5  "
      ]
     },
     "execution_count": 4,
     "metadata": {},
     "output_type": "execute_result"
    }
   ],
   "source": [
    "df.head()"
   ]
  },
  {
   "cell_type": "markdown",
   "metadata": {},
   "source": [
    "## Check Missing Data"
   ]
  },
  {
   "cell_type": "code",
   "execution_count": 5,
   "metadata": {},
   "outputs": [
    {
     "data": {
      "text/plain": [
       "Rdate              0\n",
       "comment            9\n",
       "condition          0\n",
       "drug               0\n",
       "easeofuse          0\n",
       "effectiveness      0\n",
       "helpful            0\n",
       "reviewer         253\n",
       "satisfaction       0\n",
       "dtype: int64"
      ]
     },
     "execution_count": 5,
     "metadata": {},
     "output_type": "execute_result"
    }
   ],
   "source": [
    "df.isnull().sum()"
   ]
  },
  {
   "cell_type": "markdown",
   "metadata": {},
   "source": [
    "## Extract Information from `reviewer` column\n",
    "\n",
    "In this section, I could find meaningful categorical variables: 'id', 'age group', 'gender', 'treatment period', and 'reviewer status - either patient or caregiver'. Considering that we will one-hot-encode or dummify categorical variables, I created separate columns for each category.\n",
    "\n",
    "**1.  reviewer status:**\n",
    "  - patient\n",
    "  - caregiver \n",
    "  \n",
    "\n",
    "\n",
    "**2.  gender:**\n",
    "  - male\n",
    "  - female\n",
    "\n",
    "**3.  treatment period:**\n",
    "  - less than 1 month\n",
    "  - 1 to 6 months\n",
    "  - 6 months to less than 1 year\n",
    "  - 1 to less than 2 years\n",
    "  - 2 to less than 5 years\n",
    "  - 5 to less than 10 years\n",
    "  - 10 years or more\n",
    "\n",
    "**4.  age group:**\n",
    "  - 19-24\n",
    "  - 25-34\n",
    "  - 35-44\n",
    "  - 45-54\n",
    "  - 55-64\n",
    "  - 65-74\n",
    "  - 75+"
   ]
  },
  {
   "cell_type": "code",
   "execution_count": 6,
   "metadata": {},
   "outputs": [
    {
     "name": "stdout",
     "output_type": "stream",
     "text": [
      "cutie54, 45-54 Female  on Treatment for 1 to 6 months (Patient)\n"
     ]
    }
   ],
   "source": [
    "print(df['reviewer'][1])"
   ]
  },
  {
   "cell_type": "code",
   "execution_count": 7,
   "metadata": {},
   "outputs": [],
   "source": [
    "reviewer_profile = df['reviewer']"
   ]
  },
  {
   "cell_type": "code",
   "execution_count": 8,
   "metadata": {},
   "outputs": [
    {
     "data": {
      "text/plain": [
       "'bjorn, 65-74 Male  on Treatment for 2 to less than 5 years (Patient)'"
      ]
     },
     "execution_count": 8,
     "metadata": {},
     "output_type": "execute_result"
    }
   ],
   "source": [
    "reviewer_profile[0]"
   ]
  },
  {
   "cell_type": "code",
   "execution_count": 9,
   "metadata": {},
   "outputs": [
    {
     "data": {
      "text/plain": [
       "0       bjorn, 65-74 Male  on Treatment for 2 to less ...\n",
       "1       cutie54, 45-54 Female  on Treatment for 1 to 6...\n",
       "2       65-74 Female  on Treatment for 1 to 6 months (...\n",
       "3       MarkW, 65-74 Male  on Treatment for 1 to 6 mon...\n",
       "4                            Les, 55-64 Female  (Patient)\n",
       "                              ...                        \n",
       "5490    Dee1956, 55-64 Female  on Treatment for 1 to 6...\n",
       "5491    Richard, 75 or over Male  on Treatment for 6 m...\n",
       "5492    jodo, 75 or over Female  on Treatment for 10 y...\n",
       "5493    Buggyducjk, 75 or over Male  on Treatment for ...\n",
       "5494    75 or over Female  on Treatment for 10 years o...\n",
       "Name: reviewer, Length: 5495, dtype: object"
      ]
     },
     "execution_count": 9,
     "metadata": {},
     "output_type": "execute_result"
    }
   ],
   "source": [
    "reviewer_profile"
   ]
  },
  {
   "cell_type": "markdown",
   "metadata": {},
   "source": [
    "**Note**\n",
    "\n",
    "In this section, I could find meaningful categorical variables: 'id', 'age group', 'gender', 'treatment period', and 'reviewer status - either patient or caregiver'. Considering that we will one-hot-encode or dummify categorical variables, I created separate columns for each category.\n",
    "\n",
    "**1.  reviewer status:**\n",
    "  - patient\n",
    "  - caregiver \n",
    "  \n",
    "\n",
    "\n",
    "**2.  gender:**\n",
    "  - male\n",
    "  - female\n",
    "\n",
    "**3.  treatment period:**\n",
    "  - less than 1 month\n",
    "  - 1 to 6 months\n",
    "  - 6 months to less than 1 year\n",
    "  - 1 to less than 2 years\n",
    "  - 2 to less than 5 years\n",
    "  - 5 to less than 10 years\n",
    "  - 10 years or more\n",
    "\n",
    "**4.  age group:**\n",
    "  - 19-24\n",
    "  - 25-34\n",
    "  - 35-44\n",
    "  - 45-54\n",
    "  - 55-64\n",
    "  - 65-74\n",
    "  - 75+"
   ]
  },
  {
   "cell_type": "markdown",
   "metadata": {},
   "source": [
    "### 1. Reviewer status\n",
    "\n",
    "Reviewers were either `patient` or `caregiver`. "
   ]
  },
  {
   "cell_type": "markdown",
   "metadata": {},
   "source": [
    "#### `Patient`"
   ]
  },
  {
   "cell_type": "markdown",
   "metadata": {},
   "source": [
    "##### Extract string `Patient` from reviewer string."
   ]
  },
  {
   "cell_type": "code",
   "execution_count": 10,
   "metadata": {},
   "outputs": [
    {
     "data": {
      "text/plain": [
       "Patient           5026\n",
       "                   215\n",
       "PatientPatient       1\n",
       "Name: patient, dtype: int64"
      ]
     },
     "execution_count": 10,
     "metadata": {},
     "output_type": "execute_result"
    }
   ],
   "source": [
    "df['patient'] = df['reviewer'].str.findall('Patient').str.join('')\n",
    "df['patient'].value_counts()"
   ]
  },
  {
   "cell_type": "markdown",
   "metadata": {},
   "source": [
    "Change 'PatientPatient' into 'Patient'"
   ]
  },
  {
   "cell_type": "code",
   "execution_count": 11,
   "metadata": {},
   "outputs": [],
   "source": [
    "df.loc[df['patient'] == 'PatientPatient', 'patient'] = 'Patient'"
   ]
  },
  {
   "cell_type": "code",
   "execution_count": 12,
   "metadata": {},
   "outputs": [
    {
     "data": {
      "text/plain": [
       "Patient    5027\n",
       "            215\n",
       "Name: patient, dtype: int64"
      ]
     },
     "execution_count": 12,
     "metadata": {},
     "output_type": "execute_result"
    }
   ],
   "source": [
    "df['patient'].value_counts()"
   ]
  },
  {
   "cell_type": "markdown",
   "metadata": {},
   "source": [
    "Encode `Patient` as 1, else as 0."
   ]
  },
  {
   "cell_type": "code",
   "execution_count": 13,
   "metadata": {},
   "outputs": [],
   "source": [
    "df['patient'] = np.where(df['patient'] == 'Patient', 1, 0)"
   ]
  },
  {
   "cell_type": "code",
   "execution_count": 14,
   "metadata": {},
   "outputs": [
    {
     "data": {
      "text/plain": [
       "1    5027\n",
       "0     468\n",
       "Name: patient, dtype: int64"
      ]
     },
     "execution_count": 14,
     "metadata": {},
     "output_type": "execute_result"
    }
   ],
   "source": [
    "df['patient'].value_counts()"
   ]
  },
  {
   "cell_type": "markdown",
   "metadata": {},
   "source": [
    "#### `Caregiver`"
   ]
  },
  {
   "cell_type": "code",
   "execution_count": 15,
   "metadata": {},
   "outputs": [],
   "source": [
    "df['caregiver'] = df['reviewer'].str.findall('Caregiver').str.join('')"
   ]
  },
  {
   "cell_type": "code",
   "execution_count": 16,
   "metadata": {},
   "outputs": [
    {
     "data": {
      "text/plain": [
       "             5144\n",
       "Caregiver      98\n",
       "Name: caregiver, dtype: int64"
      ]
     },
     "execution_count": 16,
     "metadata": {},
     "output_type": "execute_result"
    }
   ],
   "source": [
    "df['caregiver'].value_counts()"
   ]
  },
  {
   "cell_type": "markdown",
   "metadata": {},
   "source": [
    "Encode `Caregiver` as 1, else as 0"
   ]
  },
  {
   "cell_type": "code",
   "execution_count": 17,
   "metadata": {},
   "outputs": [],
   "source": [
    "df['caregiver'] = df['reviewer'].str.findall('Caregiver').str.join('')"
   ]
  },
  {
   "cell_type": "code",
   "execution_count": 18,
   "metadata": {},
   "outputs": [],
   "source": [
    "df['caregiver'] = np.where(df['caregiver'] == 'Caregiver', 1, 0)"
   ]
  },
  {
   "cell_type": "code",
   "execution_count": 19,
   "metadata": {},
   "outputs": [
    {
     "data": {
      "text/plain": [
       "0    5397\n",
       "1      98\n",
       "Name: caregiver, dtype: int64"
      ]
     },
     "execution_count": 19,
     "metadata": {},
     "output_type": "execute_result"
    }
   ],
   "source": [
    "df['caregiver'].value_counts()"
   ]
  },
  {
   "cell_type": "code",
   "execution_count": 20,
   "metadata": {},
   "outputs": [
    {
     "data": {
      "text/html": [
       "<div>\n",
       "<style scoped>\n",
       "    .dataframe tbody tr th:only-of-type {\n",
       "        vertical-align: middle;\n",
       "    }\n",
       "\n",
       "    .dataframe tbody tr th {\n",
       "        vertical-align: top;\n",
       "    }\n",
       "\n",
       "    .dataframe thead th {\n",
       "        text-align: right;\n",
       "    }\n",
       "</style>\n",
       "<table border=\"1\" class=\"dataframe\">\n",
       "  <thead>\n",
       "    <tr style=\"text-align: right;\">\n",
       "      <th></th>\n",
       "      <th>Rdate</th>\n",
       "      <th>comment</th>\n",
       "      <th>condition</th>\n",
       "      <th>drug</th>\n",
       "      <th>easeofuse</th>\n",
       "      <th>effectiveness</th>\n",
       "      <th>helpful</th>\n",
       "      <th>reviewer</th>\n",
       "      <th>satisfaction</th>\n",
       "      <th>patient</th>\n",
       "      <th>caregiver</th>\n",
       "    </tr>\n",
       "  </thead>\n",
       "  <tbody>\n",
       "    <tr>\n",
       "      <th>0</th>\n",
       "      <td>9/19/2007 9:03:53 AM</td>\n",
       "      <td>The medication has helped me keep my 2 month s...</td>\n",
       "      <td>Type 2 Diabetes Mellitus</td>\n",
       "      <td>metformin oral</td>\n",
       "      <td>5</td>\n",
       "      <td>4</td>\n",
       "      <td>22</td>\n",
       "      <td>bjorn, 65-74 Male  on Treatment for 2 to less ...</td>\n",
       "      <td>3</td>\n",
       "      <td>1</td>\n",
       "      <td>0</td>\n",
       "    </tr>\n",
       "    <tr>\n",
       "      <th>1</th>\n",
       "      <td>9/18/2007 11:18:23 AM</td>\n",
       "      <td>The medication has helped me keep my 2 month s...</td>\n",
       "      <td>Type 2 Diabetes Mellitus</td>\n",
       "      <td>metformin oral</td>\n",
       "      <td>5</td>\n",
       "      <td>4</td>\n",
       "      <td>22</td>\n",
       "      <td>cutie54, 45-54 Female  on Treatment for 1 to 6...</td>\n",
       "      <td>5</td>\n",
       "      <td>1</td>\n",
       "      <td>0</td>\n",
       "    </tr>\n",
       "    <tr>\n",
       "      <th>2</th>\n",
       "      <td>3/2/2015 7:26:37 PM</td>\n",
       "      <td>I have been taking Tanzeum for four weeks and ...</td>\n",
       "      <td>Type 2 Diabetes Mellitus</td>\n",
       "      <td>Tanzeum subcutaneous</td>\n",
       "      <td>5</td>\n",
       "      <td>5</td>\n",
       "      <td>15</td>\n",
       "      <td>65-74 Female  on Treatment for 1 to 6 months (...</td>\n",
       "      <td>5</td>\n",
       "      <td>1</td>\n",
       "      <td>0</td>\n",
       "    </tr>\n",
       "    <tr>\n",
       "      <th>3</th>\n",
       "      <td>1/4/2015 6:47:30 AM</td>\n",
       "      <td>I have been taking Tanzeum for four weeks and ...</td>\n",
       "      <td>Type 2 Diabetes Mellitus</td>\n",
       "      <td>Tanzeum subcutaneous</td>\n",
       "      <td>4</td>\n",
       "      <td>2</td>\n",
       "      <td>15</td>\n",
       "      <td>MarkW, 65-74 Male  on Treatment for 1 to 6 mon...</td>\n",
       "      <td>1</td>\n",
       "      <td>1</td>\n",
       "      <td>0</td>\n",
       "    </tr>\n",
       "    <tr>\n",
       "      <th>4</th>\n",
       "      <td>10/20/2014 3:13:21 PM</td>\n",
       "      <td>I have been taking Tanzeum for four weeks and ...</td>\n",
       "      <td>Type 2 Diabetes Mellitus</td>\n",
       "      <td>Tanzeum subcutaneous</td>\n",
       "      <td>5</td>\n",
       "      <td>5</td>\n",
       "      <td>15</td>\n",
       "      <td>Les, 55-64 Female  (Patient)</td>\n",
       "      <td>5</td>\n",
       "      <td>1</td>\n",
       "      <td>0</td>\n",
       "    </tr>\n",
       "  </tbody>\n",
       "</table>\n",
       "</div>"
      ],
      "text/plain": [
       "                   Rdate                                            comment  \\\n",
       "0   9/19/2007 9:03:53 AM  The medication has helped me keep my 2 month s...   \n",
       "1  9/18/2007 11:18:23 AM  The medication has helped me keep my 2 month s...   \n",
       "2    3/2/2015 7:26:37 PM  I have been taking Tanzeum for four weeks and ...   \n",
       "3    1/4/2015 6:47:30 AM  I have been taking Tanzeum for four weeks and ...   \n",
       "4  10/20/2014 3:13:21 PM  I have been taking Tanzeum for four weeks and ...   \n",
       "\n",
       "                  condition                  drug  easeofuse  effectiveness  \\\n",
       "0  Type 2 Diabetes Mellitus        metformin oral          5              4   \n",
       "1  Type 2 Diabetes Mellitus        metformin oral          5              4   \n",
       "2  Type 2 Diabetes Mellitus  Tanzeum subcutaneous          5              5   \n",
       "3  Type 2 Diabetes Mellitus  Tanzeum subcutaneous          4              2   \n",
       "4  Type 2 Diabetes Mellitus  Tanzeum subcutaneous          5              5   \n",
       "\n",
       "   helpful                                           reviewer  satisfaction  \\\n",
       "0       22  bjorn, 65-74 Male  on Treatment for 2 to less ...             3   \n",
       "1       22  cutie54, 45-54 Female  on Treatment for 1 to 6...             5   \n",
       "2       15  65-74 Female  on Treatment for 1 to 6 months (...             5   \n",
       "3       15  MarkW, 65-74 Male  on Treatment for 1 to 6 mon...             1   \n",
       "4       15                       Les, 55-64 Female  (Patient)             5   \n",
       "\n",
       "   patient  caregiver  \n",
       "0        1          0  \n",
       "1        1          0  \n",
       "2        1          0  \n",
       "3        1          0  \n",
       "4        1          0  "
      ]
     },
     "execution_count": 20,
     "metadata": {},
     "output_type": "execute_result"
    }
   ],
   "source": [
    "df.head()"
   ]
  },
  {
   "cell_type": "markdown",
   "metadata": {},
   "source": [
    "### 2. Gender"
   ]
  },
  {
   "cell_type": "markdown",
   "metadata": {},
   "source": [
    "#### `Male`"
   ]
  },
  {
   "cell_type": "code",
   "execution_count": 21,
   "metadata": {},
   "outputs": [],
   "source": [
    "df['male'] = df['reviewer'].str.findall('Male').str.join('')"
   ]
  },
  {
   "cell_type": "code",
   "execution_count": 22,
   "metadata": {},
   "outputs": [
    {
     "data": {
      "text/plain": [
       "        3224\n",
       "Male    2018\n",
       "Name: male, dtype: int64"
      ]
     },
     "execution_count": 22,
     "metadata": {},
     "output_type": "execute_result"
    }
   ],
   "source": [
    "df['male'].value_counts()"
   ]
  },
  {
   "cell_type": "code",
   "execution_count": 23,
   "metadata": {},
   "outputs": [],
   "source": [
    "df['male'] = np.where(df['male'] == 'Male', 1, 0)"
   ]
  },
  {
   "cell_type": "code",
   "execution_count": 24,
   "metadata": {},
   "outputs": [
    {
     "data": {
      "text/html": [
       "<div>\n",
       "<style scoped>\n",
       "    .dataframe tbody tr th:only-of-type {\n",
       "        vertical-align: middle;\n",
       "    }\n",
       "\n",
       "    .dataframe tbody tr th {\n",
       "        vertical-align: top;\n",
       "    }\n",
       "\n",
       "    .dataframe thead th {\n",
       "        text-align: right;\n",
       "    }\n",
       "</style>\n",
       "<table border=\"1\" class=\"dataframe\">\n",
       "  <thead>\n",
       "    <tr style=\"text-align: right;\">\n",
       "      <th></th>\n",
       "      <th>Rdate</th>\n",
       "      <th>comment</th>\n",
       "      <th>condition</th>\n",
       "      <th>drug</th>\n",
       "      <th>easeofuse</th>\n",
       "      <th>effectiveness</th>\n",
       "      <th>helpful</th>\n",
       "      <th>reviewer</th>\n",
       "      <th>satisfaction</th>\n",
       "      <th>patient</th>\n",
       "      <th>caregiver</th>\n",
       "      <th>male</th>\n",
       "    </tr>\n",
       "  </thead>\n",
       "  <tbody>\n",
       "    <tr>\n",
       "      <th>0</th>\n",
       "      <td>9/19/2007 9:03:53 AM</td>\n",
       "      <td>The medication has helped me keep my 2 month s...</td>\n",
       "      <td>Type 2 Diabetes Mellitus</td>\n",
       "      <td>metformin oral</td>\n",
       "      <td>5</td>\n",
       "      <td>4</td>\n",
       "      <td>22</td>\n",
       "      <td>bjorn, 65-74 Male  on Treatment for 2 to less ...</td>\n",
       "      <td>3</td>\n",
       "      <td>1</td>\n",
       "      <td>0</td>\n",
       "      <td>1</td>\n",
       "    </tr>\n",
       "    <tr>\n",
       "      <th>1</th>\n",
       "      <td>9/18/2007 11:18:23 AM</td>\n",
       "      <td>The medication has helped me keep my 2 month s...</td>\n",
       "      <td>Type 2 Diabetes Mellitus</td>\n",
       "      <td>metformin oral</td>\n",
       "      <td>5</td>\n",
       "      <td>4</td>\n",
       "      <td>22</td>\n",
       "      <td>cutie54, 45-54 Female  on Treatment for 1 to 6...</td>\n",
       "      <td>5</td>\n",
       "      <td>1</td>\n",
       "      <td>0</td>\n",
       "      <td>0</td>\n",
       "    </tr>\n",
       "    <tr>\n",
       "      <th>2</th>\n",
       "      <td>3/2/2015 7:26:37 PM</td>\n",
       "      <td>I have been taking Tanzeum for four weeks and ...</td>\n",
       "      <td>Type 2 Diabetes Mellitus</td>\n",
       "      <td>Tanzeum subcutaneous</td>\n",
       "      <td>5</td>\n",
       "      <td>5</td>\n",
       "      <td>15</td>\n",
       "      <td>65-74 Female  on Treatment for 1 to 6 months (...</td>\n",
       "      <td>5</td>\n",
       "      <td>1</td>\n",
       "      <td>0</td>\n",
       "      <td>0</td>\n",
       "    </tr>\n",
       "    <tr>\n",
       "      <th>3</th>\n",
       "      <td>1/4/2015 6:47:30 AM</td>\n",
       "      <td>I have been taking Tanzeum for four weeks and ...</td>\n",
       "      <td>Type 2 Diabetes Mellitus</td>\n",
       "      <td>Tanzeum subcutaneous</td>\n",
       "      <td>4</td>\n",
       "      <td>2</td>\n",
       "      <td>15</td>\n",
       "      <td>MarkW, 65-74 Male  on Treatment for 1 to 6 mon...</td>\n",
       "      <td>1</td>\n",
       "      <td>1</td>\n",
       "      <td>0</td>\n",
       "      <td>1</td>\n",
       "    </tr>\n",
       "    <tr>\n",
       "      <th>4</th>\n",
       "      <td>10/20/2014 3:13:21 PM</td>\n",
       "      <td>I have been taking Tanzeum for four weeks and ...</td>\n",
       "      <td>Type 2 Diabetes Mellitus</td>\n",
       "      <td>Tanzeum subcutaneous</td>\n",
       "      <td>5</td>\n",
       "      <td>5</td>\n",
       "      <td>15</td>\n",
       "      <td>Les, 55-64 Female  (Patient)</td>\n",
       "      <td>5</td>\n",
       "      <td>1</td>\n",
       "      <td>0</td>\n",
       "      <td>0</td>\n",
       "    </tr>\n",
       "  </tbody>\n",
       "</table>\n",
       "</div>"
      ],
      "text/plain": [
       "                   Rdate                                            comment  \\\n",
       "0   9/19/2007 9:03:53 AM  The medication has helped me keep my 2 month s...   \n",
       "1  9/18/2007 11:18:23 AM  The medication has helped me keep my 2 month s...   \n",
       "2    3/2/2015 7:26:37 PM  I have been taking Tanzeum for four weeks and ...   \n",
       "3    1/4/2015 6:47:30 AM  I have been taking Tanzeum for four weeks and ...   \n",
       "4  10/20/2014 3:13:21 PM  I have been taking Tanzeum for four weeks and ...   \n",
       "\n",
       "                  condition                  drug  easeofuse  effectiveness  \\\n",
       "0  Type 2 Diabetes Mellitus        metformin oral          5              4   \n",
       "1  Type 2 Diabetes Mellitus        metformin oral          5              4   \n",
       "2  Type 2 Diabetes Mellitus  Tanzeum subcutaneous          5              5   \n",
       "3  Type 2 Diabetes Mellitus  Tanzeum subcutaneous          4              2   \n",
       "4  Type 2 Diabetes Mellitus  Tanzeum subcutaneous          5              5   \n",
       "\n",
       "   helpful                                           reviewer  satisfaction  \\\n",
       "0       22  bjorn, 65-74 Male  on Treatment for 2 to less ...             3   \n",
       "1       22  cutie54, 45-54 Female  on Treatment for 1 to 6...             5   \n",
       "2       15  65-74 Female  on Treatment for 1 to 6 months (...             5   \n",
       "3       15  MarkW, 65-74 Male  on Treatment for 1 to 6 mon...             1   \n",
       "4       15                       Les, 55-64 Female  (Patient)             5   \n",
       "\n",
       "   patient  caregiver  male  \n",
       "0        1          0     1  \n",
       "1        1          0     0  \n",
       "2        1          0     0  \n",
       "3        1          0     1  \n",
       "4        1          0     0  "
      ]
     },
     "execution_count": 24,
     "metadata": {},
     "output_type": "execute_result"
    }
   ],
   "source": [
    "df.head()"
   ]
  },
  {
   "cell_type": "markdown",
   "metadata": {},
   "source": [
    "#### `Female`"
   ]
  },
  {
   "cell_type": "code",
   "execution_count": 25,
   "metadata": {},
   "outputs": [],
   "source": [
    "df['female'] = df['reviewer'].str.findall('Female').str.join('')"
   ]
  },
  {
   "cell_type": "code",
   "execution_count": 26,
   "metadata": {},
   "outputs": [],
   "source": [
    "df['female'] = np.where(df['female'] == 'Female', 1, 0)"
   ]
  },
  {
   "cell_type": "code",
   "execution_count": 27,
   "metadata": {},
   "outputs": [
    {
     "data": {
      "text/html": [
       "<div>\n",
       "<style scoped>\n",
       "    .dataframe tbody tr th:only-of-type {\n",
       "        vertical-align: middle;\n",
       "    }\n",
       "\n",
       "    .dataframe tbody tr th {\n",
       "        vertical-align: top;\n",
       "    }\n",
       "\n",
       "    .dataframe thead th {\n",
       "        text-align: right;\n",
       "    }\n",
       "</style>\n",
       "<table border=\"1\" class=\"dataframe\">\n",
       "  <thead>\n",
       "    <tr style=\"text-align: right;\">\n",
       "      <th></th>\n",
       "      <th>Rdate</th>\n",
       "      <th>comment</th>\n",
       "      <th>condition</th>\n",
       "      <th>drug</th>\n",
       "      <th>easeofuse</th>\n",
       "      <th>effectiveness</th>\n",
       "      <th>helpful</th>\n",
       "      <th>reviewer</th>\n",
       "      <th>satisfaction</th>\n",
       "      <th>patient</th>\n",
       "      <th>caregiver</th>\n",
       "      <th>male</th>\n",
       "      <th>female</th>\n",
       "    </tr>\n",
       "  </thead>\n",
       "  <tbody>\n",
       "    <tr>\n",
       "      <th>0</th>\n",
       "      <td>9/19/2007 9:03:53 AM</td>\n",
       "      <td>The medication has helped me keep my 2 month s...</td>\n",
       "      <td>Type 2 Diabetes Mellitus</td>\n",
       "      <td>metformin oral</td>\n",
       "      <td>5</td>\n",
       "      <td>4</td>\n",
       "      <td>22</td>\n",
       "      <td>bjorn, 65-74 Male  on Treatment for 2 to less ...</td>\n",
       "      <td>3</td>\n",
       "      <td>1</td>\n",
       "      <td>0</td>\n",
       "      <td>1</td>\n",
       "      <td>0</td>\n",
       "    </tr>\n",
       "    <tr>\n",
       "      <th>1</th>\n",
       "      <td>9/18/2007 11:18:23 AM</td>\n",
       "      <td>The medication has helped me keep my 2 month s...</td>\n",
       "      <td>Type 2 Diabetes Mellitus</td>\n",
       "      <td>metformin oral</td>\n",
       "      <td>5</td>\n",
       "      <td>4</td>\n",
       "      <td>22</td>\n",
       "      <td>cutie54, 45-54 Female  on Treatment for 1 to 6...</td>\n",
       "      <td>5</td>\n",
       "      <td>1</td>\n",
       "      <td>0</td>\n",
       "      <td>0</td>\n",
       "      <td>1</td>\n",
       "    </tr>\n",
       "    <tr>\n",
       "      <th>2</th>\n",
       "      <td>3/2/2015 7:26:37 PM</td>\n",
       "      <td>I have been taking Tanzeum for four weeks and ...</td>\n",
       "      <td>Type 2 Diabetes Mellitus</td>\n",
       "      <td>Tanzeum subcutaneous</td>\n",
       "      <td>5</td>\n",
       "      <td>5</td>\n",
       "      <td>15</td>\n",
       "      <td>65-74 Female  on Treatment for 1 to 6 months (...</td>\n",
       "      <td>5</td>\n",
       "      <td>1</td>\n",
       "      <td>0</td>\n",
       "      <td>0</td>\n",
       "      <td>1</td>\n",
       "    </tr>\n",
       "    <tr>\n",
       "      <th>3</th>\n",
       "      <td>1/4/2015 6:47:30 AM</td>\n",
       "      <td>I have been taking Tanzeum for four weeks and ...</td>\n",
       "      <td>Type 2 Diabetes Mellitus</td>\n",
       "      <td>Tanzeum subcutaneous</td>\n",
       "      <td>4</td>\n",
       "      <td>2</td>\n",
       "      <td>15</td>\n",
       "      <td>MarkW, 65-74 Male  on Treatment for 1 to 6 mon...</td>\n",
       "      <td>1</td>\n",
       "      <td>1</td>\n",
       "      <td>0</td>\n",
       "      <td>1</td>\n",
       "      <td>0</td>\n",
       "    </tr>\n",
       "    <tr>\n",
       "      <th>4</th>\n",
       "      <td>10/20/2014 3:13:21 PM</td>\n",
       "      <td>I have been taking Tanzeum for four weeks and ...</td>\n",
       "      <td>Type 2 Diabetes Mellitus</td>\n",
       "      <td>Tanzeum subcutaneous</td>\n",
       "      <td>5</td>\n",
       "      <td>5</td>\n",
       "      <td>15</td>\n",
       "      <td>Les, 55-64 Female  (Patient)</td>\n",
       "      <td>5</td>\n",
       "      <td>1</td>\n",
       "      <td>0</td>\n",
       "      <td>0</td>\n",
       "      <td>1</td>\n",
       "    </tr>\n",
       "  </tbody>\n",
       "</table>\n",
       "</div>"
      ],
      "text/plain": [
       "                   Rdate                                            comment  \\\n",
       "0   9/19/2007 9:03:53 AM  The medication has helped me keep my 2 month s...   \n",
       "1  9/18/2007 11:18:23 AM  The medication has helped me keep my 2 month s...   \n",
       "2    3/2/2015 7:26:37 PM  I have been taking Tanzeum for four weeks and ...   \n",
       "3    1/4/2015 6:47:30 AM  I have been taking Tanzeum for four weeks and ...   \n",
       "4  10/20/2014 3:13:21 PM  I have been taking Tanzeum for four weeks and ...   \n",
       "\n",
       "                  condition                  drug  easeofuse  effectiveness  \\\n",
       "0  Type 2 Diabetes Mellitus        metformin oral          5              4   \n",
       "1  Type 2 Diabetes Mellitus        metformin oral          5              4   \n",
       "2  Type 2 Diabetes Mellitus  Tanzeum subcutaneous          5              5   \n",
       "3  Type 2 Diabetes Mellitus  Tanzeum subcutaneous          4              2   \n",
       "4  Type 2 Diabetes Mellitus  Tanzeum subcutaneous          5              5   \n",
       "\n",
       "   helpful                                           reviewer  satisfaction  \\\n",
       "0       22  bjorn, 65-74 Male  on Treatment for 2 to less ...             3   \n",
       "1       22  cutie54, 45-54 Female  on Treatment for 1 to 6...             5   \n",
       "2       15  65-74 Female  on Treatment for 1 to 6 months (...             5   \n",
       "3       15  MarkW, 65-74 Male  on Treatment for 1 to 6 mon...             1   \n",
       "4       15                       Les, 55-64 Female  (Patient)             5   \n",
       "\n",
       "   patient  caregiver  male  female  \n",
       "0        1          0     1       0  \n",
       "1        1          0     0       1  \n",
       "2        1          0     0       1  \n",
       "3        1          0     1       0  \n",
       "4        1          0     0       1  "
      ]
     },
     "execution_count": 27,
     "metadata": {},
     "output_type": "execute_result"
    }
   ],
   "source": [
    "df.head()"
   ]
  },
  {
   "cell_type": "markdown",
   "metadata": {},
   "source": [
    "### 3. Treatment Period"
   ]
  },
  {
   "cell_type": "markdown",
   "metadata": {},
   "source": [
    "I found seven different periods using regex."
   ]
  },
  {
   "cell_type": "markdown",
   "metadata": {},
   "source": [
    "#### Create columns for each periods "
   ]
  },
  {
   "cell_type": "code",
   "execution_count": 28,
   "metadata": {},
   "outputs": [],
   "source": [
    "df['treatment_period_1'] = df['reviewer'].str.findall('less than 1 month').str.join('')\n",
    "df['treatment_period_2'] = df['reviewer'].str.findall('1 to 6 months').str.join('')\n",
    "df['treatment_period_3'] = df['reviewer'].str.findall('6 months to less than 1 year').str.join('')\n",
    "df['treatment_period_4'] = df['reviewer'].str.findall('1 to less than 2 years').str.join('')\n",
    "df['treatment_period_5'] = df['reviewer'].str.findall('2 to less than 5 years').str.join('')\n",
    "df['treatment_period_6'] = df['reviewer'].str.findall('5 to less than 10 years').str.join('')\n",
    "df['treatment_period_7'] = df['reviewer'].str.findall('10 years or more').str.join('')"
   ]
  },
  {
   "cell_type": "code",
   "execution_count": 29,
   "metadata": {},
   "outputs": [
    {
     "data": {
      "text/plain": [
       "Index(['Rdate', 'comment', 'condition', 'drug', 'easeofuse', 'effectiveness',\n",
       "       'helpful', 'reviewer', 'satisfaction', 'patient', 'caregiver', 'male',\n",
       "       'female', 'treatment_period_1', 'treatment_period_2',\n",
       "       'treatment_period_3', 'treatment_period_4', 'treatment_period_5',\n",
       "       'treatment_period_6', 'treatment_period_7'],\n",
       "      dtype='object')"
      ]
     },
     "execution_count": 29,
     "metadata": {},
     "output_type": "execute_result"
    }
   ],
   "source": [
    "df.columns"
   ]
  },
  {
   "cell_type": "code",
   "execution_count": 30,
   "metadata": {},
   "outputs": [
    {
     "data": {
      "text/html": [
       "<div>\n",
       "<style scoped>\n",
       "    .dataframe tbody tr th:only-of-type {\n",
       "        vertical-align: middle;\n",
       "    }\n",
       "\n",
       "    .dataframe tbody tr th {\n",
       "        vertical-align: top;\n",
       "    }\n",
       "\n",
       "    .dataframe thead th {\n",
       "        text-align: right;\n",
       "    }\n",
       "</style>\n",
       "<table border=\"1\" class=\"dataframe\">\n",
       "  <thead>\n",
       "    <tr style=\"text-align: right;\">\n",
       "      <th></th>\n",
       "      <th>Rdate</th>\n",
       "      <th>comment</th>\n",
       "      <th>condition</th>\n",
       "      <th>drug</th>\n",
       "      <th>easeofuse</th>\n",
       "      <th>effectiveness</th>\n",
       "      <th>helpful</th>\n",
       "      <th>reviewer</th>\n",
       "      <th>satisfaction</th>\n",
       "      <th>patient</th>\n",
       "      <th>caregiver</th>\n",
       "      <th>male</th>\n",
       "      <th>female</th>\n",
       "      <th>treatment_period_1</th>\n",
       "      <th>treatment_period_2</th>\n",
       "      <th>treatment_period_3</th>\n",
       "      <th>treatment_period_4</th>\n",
       "      <th>treatment_period_5</th>\n",
       "      <th>treatment_period_6</th>\n",
       "      <th>treatment_period_7</th>\n",
       "    </tr>\n",
       "  </thead>\n",
       "  <tbody>\n",
       "    <tr>\n",
       "      <th>0</th>\n",
       "      <td>9/19/2007 9:03:53 AM</td>\n",
       "      <td>The medication has helped me keep my 2 month s...</td>\n",
       "      <td>Type 2 Diabetes Mellitus</td>\n",
       "      <td>metformin oral</td>\n",
       "      <td>5</td>\n",
       "      <td>4</td>\n",
       "      <td>22</td>\n",
       "      <td>bjorn, 65-74 Male  on Treatment for 2 to less ...</td>\n",
       "      <td>3</td>\n",
       "      <td>1</td>\n",
       "      <td>0</td>\n",
       "      <td>1</td>\n",
       "      <td>0</td>\n",
       "      <td></td>\n",
       "      <td></td>\n",
       "      <td></td>\n",
       "      <td></td>\n",
       "      <td>2 to less than 5 years</td>\n",
       "      <td></td>\n",
       "      <td></td>\n",
       "    </tr>\n",
       "    <tr>\n",
       "      <th>1</th>\n",
       "      <td>9/18/2007 11:18:23 AM</td>\n",
       "      <td>The medication has helped me keep my 2 month s...</td>\n",
       "      <td>Type 2 Diabetes Mellitus</td>\n",
       "      <td>metformin oral</td>\n",
       "      <td>5</td>\n",
       "      <td>4</td>\n",
       "      <td>22</td>\n",
       "      <td>cutie54, 45-54 Female  on Treatment for 1 to 6...</td>\n",
       "      <td>5</td>\n",
       "      <td>1</td>\n",
       "      <td>0</td>\n",
       "      <td>0</td>\n",
       "      <td>1</td>\n",
       "      <td></td>\n",
       "      <td>1 to 6 months</td>\n",
       "      <td></td>\n",
       "      <td></td>\n",
       "      <td></td>\n",
       "      <td></td>\n",
       "      <td></td>\n",
       "    </tr>\n",
       "    <tr>\n",
       "      <th>2</th>\n",
       "      <td>3/2/2015 7:26:37 PM</td>\n",
       "      <td>I have been taking Tanzeum for four weeks and ...</td>\n",
       "      <td>Type 2 Diabetes Mellitus</td>\n",
       "      <td>Tanzeum subcutaneous</td>\n",
       "      <td>5</td>\n",
       "      <td>5</td>\n",
       "      <td>15</td>\n",
       "      <td>65-74 Female  on Treatment for 1 to 6 months (...</td>\n",
       "      <td>5</td>\n",
       "      <td>1</td>\n",
       "      <td>0</td>\n",
       "      <td>0</td>\n",
       "      <td>1</td>\n",
       "      <td></td>\n",
       "      <td>1 to 6 months</td>\n",
       "      <td></td>\n",
       "      <td></td>\n",
       "      <td></td>\n",
       "      <td></td>\n",
       "      <td></td>\n",
       "    </tr>\n",
       "    <tr>\n",
       "      <th>3</th>\n",
       "      <td>1/4/2015 6:47:30 AM</td>\n",
       "      <td>I have been taking Tanzeum for four weeks and ...</td>\n",
       "      <td>Type 2 Diabetes Mellitus</td>\n",
       "      <td>Tanzeum subcutaneous</td>\n",
       "      <td>4</td>\n",
       "      <td>2</td>\n",
       "      <td>15</td>\n",
       "      <td>MarkW, 65-74 Male  on Treatment for 1 to 6 mon...</td>\n",
       "      <td>1</td>\n",
       "      <td>1</td>\n",
       "      <td>0</td>\n",
       "      <td>1</td>\n",
       "      <td>0</td>\n",
       "      <td></td>\n",
       "      <td>1 to 6 months</td>\n",
       "      <td></td>\n",
       "      <td></td>\n",
       "      <td></td>\n",
       "      <td></td>\n",
       "      <td></td>\n",
       "    </tr>\n",
       "    <tr>\n",
       "      <th>4</th>\n",
       "      <td>10/20/2014 3:13:21 PM</td>\n",
       "      <td>I have been taking Tanzeum for four weeks and ...</td>\n",
       "      <td>Type 2 Diabetes Mellitus</td>\n",
       "      <td>Tanzeum subcutaneous</td>\n",
       "      <td>5</td>\n",
       "      <td>5</td>\n",
       "      <td>15</td>\n",
       "      <td>Les, 55-64 Female  (Patient)</td>\n",
       "      <td>5</td>\n",
       "      <td>1</td>\n",
       "      <td>0</td>\n",
       "      <td>0</td>\n",
       "      <td>1</td>\n",
       "      <td></td>\n",
       "      <td></td>\n",
       "      <td></td>\n",
       "      <td></td>\n",
       "      <td></td>\n",
       "      <td></td>\n",
       "      <td></td>\n",
       "    </tr>\n",
       "  </tbody>\n",
       "</table>\n",
       "</div>"
      ],
      "text/plain": [
       "                   Rdate                                            comment  \\\n",
       "0   9/19/2007 9:03:53 AM  The medication has helped me keep my 2 month s...   \n",
       "1  9/18/2007 11:18:23 AM  The medication has helped me keep my 2 month s...   \n",
       "2    3/2/2015 7:26:37 PM  I have been taking Tanzeum for four weeks and ...   \n",
       "3    1/4/2015 6:47:30 AM  I have been taking Tanzeum for four weeks and ...   \n",
       "4  10/20/2014 3:13:21 PM  I have been taking Tanzeum for four weeks and ...   \n",
       "\n",
       "                  condition                  drug  easeofuse  effectiveness  \\\n",
       "0  Type 2 Diabetes Mellitus        metformin oral          5              4   \n",
       "1  Type 2 Diabetes Mellitus        metformin oral          5              4   \n",
       "2  Type 2 Diabetes Mellitus  Tanzeum subcutaneous          5              5   \n",
       "3  Type 2 Diabetes Mellitus  Tanzeum subcutaneous          4              2   \n",
       "4  Type 2 Diabetes Mellitus  Tanzeum subcutaneous          5              5   \n",
       "\n",
       "   helpful                                           reviewer  satisfaction  \\\n",
       "0       22  bjorn, 65-74 Male  on Treatment for 2 to less ...             3   \n",
       "1       22  cutie54, 45-54 Female  on Treatment for 1 to 6...             5   \n",
       "2       15  65-74 Female  on Treatment for 1 to 6 months (...             5   \n",
       "3       15  MarkW, 65-74 Male  on Treatment for 1 to 6 mon...             1   \n",
       "4       15                       Les, 55-64 Female  (Patient)             5   \n",
       "\n",
       "   patient  caregiver  male  female treatment_period_1 treatment_period_2  \\\n",
       "0        1          0     1       0                                         \n",
       "1        1          0     0       1                         1 to 6 months   \n",
       "2        1          0     0       1                         1 to 6 months   \n",
       "3        1          0     1       0                         1 to 6 months   \n",
       "4        1          0     0       1                                         \n",
       "\n",
       "  treatment_period_3 treatment_period_4      treatment_period_5  \\\n",
       "0                                        2 to less than 5 years   \n",
       "1                                                                 \n",
       "2                                                                 \n",
       "3                                                                 \n",
       "4                                                                 \n",
       "\n",
       "  treatment_period_6 treatment_period_7  \n",
       "0                                        \n",
       "1                                        \n",
       "2                                        \n",
       "3                                        \n",
       "4                                        "
      ]
     },
     "execution_count": 30,
     "metadata": {},
     "output_type": "execute_result"
    }
   ],
   "source": [
    "df.head()"
   ]
  },
  {
   "cell_type": "markdown",
   "metadata": {},
   "source": [
    "#### Recode values"
   ]
  },
  {
   "cell_type": "code",
   "execution_count": 31,
   "metadata": {},
   "outputs": [],
   "source": [
    "df['treatment_period_1'] = np.where(df['treatment_period_1'] == 'less than 1 month', 1, 0)\n",
    "df['treatment_period_2'] = np.where(df['treatment_period_2'] == '1 to 6 months', 1, 0)\n",
    "df['treatment_period_3'] = np.where(df['treatment_period_3'] == '6 months to less than 1 year', 1, 0)\n",
    "df['treatment_period_4'] = np.where(df['treatment_period_4'] == '1 to less than 2 years', 1, 0)\n",
    "df['treatment_period_5'] = np.where(df['treatment_period_5'] == '2 to less than 5 years', 1, 0)\n",
    "df['treatment_period_6'] = np.where(df['treatment_period_6'] == '5 to less than 10 years', 1, 0)\n",
    "df['treatment_period_7'] = np.where(df['treatment_period_7'] == '10 years or more', 1, 0)"
   ]
  },
  {
   "cell_type": "markdown",
   "metadata": {},
   "source": [
    "##### Check Value Counts"
   ]
  },
  {
   "cell_type": "code",
   "execution_count": 32,
   "metadata": {},
   "outputs": [
    {
     "name": "stdout",
     "output_type": "stream",
     "text": [
      "0    4333\n",
      "1    1162\n",
      "Name: treatment_period_1, dtype: int64\n",
      "0    3949\n",
      "1    1546\n",
      "Name: treatment_period_2, dtype: int64\n",
      "0    4911\n",
      "1     584\n",
      "Name: treatment_period_3, dtype: int64\n",
      "0    4943\n",
      "1     552\n",
      "Name: treatment_period_4, dtype: int64\n",
      "0    4763\n",
      "1     732\n",
      "Name: treatment_period_5, dtype: int64\n",
      "0    5170\n",
      "1     325\n",
      "Name: treatment_period_6, dtype: int64\n",
      "0    5322\n",
      "1     173\n",
      "Name: treatment_period_7, dtype: int64\n"
     ]
    }
   ],
   "source": [
    "list = ['1', '2', '3', '4', '5', '6', '7']\n",
    "\n",
    "for num in list:\n",
    "    period = 'treatment_period_'+num\n",
    "    t_prd_by_group = df[period].value_counts()\n",
    "    print(t_prd_by_group)\n"
   ]
  },
  {
   "cell_type": "markdown",
   "metadata": {},
   "source": [
    "### Age Groups"
   ]
  },
  {
   "cell_type": "code",
   "execution_count": 33,
   "metadata": {},
   "outputs": [],
   "source": [
    "df['age_group_1'] = df['reviewer'].str.findall('19-24')\n",
    "df['age_group_2'] = df['reviewer'].str.findall('25-34')\n",
    "df['age_group_3'] = df['reviewer'].str.findall('35-44')\n",
    "df['age_group_4'] = df['reviewer'].str.findall('45-54')\n",
    "df['age_group_5'] = df['reviewer'].str.findall('55-64')\n",
    "df['age_group_6'] = df['reviewer'].str.findall('65-74')\n",
    "df['age_group_7'] = df['reviewer'].str.findall('75 or over')"
   ]
  },
  {
   "cell_type": "markdown",
   "metadata": {},
   "source": [
    "#### Check Value Counts"
   ]
  },
  {
   "cell_type": "code",
   "execution_count": 34,
   "metadata": {},
   "outputs": [
    {
     "name": "stdout",
     "output_type": "stream",
     "text": [
      "[]         5216\n",
      "[19-24]      26\n",
      "Name: age_group_1, dtype: int64\n",
      "[]         5074\n",
      "[25-34]     168\n",
      "Name: age_group_2, dtype: int64\n",
      "[]         4703\n",
      "[35-44]     539\n",
      "Name: age_group_3, dtype: int64\n",
      "[]         3902\n",
      "[45-54]    1340\n",
      "Name: age_group_4, dtype: int64\n",
      "[]         3483\n",
      "[55-64]    1759\n",
      "Name: age_group_5, dtype: int64\n",
      "[]         4219\n",
      "[65-74]    1023\n",
      "Name: age_group_6, dtype: int64\n",
      "[]              4937\n",
      "[75 or over]     305\n",
      "Name: age_group_7, dtype: int64\n"
     ]
    }
   ],
   "source": [
    "for num in list:\n",
    "    group = 'age_group_'+num\n",
    "    val_by_age = df[group].value_counts()\n",
    "    print(val_by_age)\n",
    "    "
   ]
  },
  {
   "cell_type": "markdown",
   "metadata": {},
   "source": [
    "##### Recode values into 1 and 0"
   ]
  },
  {
   "cell_type": "code",
   "execution_count": 35,
   "metadata": {},
   "outputs": [],
   "source": [
    "df['age_group_1'] = np.where(df['age_group_1'] == '19-24', 1, 0)\n",
    "df['age_group_2'] = np.where(df['age_group_2'] == '25-34', 1, 0)\n",
    "df['age_group_3'] = np.where(df['age_group_3'] == '35-44', 1, 0)\n",
    "df['age_group_4'] = np.where(df['age_group_4'] == '45-54', 1, 0)\n",
    "df['age_group_5'] = np.where(df['age_group_5'] == '55-64', 1, 0)\n",
    "df['age_group_6'] = np.where(df['age_group_6'] == '65-74', 1, 0)\n",
    "df['age_group_7'] = np.where(df['age_group_7'] == '75 or over', 1, 0)"
   ]
  },
  {
   "cell_type": "code",
   "execution_count": 36,
   "metadata": {},
   "outputs": [
    {
     "data": {
      "text/html": [
       "<div>\n",
       "<style scoped>\n",
       "    .dataframe tbody tr th:only-of-type {\n",
       "        vertical-align: middle;\n",
       "    }\n",
       "\n",
       "    .dataframe tbody tr th {\n",
       "        vertical-align: top;\n",
       "    }\n",
       "\n",
       "    .dataframe thead th {\n",
       "        text-align: right;\n",
       "    }\n",
       "</style>\n",
       "<table border=\"1\" class=\"dataframe\">\n",
       "  <thead>\n",
       "    <tr style=\"text-align: right;\">\n",
       "      <th></th>\n",
       "      <th>Rdate</th>\n",
       "      <th>comment</th>\n",
       "      <th>condition</th>\n",
       "      <th>drug</th>\n",
       "      <th>easeofuse</th>\n",
       "      <th>effectiveness</th>\n",
       "      <th>helpful</th>\n",
       "      <th>reviewer</th>\n",
       "      <th>satisfaction</th>\n",
       "      <th>patient</th>\n",
       "      <th>...</th>\n",
       "      <th>treatment_period_5</th>\n",
       "      <th>treatment_period_6</th>\n",
       "      <th>treatment_period_7</th>\n",
       "      <th>age_group_1</th>\n",
       "      <th>age_group_2</th>\n",
       "      <th>age_group_3</th>\n",
       "      <th>age_group_4</th>\n",
       "      <th>age_group_5</th>\n",
       "      <th>age_group_6</th>\n",
       "      <th>age_group_7</th>\n",
       "    </tr>\n",
       "  </thead>\n",
       "  <tbody>\n",
       "    <tr>\n",
       "      <th>0</th>\n",
       "      <td>9/19/2007 9:03:53 AM</td>\n",
       "      <td>The medication has helped me keep my 2 month s...</td>\n",
       "      <td>Type 2 Diabetes Mellitus</td>\n",
       "      <td>metformin oral</td>\n",
       "      <td>5</td>\n",
       "      <td>4</td>\n",
       "      <td>22</td>\n",
       "      <td>bjorn, 65-74 Male  on Treatment for 2 to less ...</td>\n",
       "      <td>3</td>\n",
       "      <td>1</td>\n",
       "      <td>...</td>\n",
       "      <td>1</td>\n",
       "      <td>0</td>\n",
       "      <td>0</td>\n",
       "      <td>0</td>\n",
       "      <td>0</td>\n",
       "      <td>0</td>\n",
       "      <td>0</td>\n",
       "      <td>0</td>\n",
       "      <td>0</td>\n",
       "      <td>0</td>\n",
       "    </tr>\n",
       "    <tr>\n",
       "      <th>1</th>\n",
       "      <td>9/18/2007 11:18:23 AM</td>\n",
       "      <td>The medication has helped me keep my 2 month s...</td>\n",
       "      <td>Type 2 Diabetes Mellitus</td>\n",
       "      <td>metformin oral</td>\n",
       "      <td>5</td>\n",
       "      <td>4</td>\n",
       "      <td>22</td>\n",
       "      <td>cutie54, 45-54 Female  on Treatment for 1 to 6...</td>\n",
       "      <td>5</td>\n",
       "      <td>1</td>\n",
       "      <td>...</td>\n",
       "      <td>0</td>\n",
       "      <td>0</td>\n",
       "      <td>0</td>\n",
       "      <td>0</td>\n",
       "      <td>0</td>\n",
       "      <td>0</td>\n",
       "      <td>0</td>\n",
       "      <td>0</td>\n",
       "      <td>0</td>\n",
       "      <td>0</td>\n",
       "    </tr>\n",
       "    <tr>\n",
       "      <th>2</th>\n",
       "      <td>3/2/2015 7:26:37 PM</td>\n",
       "      <td>I have been taking Tanzeum for four weeks and ...</td>\n",
       "      <td>Type 2 Diabetes Mellitus</td>\n",
       "      <td>Tanzeum subcutaneous</td>\n",
       "      <td>5</td>\n",
       "      <td>5</td>\n",
       "      <td>15</td>\n",
       "      <td>65-74 Female  on Treatment for 1 to 6 months (...</td>\n",
       "      <td>5</td>\n",
       "      <td>1</td>\n",
       "      <td>...</td>\n",
       "      <td>0</td>\n",
       "      <td>0</td>\n",
       "      <td>0</td>\n",
       "      <td>0</td>\n",
       "      <td>0</td>\n",
       "      <td>0</td>\n",
       "      <td>0</td>\n",
       "      <td>0</td>\n",
       "      <td>0</td>\n",
       "      <td>0</td>\n",
       "    </tr>\n",
       "    <tr>\n",
       "      <th>3</th>\n",
       "      <td>1/4/2015 6:47:30 AM</td>\n",
       "      <td>I have been taking Tanzeum for four weeks and ...</td>\n",
       "      <td>Type 2 Diabetes Mellitus</td>\n",
       "      <td>Tanzeum subcutaneous</td>\n",
       "      <td>4</td>\n",
       "      <td>2</td>\n",
       "      <td>15</td>\n",
       "      <td>MarkW, 65-74 Male  on Treatment for 1 to 6 mon...</td>\n",
       "      <td>1</td>\n",
       "      <td>1</td>\n",
       "      <td>...</td>\n",
       "      <td>0</td>\n",
       "      <td>0</td>\n",
       "      <td>0</td>\n",
       "      <td>0</td>\n",
       "      <td>0</td>\n",
       "      <td>0</td>\n",
       "      <td>0</td>\n",
       "      <td>0</td>\n",
       "      <td>0</td>\n",
       "      <td>0</td>\n",
       "    </tr>\n",
       "    <tr>\n",
       "      <th>4</th>\n",
       "      <td>10/20/2014 3:13:21 PM</td>\n",
       "      <td>I have been taking Tanzeum for four weeks and ...</td>\n",
       "      <td>Type 2 Diabetes Mellitus</td>\n",
       "      <td>Tanzeum subcutaneous</td>\n",
       "      <td>5</td>\n",
       "      <td>5</td>\n",
       "      <td>15</td>\n",
       "      <td>Les, 55-64 Female  (Patient)</td>\n",
       "      <td>5</td>\n",
       "      <td>1</td>\n",
       "      <td>...</td>\n",
       "      <td>0</td>\n",
       "      <td>0</td>\n",
       "      <td>0</td>\n",
       "      <td>0</td>\n",
       "      <td>0</td>\n",
       "      <td>0</td>\n",
       "      <td>0</td>\n",
       "      <td>0</td>\n",
       "      <td>0</td>\n",
       "      <td>0</td>\n",
       "    </tr>\n",
       "  </tbody>\n",
       "</table>\n",
       "<p>5 rows × 27 columns</p>\n",
       "</div>"
      ],
      "text/plain": [
       "                   Rdate                                            comment  \\\n",
       "0   9/19/2007 9:03:53 AM  The medication has helped me keep my 2 month s...   \n",
       "1  9/18/2007 11:18:23 AM  The medication has helped me keep my 2 month s...   \n",
       "2    3/2/2015 7:26:37 PM  I have been taking Tanzeum for four weeks and ...   \n",
       "3    1/4/2015 6:47:30 AM  I have been taking Tanzeum for four weeks and ...   \n",
       "4  10/20/2014 3:13:21 PM  I have been taking Tanzeum for four weeks and ...   \n",
       "\n",
       "                  condition                  drug  easeofuse  effectiveness  \\\n",
       "0  Type 2 Diabetes Mellitus        metformin oral          5              4   \n",
       "1  Type 2 Diabetes Mellitus        metformin oral          5              4   \n",
       "2  Type 2 Diabetes Mellitus  Tanzeum subcutaneous          5              5   \n",
       "3  Type 2 Diabetes Mellitus  Tanzeum subcutaneous          4              2   \n",
       "4  Type 2 Diabetes Mellitus  Tanzeum subcutaneous          5              5   \n",
       "\n",
       "   helpful                                           reviewer  satisfaction  \\\n",
       "0       22  bjorn, 65-74 Male  on Treatment for 2 to less ...             3   \n",
       "1       22  cutie54, 45-54 Female  on Treatment for 1 to 6...             5   \n",
       "2       15  65-74 Female  on Treatment for 1 to 6 months (...             5   \n",
       "3       15  MarkW, 65-74 Male  on Treatment for 1 to 6 mon...             1   \n",
       "4       15                       Les, 55-64 Female  (Patient)             5   \n",
       "\n",
       "   patient  ...  treatment_period_5  treatment_period_6  treatment_period_7  \\\n",
       "0        1  ...                   1                   0                   0   \n",
       "1        1  ...                   0                   0                   0   \n",
       "2        1  ...                   0                   0                   0   \n",
       "3        1  ...                   0                   0                   0   \n",
       "4        1  ...                   0                   0                   0   \n",
       "\n",
       "   age_group_1  age_group_2  age_group_3  age_group_4  age_group_5  \\\n",
       "0            0            0            0            0            0   \n",
       "1            0            0            0            0            0   \n",
       "2            0            0            0            0            0   \n",
       "3            0            0            0            0            0   \n",
       "4            0            0            0            0            0   \n",
       "\n",
       "   age_group_6  age_group_7  \n",
       "0            0            0  \n",
       "1            0            0  \n",
       "2            0            0  \n",
       "3            0            0  \n",
       "4            0            0  \n",
       "\n",
       "[5 rows x 27 columns]"
      ]
     },
     "execution_count": 36,
     "metadata": {},
     "output_type": "execute_result"
    }
   ],
   "source": [
    "df.head()"
   ]
  },
  {
   "cell_type": "code",
   "execution_count": 37,
   "metadata": {},
   "outputs": [
    {
     "data": {
      "text/plain": [
       "Index(['Rdate', 'comment', 'condition', 'drug', 'easeofuse', 'effectiveness',\n",
       "       'helpful', 'reviewer', 'satisfaction', 'patient', 'caregiver', 'male',\n",
       "       'female', 'treatment_period_1', 'treatment_period_2',\n",
       "       'treatment_period_3', 'treatment_period_4', 'treatment_period_5',\n",
       "       'treatment_period_6', 'treatment_period_7', 'age_group_1',\n",
       "       'age_group_2', 'age_group_3', 'age_group_4', 'age_group_5',\n",
       "       'age_group_6', 'age_group_7'],\n",
       "      dtype='object')"
      ]
     },
     "execution_count": 37,
     "metadata": {},
     "output_type": "execute_result"
    }
   ],
   "source": [
    "df.columns"
   ]
  },
  {
   "cell_type": "code",
   "execution_count": 38,
   "metadata": {},
   "outputs": [],
   "source": [
    "df.to_csv('../data/cleaned/cleaned_df.csv', index = False)"
   ]
  }
 ],
 "metadata": {
  "interpreter": {
   "hash": "aee8b7b246df8f9039afb4144a1f6fd8d2ca17a180786b69acc140d282b71a49"
  },
  "kernelspec": {
   "display_name": "Python 3.10.2 64-bit",
   "language": "python",
   "name": "python3"
  },
  "language_info": {
   "codemirror_mode": {
    "name": "ipython",
    "version": 3
   },
   "file_extension": ".py",
   "mimetype": "text/x-python",
   "name": "python",
   "nbconvert_exporter": "python",
   "pygments_lexer": "ipython3",
   "version": "3.9.7"
  },
  "orig_nbformat": 4
 },
 "nbformat": 4,
 "nbformat_minor": 2
}
